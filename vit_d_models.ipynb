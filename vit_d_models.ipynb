{
 "cells": [
  {
   "cell_type": "code",
   "execution_count": 1,
   "metadata": {},
   "outputs": [],
   "source": [
    "import pandas as pd\n",
    "import numpy as np\n",
    "import matplotlib.pyplot as plt\n",
    "import seaborn as sns\n",
    "\n",
    "from sklearn.model_selection import train_test_split\n",
    "from sklearn.tree import DecisionTreeRegressor, plot_tree\n",
    "from sklearn.metrics import mean_squared_error, mean_absolute_error, root_mean_squared_error\n",
    "from tqdm import tqdm\n",
    "\n",
    "from sklearn.preprocessing import RobustScaler\n",
    "from sklearn.compose import ColumnTransformer\n",
    "from sklearn.preprocessing import PowerTransformer\n",
    "from sklearn.experimental import enable_iterative_imputer\n",
    "from sklearn.impute import SimpleImputer, KNNImputer, IterativeImputer\n",
    "from sklearn.model_selection import cross_val_score, cross_validate, cross_val_predict\n",
    "from sklearn.pipeline import make_pipeline\n",
    "from sklearn.model_selection import RepeatedKFold\n",
    "\n",
    "from sklearn.ensemble import RandomForestRegressor\n",
    "from sklearn.linear_model import LinearRegression\n",
    "from sklearn.feature_selection import RFE\n",
    "from sklearn.inspection import permutation_importance\n",
    "from sklearn.feature_selection import SelectFromModel\n",
    "from sklearn.linear_model import Lasso\n",
    "from sklearn.linear_model import Ridge\n",
    "from sklearn.model_selection import GridSearchCV\n",
    "from sklearn.pipeline import Pipeline\n",
    "from sklearn.metrics import r2_score\n",
    "from sklearn.metrics import PredictionErrorDisplay\n",
    "from sklearn.ensemble import RandomForestClassifier\n",
    "from sklearn.preprocessing import OneHotEncoder\n",
    "\n",
    "from textwrap import wrap\n",
    "\n",
    "from main.components.scaler import Scaler\n",
    "from main.components.imputer import Imputer\n",
    "from main.components.one_hot_encoder import CustomOneHotEncoder\n",
    "from main.constants import CATEGORICAL_ATTRIBUTES, CONTINUOUS_ATTRIBUTES, IGF, PROLACTIN, VITAMINE_D, PCO\n",
    "from main.components.preprocessing_methods import get_continuous_attributes_except, explore_all_variations_of_preprocessing\n",
    "from main.components.hyperparameter_tuning_methods import hyperparameter_tuning_general, hyperparameter_tuning_linear\n",
    "\n",
    "\n",
    "pd.set_option('display.max_columns', None) # enable showing all columns of the df\n",
    "pd.set_option('display.max_rows', None)\n",
    "pd.set_option(\"display.expand_frame_repr\", True)\n",
    "pd.set_option('display.width', 1000)\n",
    "pd.set_option('display.max_colwidth', None)\n"
   ]
  },
  {
   "cell_type": "code",
   "execution_count": 2,
   "metadata": {},
   "outputs": [
    {
     "data": {
      "text/html": [
       "<div>\n",
       "<style scoped>\n",
       "    .dataframe tbody tr th:only-of-type {\n",
       "        vertical-align: middle;\n",
       "    }\n",
       "\n",
       "    .dataframe tbody tr th {\n",
       "        vertical-align: top;\n",
       "    }\n",
       "\n",
       "    .dataframe thead th {\n",
       "        text-align: right;\n",
       "    }\n",
       "</style>\n",
       "<table border=\"1\" class=\"dataframe\">\n",
       "  <thead>\n",
       "    <tr style=\"text-align: right;\">\n",
       "      <th></th>\n",
       "      <th>PCO 0-healthy control, 1-PCOS, 2-FHA 3-POF, 4-High Andro</th>\n",
       "      <th>IGF-1 ng/ml (N: 100-311)</th>\n",
       "      <th>proBNP</th>\n",
       "      <th>AMH (ng/ml) *7,14=pmol/l</th>\n",
       "      <th>weight</th>\n",
       "      <th>height (cm)</th>\n",
       "      <th>BMI</th>\n",
       "      <th>systolic BP (ciśnienie skurczowe)</th>\n",
       "      <th>diastolic BP (ciśnienie rozskurczowe)</th>\n",
       "      <th>Hypertension</th>\n",
       "      <th>Waist Circumference (WC)</th>\n",
       "      <th>WC&gt;88</th>\n",
       "      <th>Hip Circumference (HC)</th>\n",
       "      <th>WHR (Waist/Hip ratio)</th>\n",
       "      <th>WHR&gt;0,85 (WHO)</th>\n",
       "      <th>WHR&gt;0,8 (NIDDK)</th>\n",
       "      <th>WHTR (Waist/Height Ratio)</th>\n",
       "      <th>WHTR&gt;0,5</th>\n",
       "      <th>overweight/obesity 0-normal/low, 1-overweight, 2-obesity</th>\n",
       "      <th>irregular cycles (0-nie, 1-tak)</th>\n",
       "      <th>ovulation (0-brak, 1-obecna)</th>\n",
       "      <th>PCO ovary morfology in USG (0-brak, 1--obecna)</th>\n",
       "      <th>stromal hypertrophy in ovary (0-brak, 1-obecny)</th>\n",
       "      <th>acne</th>\n",
       "      <th>hirsutism</th>\n",
       "      <th>FG score (Ferriman-Gallway score - stopień androgenizacji)</th>\n",
       "      <th>hyperandrogenism</th>\n",
       "      <th>hypothyroidism</th>\n",
       "      <th>Volume of the thyroid  Right Lobe</th>\n",
       "      <th>Volume of the thyroid  Left Lobe</th>\n",
       "      <th>thyroid volume</th>\n",
       "      <th>nodules 0-lack, 1-RL,  2-LL, 3-both</th>\n",
       "      <th>chronic thyroiditis</th>\n",
       "      <th>Vole of the Right Ovary</th>\n",
       "      <th>Volume of the  Left Ovary</th>\n",
       "      <th>ovaries volume - total</th>\n",
       "      <th>follicules &gt;12</th>\n",
       "      <th>hyperlipidemia</th>\n",
       "      <th>elevated LDL and TG</th>\n",
       "      <th>WBC x10^3/ul</th>\n",
       "      <th>neutrophil x10^3/ul</th>\n",
       "      <th>lymphocytes x10^3/ul</th>\n",
       "      <th>monocytes x10^3/ul</th>\n",
       "      <th>eosinocytes x10^3/ul</th>\n",
       "      <th>basophils x10^3/ul</th>\n",
       "      <th>% neutrophil</th>\n",
       "      <th>% lymphocytes</th>\n",
       "      <th>% monocytes</th>\n",
       "      <th>%eosinocytes</th>\n",
       "      <th>%basophils</th>\n",
       "      <th>RBC x10^6ul</th>\n",
       "      <th>Hemoglobin [g/dl]</th>\n",
       "      <th>hematocrit [%]</th>\n",
       "      <th>HTC/Hb</th>\n",
       "      <th>MCV fl</th>\n",
       "      <th>MCH pg</th>\n",
       "      <th>MCHC g/dl</th>\n",
       "      <th>RDW-CV %</th>\n",
       "      <th>NRBC x10^3/ul</th>\n",
       "      <th>PLT x10^3/ul</th>\n",
       "      <th>PDW fl</th>\n",
       "      <th>MPV fl</th>\n",
       "      <th>P-LCR %</th>\n",
       "      <th>PLT/WBC</th>\n",
       "      <th>MPV/PLT</th>\n",
       "      <th>PLR</th>\n",
       "      <th>limf/mono</th>\n",
       "      <th>NLR (stosunek neutrofili do limfocytów)</th>\n",
       "      <th>L/WCC (leukocyty do całkowitej liczby krwinek białych)</th>\n",
       "      <th>eos/leukocyty</th>\n",
       "      <th>sodium mmol/l</th>\n",
       "      <th>potassium mmol/l</th>\n",
       "      <th>calcium mg/dl</th>\n",
       "      <th>phosphorus mg/dl</th>\n",
       "      <th>creatinine mg/dl</th>\n",
       "      <th>CRP mg/l</th>\n",
       "      <th>ALT U/l</th>\n",
       "      <th>AST U/l</th>\n",
       "      <th>Bilirubin mg/dl</th>\n",
       "      <th>CHOL mg/dl</th>\n",
       "      <th>CHOL mmol/l</th>\n",
       "      <th>CHOL&gt;200</th>\n",
       "      <th>HDL mg/dl</th>\n",
       "      <th>HDL mmol/l</th>\n",
       "      <th>HDL&lt;50</th>\n",
       "      <th>LDL mg/dl</th>\n",
       "      <th>LDL mmol/l</th>\n",
       "      <th>LDL&gt;135</th>\n",
       "      <th>TG</th>\n",
       "      <th>TG mmol/l</th>\n",
       "      <th>TG&gt;150</th>\n",
       "      <th>Atherogenic index (AI) (LDL-C/HDL-C)</th>\n",
       "      <th>coronary risk index (CRI) (TG/HDL-C)</th>\n",
       "      <th>VAI - Visceral adiposity index</th>\n",
       "      <th>BAI - Body adiposity index</th>\n",
       "      <th>LAP INDEX - Lipid accumulation product index</th>\n",
       "      <th>TyG Index - Trigliceride-glucose index</th>\n",
       "      <th>AIP -Atherogenic index of plasma</th>\n",
       "      <th>UIBC ug/dl</th>\n",
       "      <th>ferrum ug/dl</th>\n",
       "      <th>TIBC</th>\n",
       "      <th>TSAT</th>\n",
       "      <th>ferritin ng/ml</th>\n",
       "      <th>glucose 0 mg/dl</th>\n",
       "      <th>glucose  120 mg/dl</th>\n",
       "      <th>insulin 0 uU/ml</th>\n",
       "      <th>Insulin 120 uU/ml</th>\n",
       "      <th>HOMA</th>\n",
       "      <th>Matsuda</th>\n",
       "      <th>QUICKI (N&lt;0,357)</th>\n",
       "      <th>Impaired Fasting Glucose</th>\n",
       "      <th>Impaired Glucose Tolerance</th>\n",
       "      <th>TSH mIU/L</th>\n",
       "      <th>FT3 pmol/l</th>\n",
       "      <th>FT4 pmol/l</th>\n",
       "      <th>Anty-TPO IU/ml</th>\n",
       "      <th>Anty-TG IU/ml</th>\n",
       "      <th>FSH mlU/ml</th>\n",
       "      <th>LH</th>\n",
       "      <th>LH/FSH</th>\n",
       "      <th>prolactin</th>\n",
       "      <th>DHEA-S ug/dl</th>\n",
       "      <th>testosterone nmol/l</th>\n",
       "      <th>T (ng/ml)</th>\n",
       "      <th>T/SHBG</th>\n",
       "      <th>E(pg/ml)/T(ng/ml)/</th>\n",
       "      <th>Parathormone pg/ml</th>\n",
       "      <th>cortisol nmol/l  8:00</th>\n",
       "      <th>cortisol nmol/l 18:00</th>\n",
       "      <th>Estradiol pg/ml</th>\n",
       "      <th>SHBG nmol/l</th>\n",
       "      <th>FTI (free testosterone index)</th>\n",
       "      <th>ACTH pg/ml</th>\n",
       "      <th>HbA1c %</th>\n",
       "      <th>vitamin 25-OH D ng/ml</th>\n",
       "      <th>Androstendione ng/ml</th>\n",
       "      <th>17-OH-progesterone ng/ml</th>\n",
       "      <th>Dihydrotestosterone pg/ml (N&lt;368)</th>\n",
       "      <th>Testosterone/DHT</th>\n",
       "      <th>T/A (testosterone/androstendione)</th>\n",
       "      <th>month of birth</th>\n",
       "      <th>quarter of the year</th>\n",
       "      <th>age</th>\n",
       "    </tr>\n",
       "  </thead>\n",
       "  <tbody>\n",
       "    <tr>\n",
       "      <th>721</th>\n",
       "      <td>1</td>\n",
       "      <td>295.0</td>\n",
       "      <td>NaN</td>\n",
       "      <td>NaN</td>\n",
       "      <td>64.0</td>\n",
       "      <td>176.0</td>\n",
       "      <td>20.661157</td>\n",
       "      <td>107.0</td>\n",
       "      <td>68.0</td>\n",
       "      <td>0.0</td>\n",
       "      <td>79.0</td>\n",
       "      <td>0.0</td>\n",
       "      <td>84.0</td>\n",
       "      <td>0.940476</td>\n",
       "      <td>1.0</td>\n",
       "      <td>1.0</td>\n",
       "      <td>0.448864</td>\n",
       "      <td>0.0</td>\n",
       "      <td>0.0</td>\n",
       "      <td>1.0</td>\n",
       "      <td>NaN</td>\n",
       "      <td>NaN</td>\n",
       "      <td>NaN</td>\n",
       "      <td>1.0</td>\n",
       "      <td>0.0</td>\n",
       "      <td>2.0</td>\n",
       "      <td>NaN</td>\n",
       "      <td>0.0</td>\n",
       "      <td>6.6640</td>\n",
       "      <td>5.152</td>\n",
       "      <td>11.8160</td>\n",
       "      <td>0.0</td>\n",
       "      <td>0.0</td>\n",
       "      <td>NaN</td>\n",
       "      <td>NaN</td>\n",
       "      <td>NaN</td>\n",
       "      <td>NaN</td>\n",
       "      <td>0.0</td>\n",
       "      <td>0.0</td>\n",
       "      <td>5.03</td>\n",
       "      <td>3.06</td>\n",
       "      <td>1.51</td>\n",
       "      <td>0.25</td>\n",
       "      <td>0.14</td>\n",
       "      <td>0.07</td>\n",
       "      <td>60.8</td>\n",
       "      <td>30.0</td>\n",
       "      <td>5.0</td>\n",
       "      <td>2.8</td>\n",
       "      <td>1.4</td>\n",
       "      <td>4.76</td>\n",
       "      <td>12.7</td>\n",
       "      <td>37.1</td>\n",
       "      <td>2.921260</td>\n",
       "      <td>77.9</td>\n",
       "      <td>26.7</td>\n",
       "      <td>34.2</td>\n",
       "      <td>12.8</td>\n",
       "      <td>0.0</td>\n",
       "      <td>247.0</td>\n",
       "      <td>12.4</td>\n",
       "      <td>10.5</td>\n",
       "      <td>29.6</td>\n",
       "      <td>49.105368</td>\n",
       "      <td>0.042510</td>\n",
       "      <td>163.576159</td>\n",
       "      <td>6.040000</td>\n",
       "      <td>2.026490</td>\n",
       "      <td>0.300199</td>\n",
       "      <td>0.027833</td>\n",
       "      <td>144.0</td>\n",
       "      <td>4.18</td>\n",
       "      <td>9.37</td>\n",
       "      <td>4.11</td>\n",
       "      <td>0.77</td>\n",
       "      <td>0.4</td>\n",
       "      <td>15.0</td>\n",
       "      <td>20.0</td>\n",
       "      <td>0.29</td>\n",
       "      <td>184.0</td>\n",
       "      <td>4.75824</td>\n",
       "      <td>0.0</td>\n",
       "      <td>70.0</td>\n",
       "      <td>1.81020</td>\n",
       "      <td>0.0</td>\n",
       "      <td>104.4</td>\n",
       "      <td>2.699784</td>\n",
       "      <td>0.0</td>\n",
       "      <td>47.0</td>\n",
       "      <td>0.53063</td>\n",
       "      <td>0.0</td>\n",
       "      <td>1.491429</td>\n",
       "      <td>0.671429</td>\n",
       "      <td>0.574591</td>\n",
       "      <td>29.727273</td>\n",
       "      <td>11.14323</td>\n",
       "      <td>4.174979</td>\n",
       "      <td>-0.173000</td>\n",
       "      <td>267.0</td>\n",
       "      <td>97.0</td>\n",
       "      <td>363.0</td>\n",
       "      <td>27.0</td>\n",
       "      <td>18.0</td>\n",
       "      <td>90.0</td>\n",
       "      <td>90.0</td>\n",
       "      <td>5.07</td>\n",
       "      <td>38.67</td>\n",
       "      <td>1.126667</td>\n",
       "      <td>10.55</td>\n",
       "      <td>0.376046</td>\n",
       "      <td>0.0</td>\n",
       "      <td>0.0</td>\n",
       "      <td>3.19</td>\n",
       "      <td>4.86</td>\n",
       "      <td>14.00</td>\n",
       "      <td>13.0</td>\n",
       "      <td>10.0</td>\n",
       "      <td>5.2</td>\n",
       "      <td>14.4</td>\n",
       "      <td>2.769231</td>\n",
       "      <td>262.0</td>\n",
       "      <td>297.0</td>\n",
       "      <td>1.7</td>\n",
       "      <td>0.489914</td>\n",
       "      <td>0.012364</td>\n",
       "      <td>124.511764</td>\n",
       "      <td>35.22</td>\n",
       "      <td>463.0</td>\n",
       "      <td>NaN</td>\n",
       "      <td>61.0</td>\n",
       "      <td>137.5</td>\n",
       "      <td>1.21</td>\n",
       "      <td>16.97</td>\n",
       "      <td>4.9</td>\n",
       "      <td>25.0</td>\n",
       "      <td>NaN</td>\n",
       "      <td>NaN</td>\n",
       "      <td>NaN</td>\n",
       "      <td>NaN</td>\n",
       "      <td>NaN</td>\n",
       "      <td>4.0</td>\n",
       "      <td>2.0</td>\n",
       "      <td>31.0</td>\n",
       "    </tr>\n",
       "    <tr>\n",
       "      <th>349</th>\n",
       "      <td>1</td>\n",
       "      <td>236.0</td>\n",
       "      <td>23.35</td>\n",
       "      <td>22.969188</td>\n",
       "      <td>55.5</td>\n",
       "      <td>171.0</td>\n",
       "      <td>18.980199</td>\n",
       "      <td>126.0</td>\n",
       "      <td>75.0</td>\n",
       "      <td>0.0</td>\n",
       "      <td>65.0</td>\n",
       "      <td>0.0</td>\n",
       "      <td>85.0</td>\n",
       "      <td>0.764706</td>\n",
       "      <td>0.0</td>\n",
       "      <td>0.0</td>\n",
       "      <td>0.380117</td>\n",
       "      <td>0.0</td>\n",
       "      <td>0.0</td>\n",
       "      <td>1.0</td>\n",
       "      <td>0.0</td>\n",
       "      <td>1.0</td>\n",
       "      <td>0.0</td>\n",
       "      <td>0.0</td>\n",
       "      <td>0.0</td>\n",
       "      <td>3.0</td>\n",
       "      <td>1.0</td>\n",
       "      <td>0.0</td>\n",
       "      <td>5.3580</td>\n",
       "      <td>5.600</td>\n",
       "      <td>10.9580</td>\n",
       "      <td>0.0</td>\n",
       "      <td>0.0</td>\n",
       "      <td>21.8100</td>\n",
       "      <td>34.22</td>\n",
       "      <td>56.0300</td>\n",
       "      <td>1.0</td>\n",
       "      <td>0.0</td>\n",
       "      <td>0.0</td>\n",
       "      <td>6.03</td>\n",
       "      <td>3.90</td>\n",
       "      <td>1.65</td>\n",
       "      <td>0.35</td>\n",
       "      <td>0.05</td>\n",
       "      <td>0.08</td>\n",
       "      <td>64.7</td>\n",
       "      <td>27.4</td>\n",
       "      <td>5.8</td>\n",
       "      <td>0.8</td>\n",
       "      <td>1.3</td>\n",
       "      <td>3.91</td>\n",
       "      <td>12.7</td>\n",
       "      <td>37.6</td>\n",
       "      <td>2.960630</td>\n",
       "      <td>96.2</td>\n",
       "      <td>32.5</td>\n",
       "      <td>33.8</td>\n",
       "      <td>11.8</td>\n",
       "      <td>0.0</td>\n",
       "      <td>228.0</td>\n",
       "      <td>16.4</td>\n",
       "      <td>12.1</td>\n",
       "      <td>42.6</td>\n",
       "      <td>37.810945</td>\n",
       "      <td>0.053070</td>\n",
       "      <td>138.181818</td>\n",
       "      <td>4.714286</td>\n",
       "      <td>2.363636</td>\n",
       "      <td>0.273632</td>\n",
       "      <td>0.008292</td>\n",
       "      <td>143.0</td>\n",
       "      <td>4.10</td>\n",
       "      <td>9.78</td>\n",
       "      <td>3.19</td>\n",
       "      <td>0.61</td>\n",
       "      <td>0.3</td>\n",
       "      <td>19.0</td>\n",
       "      <td>19.0</td>\n",
       "      <td>0.31</td>\n",
       "      <td>179.0</td>\n",
       "      <td>4.62894</td>\n",
       "      <td>0.0</td>\n",
       "      <td>100.0</td>\n",
       "      <td>2.58600</td>\n",
       "      <td>0.0</td>\n",
       "      <td>66.7</td>\n",
       "      <td>1.724862</td>\n",
       "      <td>0.0</td>\n",
       "      <td>60.0</td>\n",
       "      <td>0.67740</td>\n",
       "      <td>0.0</td>\n",
       "      <td>0.667000</td>\n",
       "      <td>0.600000</td>\n",
       "      <td>0.440996</td>\n",
       "      <td>31.707602</td>\n",
       "      <td>4.74180</td>\n",
       "      <td>4.250532</td>\n",
       "      <td>-0.221849</td>\n",
       "      <td>243.0</td>\n",
       "      <td>96.0</td>\n",
       "      <td>339.0</td>\n",
       "      <td>28.0</td>\n",
       "      <td>13.0</td>\n",
       "      <td>82.0</td>\n",
       "      <td>87.0</td>\n",
       "      <td>4.92</td>\n",
       "      <td>31.46</td>\n",
       "      <td>0.996148</td>\n",
       "      <td>9.51</td>\n",
       "      <td>0.383762</td>\n",
       "      <td>0.0</td>\n",
       "      <td>0.0</td>\n",
       "      <td>2.28</td>\n",
       "      <td>4.40</td>\n",
       "      <td>13.41</td>\n",
       "      <td>8.0</td>\n",
       "      <td>29.0</td>\n",
       "      <td>4.2</td>\n",
       "      <td>16.8</td>\n",
       "      <td>4.000000</td>\n",
       "      <td>291.0</td>\n",
       "      <td>278.0</td>\n",
       "      <td>2.4</td>\n",
       "      <td>0.691643</td>\n",
       "      <td>0.026230</td>\n",
       "      <td>67.954166</td>\n",
       "      <td>37.21</td>\n",
       "      <td>295.0</td>\n",
       "      <td>154.0</td>\n",
       "      <td>47.0</td>\n",
       "      <td>91.5</td>\n",
       "      <td>2.59</td>\n",
       "      <td>40.51</td>\n",
       "      <td>4.9</td>\n",
       "      <td>5.0</td>\n",
       "      <td>5.44</td>\n",
       "      <td>2.66</td>\n",
       "      <td>324.0</td>\n",
       "      <td>0.007407</td>\n",
       "      <td>0.441176</td>\n",
       "      <td>11.0</td>\n",
       "      <td>4.0</td>\n",
       "      <td>28.0</td>\n",
       "    </tr>\n",
       "    <tr>\n",
       "      <th>531</th>\n",
       "      <td>1</td>\n",
       "      <td>267.0</td>\n",
       "      <td>73.72</td>\n",
       "      <td>12.050000</td>\n",
       "      <td>63.0</td>\n",
       "      <td>169.0</td>\n",
       "      <td>22.058051</td>\n",
       "      <td>107.0</td>\n",
       "      <td>66.0</td>\n",
       "      <td>0.0</td>\n",
       "      <td>71.0</td>\n",
       "      <td>0.0</td>\n",
       "      <td>85.0</td>\n",
       "      <td>0.835294</td>\n",
       "      <td>0.0</td>\n",
       "      <td>1.0</td>\n",
       "      <td>0.420118</td>\n",
       "      <td>0.0</td>\n",
       "      <td>0.0</td>\n",
       "      <td>1.0</td>\n",
       "      <td>1.0</td>\n",
       "      <td>1.0</td>\n",
       "      <td>0.0</td>\n",
       "      <td>0.0</td>\n",
       "      <td>1.0</td>\n",
       "      <td>16.0</td>\n",
       "      <td>1.0</td>\n",
       "      <td>0.0</td>\n",
       "      <td>6.6215</td>\n",
       "      <td>11.150</td>\n",
       "      <td>17.7715</td>\n",
       "      <td>0.0</td>\n",
       "      <td>0.0</td>\n",
       "      <td>5.1984</td>\n",
       "      <td>11.15</td>\n",
       "      <td>16.3484</td>\n",
       "      <td>1.0</td>\n",
       "      <td>0.0</td>\n",
       "      <td>0.0</td>\n",
       "      <td>4.81</td>\n",
       "      <td>2.59</td>\n",
       "      <td>1.67</td>\n",
       "      <td>0.35</td>\n",
       "      <td>0.14</td>\n",
       "      <td>0.06</td>\n",
       "      <td>53.9</td>\n",
       "      <td>34.7</td>\n",
       "      <td>7.3</td>\n",
       "      <td>2.9</td>\n",
       "      <td>1.2</td>\n",
       "      <td>4.63</td>\n",
       "      <td>13.1</td>\n",
       "      <td>39.4</td>\n",
       "      <td>3.007634</td>\n",
       "      <td>85.1</td>\n",
       "      <td>28.3</td>\n",
       "      <td>33.2</td>\n",
       "      <td>12.8</td>\n",
       "      <td>0.0</td>\n",
       "      <td>280.0</td>\n",
       "      <td>11.2</td>\n",
       "      <td>10.1</td>\n",
       "      <td>25.0</td>\n",
       "      <td>58.212058</td>\n",
       "      <td>0.036071</td>\n",
       "      <td>167.664671</td>\n",
       "      <td>4.771429</td>\n",
       "      <td>1.550898</td>\n",
       "      <td>0.347193</td>\n",
       "      <td>0.029106</td>\n",
       "      <td>144.0</td>\n",
       "      <td>4.49</td>\n",
       "      <td>9.83</td>\n",
       "      <td>3.84</td>\n",
       "      <td>0.76</td>\n",
       "      <td>0.4</td>\n",
       "      <td>23.0</td>\n",
       "      <td>18.0</td>\n",
       "      <td>0.44</td>\n",
       "      <td>188.0</td>\n",
       "      <td>4.86168</td>\n",
       "      <td>0.0</td>\n",
       "      <td>66.0</td>\n",
       "      <td>1.70676</td>\n",
       "      <td>0.0</td>\n",
       "      <td>107.4</td>\n",
       "      <td>2.777364</td>\n",
       "      <td>0.0</td>\n",
       "      <td>73.0</td>\n",
       "      <td>0.82417</td>\n",
       "      <td>0.0</td>\n",
       "      <td>1.627273</td>\n",
       "      <td>1.106061</td>\n",
       "      <td>0.821992</td>\n",
       "      <td>32.295858</td>\n",
       "      <td>10.71421</td>\n",
       "      <td>4.366555</td>\n",
       "      <td>0.043779</td>\n",
       "      <td>177.0</td>\n",
       "      <td>144.0</td>\n",
       "      <td>321.0</td>\n",
       "      <td>45.0</td>\n",
       "      <td>46.0</td>\n",
       "      <td>85.0</td>\n",
       "      <td>73.0</td>\n",
       "      <td>6.50</td>\n",
       "      <td>23.55</td>\n",
       "      <td>1.364198</td>\n",
       "      <td>12.34</td>\n",
       "      <td>0.364653</td>\n",
       "      <td>0.0</td>\n",
       "      <td>0.0</td>\n",
       "      <td>2.28</td>\n",
       "      <td>5.65</td>\n",
       "      <td>15.43</td>\n",
       "      <td>12.0</td>\n",
       "      <td>10.0</td>\n",
       "      <td>4.5</td>\n",
       "      <td>5.3</td>\n",
       "      <td>1.177778</td>\n",
       "      <td>448.0</td>\n",
       "      <td>361.0</td>\n",
       "      <td>2.0</td>\n",
       "      <td>0.576369</td>\n",
       "      <td>0.031797</td>\n",
       "      <td>60.725000</td>\n",
       "      <td>26.46</td>\n",
       "      <td>351.0</td>\n",
       "      <td>148.0</td>\n",
       "      <td>35.0</td>\n",
       "      <td>62.9</td>\n",
       "      <td>3.23</td>\n",
       "      <td>24.01</td>\n",
       "      <td>4.5</td>\n",
       "      <td>29.0</td>\n",
       "      <td>3.95</td>\n",
       "      <td>2.46</td>\n",
       "      <td>504.0</td>\n",
       "      <td>0.003968</td>\n",
       "      <td>0.506329</td>\n",
       "      <td>7.0</td>\n",
       "      <td>3.0</td>\n",
       "      <td>29.0</td>\n",
       "    </tr>\n",
       "    <tr>\n",
       "      <th>30</th>\n",
       "      <td>0</td>\n",
       "      <td>321.0</td>\n",
       "      <td>51.01</td>\n",
       "      <td>1.008403</td>\n",
       "      <td>96.0</td>\n",
       "      <td>162.0</td>\n",
       "      <td>36.579790</td>\n",
       "      <td>118.0</td>\n",
       "      <td>68.0</td>\n",
       "      <td>0.0</td>\n",
       "      <td>103.0</td>\n",
       "      <td>1.0</td>\n",
       "      <td>108.0</td>\n",
       "      <td>0.953704</td>\n",
       "      <td>1.0</td>\n",
       "      <td>1.0</td>\n",
       "      <td>0.635802</td>\n",
       "      <td>1.0</td>\n",
       "      <td>2.0</td>\n",
       "      <td>1.0</td>\n",
       "      <td>1.0</td>\n",
       "      <td>0.0</td>\n",
       "      <td>0.0</td>\n",
       "      <td>0.0</td>\n",
       "      <td>1.0</td>\n",
       "      <td>15.0</td>\n",
       "      <td>0.0</td>\n",
       "      <td>0.0</td>\n",
       "      <td>7.2600</td>\n",
       "      <td>7.182</td>\n",
       "      <td>14.4420</td>\n",
       "      <td>0.0</td>\n",
       "      <td>1.0</td>\n",
       "      <td>7.0400</td>\n",
       "      <td>4.54</td>\n",
       "      <td>11.5800</td>\n",
       "      <td>0.0</td>\n",
       "      <td>0.0</td>\n",
       "      <td>0.0</td>\n",
       "      <td>5.19</td>\n",
       "      <td>3.19</td>\n",
       "      <td>1.48</td>\n",
       "      <td>0.39</td>\n",
       "      <td>0.08</td>\n",
       "      <td>0.05</td>\n",
       "      <td>31.5</td>\n",
       "      <td>28.5</td>\n",
       "      <td>7.5</td>\n",
       "      <td>1.5</td>\n",
       "      <td>1.0</td>\n",
       "      <td>4.42</td>\n",
       "      <td>13.9</td>\n",
       "      <td>39.9</td>\n",
       "      <td>2.870504</td>\n",
       "      <td>90.3</td>\n",
       "      <td>31.4</td>\n",
       "      <td>34.8</td>\n",
       "      <td>13.1</td>\n",
       "      <td>0.0</td>\n",
       "      <td>256.0</td>\n",
       "      <td>11.1</td>\n",
       "      <td>9.9</td>\n",
       "      <td>23.6</td>\n",
       "      <td>49.325626</td>\n",
       "      <td>0.038672</td>\n",
       "      <td>172.972973</td>\n",
       "      <td>3.794872</td>\n",
       "      <td>2.155405</td>\n",
       "      <td>0.285164</td>\n",
       "      <td>0.015414</td>\n",
       "      <td>143.0</td>\n",
       "      <td>4.30</td>\n",
       "      <td>8.88</td>\n",
       "      <td>2.81</td>\n",
       "      <td>0.85</td>\n",
       "      <td>2.7</td>\n",
       "      <td>20.0</td>\n",
       "      <td>20.0</td>\n",
       "      <td>0.21</td>\n",
       "      <td>182.0</td>\n",
       "      <td>4.70652</td>\n",
       "      <td>0.0</td>\n",
       "      <td>44.0</td>\n",
       "      <td>1.13784</td>\n",
       "      <td>1.0</td>\n",
       "      <td>111.3</td>\n",
       "      <td>2.878218</td>\n",
       "      <td>0.0</td>\n",
       "      <td>134.0</td>\n",
       "      <td>1.51286</td>\n",
       "      <td>0.0</td>\n",
       "      <td>2.529545</td>\n",
       "      <td>3.045455</td>\n",
       "      <td>2.430935</td>\n",
       "      <td>48.666667</td>\n",
       "      <td>68.07870</td>\n",
       "      <td>4.687588</td>\n",
       "      <td>0.483652</td>\n",
       "      <td>231.0</td>\n",
       "      <td>56.0</td>\n",
       "      <td>286.0</td>\n",
       "      <td>19.0</td>\n",
       "      <td>35.0</td>\n",
       "      <td>88.0</td>\n",
       "      <td>92.0</td>\n",
       "      <td>20.77</td>\n",
       "      <td>27.52</td>\n",
       "      <td>4.512988</td>\n",
       "      <td>4.64</td>\n",
       "      <td>0.306568</td>\n",
       "      <td>0.0</td>\n",
       "      <td>0.0</td>\n",
       "      <td>2.80</td>\n",
       "      <td>5.42</td>\n",
       "      <td>15.47</td>\n",
       "      <td>123.0</td>\n",
       "      <td>68.0</td>\n",
       "      <td>4.9</td>\n",
       "      <td>3.4</td>\n",
       "      <td>0.693878</td>\n",
       "      <td>237.0</td>\n",
       "      <td>203.0</td>\n",
       "      <td>1.1</td>\n",
       "      <td>0.317003</td>\n",
       "      <td>0.044715</td>\n",
       "      <td>116.718181</td>\n",
       "      <td>50.19</td>\n",
       "      <td>377.0</td>\n",
       "      <td>353.0</td>\n",
       "      <td>37.0</td>\n",
       "      <td>24.6</td>\n",
       "      <td>4.48</td>\n",
       "      <td>18.80</td>\n",
       "      <td>5.5</td>\n",
       "      <td>25.0</td>\n",
       "      <td>2.45</td>\n",
       "      <td>1.42</td>\n",
       "      <td>265.0</td>\n",
       "      <td>0.004151</td>\n",
       "      <td>0.448980</td>\n",
       "      <td>10.0</td>\n",
       "      <td>4.0</td>\n",
       "      <td>33.0</td>\n",
       "    </tr>\n",
       "    <tr>\n",
       "      <th>724</th>\n",
       "      <td>1</td>\n",
       "      <td>180.0</td>\n",
       "      <td>8.48</td>\n",
       "      <td>4.278711</td>\n",
       "      <td>56.0</td>\n",
       "      <td>169.0</td>\n",
       "      <td>19.607157</td>\n",
       "      <td>131.0</td>\n",
       "      <td>89.0</td>\n",
       "      <td>0.0</td>\n",
       "      <td>68.0</td>\n",
       "      <td>0.0</td>\n",
       "      <td>80.0</td>\n",
       "      <td>0.850000</td>\n",
       "      <td>0.0</td>\n",
       "      <td>1.0</td>\n",
       "      <td>0.402367</td>\n",
       "      <td>0.0</td>\n",
       "      <td>0.0</td>\n",
       "      <td>1.0</td>\n",
       "      <td>0.0</td>\n",
       "      <td>1.0</td>\n",
       "      <td>0.0</td>\n",
       "      <td>0.0</td>\n",
       "      <td>1.0</td>\n",
       "      <td>18.0</td>\n",
       "      <td>0.0</td>\n",
       "      <td>0.0</td>\n",
       "      <td>9.0720</td>\n",
       "      <td>5.712</td>\n",
       "      <td>14.7840</td>\n",
       "      <td>0.0</td>\n",
       "      <td>1.0</td>\n",
       "      <td>13.4300</td>\n",
       "      <td>10.27</td>\n",
       "      <td>23.7000</td>\n",
       "      <td>0.0</td>\n",
       "      <td>0.0</td>\n",
       "      <td>0.0</td>\n",
       "      <td>5.15</td>\n",
       "      <td>2.68</td>\n",
       "      <td>1.87</td>\n",
       "      <td>0.36</td>\n",
       "      <td>0.20</td>\n",
       "      <td>0.04</td>\n",
       "      <td>52.0</td>\n",
       "      <td>36.3</td>\n",
       "      <td>7.0</td>\n",
       "      <td>3.9</td>\n",
       "      <td>0.8</td>\n",
       "      <td>4.56</td>\n",
       "      <td>14.1</td>\n",
       "      <td>40.8</td>\n",
       "      <td>2.893617</td>\n",
       "      <td>89.5</td>\n",
       "      <td>30.9</td>\n",
       "      <td>34.6</td>\n",
       "      <td>11.9</td>\n",
       "      <td>0.0</td>\n",
       "      <td>230.0</td>\n",
       "      <td>11.2</td>\n",
       "      <td>10.4</td>\n",
       "      <td>27.9</td>\n",
       "      <td>44.660194</td>\n",
       "      <td>0.045217</td>\n",
       "      <td>122.994652</td>\n",
       "      <td>5.194444</td>\n",
       "      <td>1.433155</td>\n",
       "      <td>0.363107</td>\n",
       "      <td>0.038835</td>\n",
       "      <td>144.0</td>\n",
       "      <td>3.82</td>\n",
       "      <td>9.49</td>\n",
       "      <td>3.86</td>\n",
       "      <td>0.60</td>\n",
       "      <td>1.3</td>\n",
       "      <td>30.0</td>\n",
       "      <td>27.0</td>\n",
       "      <td>0.21</td>\n",
       "      <td>171.0</td>\n",
       "      <td>4.42206</td>\n",
       "      <td>0.0</td>\n",
       "      <td>63.0</td>\n",
       "      <td>1.62918</td>\n",
       "      <td>0.0</td>\n",
       "      <td>84.1</td>\n",
       "      <td>2.174826</td>\n",
       "      <td>0.0</td>\n",
       "      <td>123.0</td>\n",
       "      <td>1.38867</td>\n",
       "      <td>0.0</td>\n",
       "      <td>1.334921</td>\n",
       "      <td>1.952381</td>\n",
       "      <td>1.477060</td>\n",
       "      <td>29.337278</td>\n",
       "      <td>13.88670</td>\n",
       "      <td>4.627418</td>\n",
       "      <td>0.290565</td>\n",
       "      <td>189.0</td>\n",
       "      <td>56.0</td>\n",
       "      <td>246.0</td>\n",
       "      <td>23.0</td>\n",
       "      <td>72.0</td>\n",
       "      <td>85.0</td>\n",
       "      <td>85.0</td>\n",
       "      <td>9.23</td>\n",
       "      <td>28.17</td>\n",
       "      <td>1.937160</td>\n",
       "      <td>7.29</td>\n",
       "      <td>0.345468</td>\n",
       "      <td>0.0</td>\n",
       "      <td>0.0</td>\n",
       "      <td>3.38</td>\n",
       "      <td>4.17</td>\n",
       "      <td>15.60</td>\n",
       "      <td>277.0</td>\n",
       "      <td>13.0</td>\n",
       "      <td>7.2</td>\n",
       "      <td>12.8</td>\n",
       "      <td>1.777778</td>\n",
       "      <td>369.0</td>\n",
       "      <td>213.0</td>\n",
       "      <td>1.4</td>\n",
       "      <td>0.403458</td>\n",
       "      <td>0.021538</td>\n",
       "      <td>109.057142</td>\n",
       "      <td>39.87</td>\n",
       "      <td>690.0</td>\n",
       "      <td>68.0</td>\n",
       "      <td>44.0</td>\n",
       "      <td>65.0</td>\n",
       "      <td>2.11</td>\n",
       "      <td>28.63</td>\n",
       "      <td>5.5</td>\n",
       "      <td>26.0</td>\n",
       "      <td>3.40</td>\n",
       "      <td>2.74</td>\n",
       "      <td>241.0</td>\n",
       "      <td>0.005809</td>\n",
       "      <td>0.411765</td>\n",
       "      <td>5.0</td>\n",
       "      <td>2.0</td>\n",
       "      <td>26.0</td>\n",
       "    </tr>\n",
       "  </tbody>\n",
       "</table>\n",
       "</div>"
      ],
      "text/plain": [
       "     PCO 0-healthy control, 1-PCOS, 2-FHA 3-POF, 4-High Andro  IGF-1 ng/ml (N: 100-311)  proBNP  AMH (ng/ml) *7,14=pmol/l  weight  height (cm)        BMI  systolic BP (ciśnienie skurczowe)  diastolic BP (ciśnienie rozskurczowe)  Hypertension  Waist Circumference (WC)  WC>88  Hip Circumference (HC)  WHR (Waist/Hip ratio)  WHR>0,85 (WHO)  WHR>0,8 (NIDDK)  WHTR (Waist/Height Ratio)  WHTR>0,5  overweight/obesity 0-normal/low, 1-overweight, 2-obesity  irregular cycles (0-nie, 1-tak)  ovulation (0-brak, 1-obecna)  PCO ovary morfology in USG (0-brak, 1--obecna)  stromal hypertrophy in ovary (0-brak, 1-obecny)  acne  hirsutism  FG score (Ferriman-Gallway score - stopień androgenizacji)  hyperandrogenism  hypothyroidism  Volume of the thyroid  Right Lobe  Volume of the thyroid  Left Lobe  thyroid volume  nodules 0-lack, 1-RL,  2-LL, 3-both  chronic thyroiditis  Vole of the Right Ovary  Volume of the  Left Ovary  ovaries volume - total  follicules >12  hyperlipidemia  elevated LDL and TG  \\\n",
       "721                                                         1                     295.0     NaN                       NaN    64.0        176.0  20.661157                              107.0                                   68.0           0.0                      79.0    0.0                    84.0               0.940476             1.0              1.0                   0.448864       0.0                                                       0.0                              1.0                           NaN                                             NaN                                              NaN   1.0        0.0                                                         2.0               NaN             0.0                             6.6640                             5.152         11.8160                                  0.0                  0.0                      NaN                        NaN                     NaN             NaN             0.0                  0.0   \n",
       "349                                                         1                     236.0   23.35                 22.969188    55.5        171.0  18.980199                              126.0                                   75.0           0.0                      65.0    0.0                    85.0               0.764706             0.0              0.0                   0.380117       0.0                                                       0.0                              1.0                           0.0                                             1.0                                              0.0   0.0        0.0                                                         3.0               1.0             0.0                             5.3580                             5.600         10.9580                                  0.0                  0.0                  21.8100                      34.22                 56.0300             1.0             0.0                  0.0   \n",
       "531                                                         1                     267.0   73.72                 12.050000    63.0        169.0  22.058051                              107.0                                   66.0           0.0                      71.0    0.0                    85.0               0.835294             0.0              1.0                   0.420118       0.0                                                       0.0                              1.0                           1.0                                             1.0                                              0.0   0.0        1.0                                                        16.0               1.0             0.0                             6.6215                            11.150         17.7715                                  0.0                  0.0                   5.1984                      11.15                 16.3484             1.0             0.0                  0.0   \n",
       "30                                                          0                     321.0   51.01                  1.008403    96.0        162.0  36.579790                              118.0                                   68.0           0.0                     103.0    1.0                   108.0               0.953704             1.0              1.0                   0.635802       1.0                                                       2.0                              1.0                           1.0                                             0.0                                              0.0   0.0        1.0                                                        15.0               0.0             0.0                             7.2600                             7.182         14.4420                                  0.0                  1.0                   7.0400                       4.54                 11.5800             0.0             0.0                  0.0   \n",
       "724                                                         1                     180.0    8.48                  4.278711    56.0        169.0  19.607157                              131.0                                   89.0           0.0                      68.0    0.0                    80.0               0.850000             0.0              1.0                   0.402367       0.0                                                       0.0                              1.0                           0.0                                             1.0                                              0.0   0.0        1.0                                                        18.0               0.0             0.0                             9.0720                             5.712         14.7840                                  0.0                  1.0                  13.4300                      10.27                 23.7000             0.0             0.0                  0.0   \n",
       "\n",
       "     WBC x10^3/ul  neutrophil x10^3/ul  lymphocytes x10^3/ul  monocytes x10^3/ul  eosinocytes x10^3/ul  basophils x10^3/ul  % neutrophil   % lymphocytes   % monocytes  %eosinocytes   %basophils   RBC x10^6ul  Hemoglobin [g/dl]  hematocrit [%]    HTC/Hb  MCV fl  MCH pg  MCHC g/dl  RDW-CV %  NRBC x10^3/ul  PLT x10^3/ul  PDW fl  MPV fl  P-LCR %    PLT/WBC   MPV/PLT         PLR  limf/mono  NLR (stosunek neutrofili do limfocytów)  L/WCC (leukocyty do całkowitej liczby krwinek białych)  eos/leukocyty  sodium mmol/l  potassium mmol/l  calcium mg/dl  phosphorus mg/dl  creatinine mg/dl  CRP mg/l  ALT U/l  AST U/l  Bilirubin mg/dl  CHOL mg/dl   CHOL mmol/l  CHOL>200   HDL mg/dl  HDL mmol/l  HDL<50  LDL mg/dl  LDL mmol/l  LDL>135     TG  TG mmol/l  TG>150  Atherogenic index (AI) (LDL-C/HDL-C)   coronary risk index (CRI) (TG/HDL-C)  VAI - Visceral adiposity index  BAI - Body adiposity index  LAP INDEX - Lipid accumulation product index  TyG Index - Trigliceride-glucose index  \\\n",
       "721          5.03                 3.06                  1.51                0.25                  0.14                0.07           60.8            30.0          5.0            2.8          1.4         4.76               12.7            37.1  2.921260    77.9    26.7       34.2      12.8            0.0         247.0    12.4    10.5     29.6  49.105368  0.042510  163.576159   6.040000                                 2.026490                                                0.300199       0.027833          144.0              4.18           9.37              4.11              0.77       0.4     15.0     20.0             0.29        184.0      4.75824       0.0        70.0     1.81020     0.0      104.4    2.699784      0.0   47.0    0.53063     0.0                               1.491429                              0.671429                        0.574591                   29.727273                                      11.14323                                4.174979   \n",
       "349          6.03                 3.90                  1.65                0.35                  0.05                0.08           64.7            27.4          5.8            0.8          1.3         3.91               12.7            37.6  2.960630    96.2    32.5       33.8      11.8            0.0         228.0    16.4    12.1     42.6  37.810945  0.053070  138.181818   4.714286                                 2.363636                                                0.273632       0.008292          143.0              4.10           9.78              3.19              0.61       0.3     19.0     19.0             0.31        179.0      4.62894       0.0       100.0     2.58600     0.0       66.7    1.724862      0.0   60.0    0.67740     0.0                               0.667000                              0.600000                        0.440996                   31.707602                                       4.74180                                4.250532   \n",
       "531          4.81                 2.59                  1.67                0.35                  0.14                0.06           53.9            34.7          7.3            2.9          1.2         4.63               13.1            39.4  3.007634    85.1    28.3       33.2      12.8            0.0         280.0    11.2    10.1     25.0  58.212058  0.036071  167.664671   4.771429                                 1.550898                                                0.347193       0.029106          144.0              4.49           9.83              3.84              0.76       0.4     23.0     18.0             0.44        188.0      4.86168       0.0        66.0     1.70676     0.0      107.4    2.777364      0.0   73.0    0.82417     0.0                               1.627273                              1.106061                        0.821992                   32.295858                                      10.71421                                4.366555   \n",
       "30           5.19                 3.19                  1.48                0.39                  0.08                0.05           31.5            28.5          7.5            1.5          1.0         4.42               13.9            39.9  2.870504    90.3    31.4       34.8      13.1            0.0         256.0    11.1     9.9     23.6  49.325626  0.038672  172.972973   3.794872                                 2.155405                                                0.285164       0.015414          143.0              4.30           8.88              2.81              0.85       2.7     20.0     20.0             0.21        182.0      4.70652       0.0        44.0     1.13784     1.0      111.3    2.878218      0.0  134.0    1.51286     0.0                               2.529545                              3.045455                        2.430935                   48.666667                                      68.07870                                4.687588   \n",
       "724          5.15                 2.68                  1.87                0.36                  0.20                0.04           52.0            36.3          7.0            3.9          0.8         4.56               14.1            40.8  2.893617    89.5    30.9       34.6      11.9            0.0         230.0    11.2    10.4     27.9  44.660194  0.045217  122.994652   5.194444                                 1.433155                                                0.363107       0.038835          144.0              3.82           9.49              3.86              0.60       1.3     30.0     27.0             0.21        171.0      4.42206       0.0        63.0     1.62918     0.0       84.1    2.174826      0.0  123.0    1.38867     0.0                               1.334921                              1.952381                        1.477060                   29.337278                                      13.88670                                4.627418   \n",
       "\n",
       "     AIP -Atherogenic index of plasma  UIBC ug/dl  ferrum ug/dl   TIBC  TSAT  ferritin ng/ml  glucose 0 mg/dl  glucose  120 mg/dl  insulin 0 uU/ml  Insulin 120 uU/ml      HOMA  Matsuda  QUICKI (N<0,357)  Impaired Fasting Glucose   Impaired Glucose Tolerance  TSH mIU/L  FT3 pmol/l  FT4 pmol/l  Anty-TPO IU/ml  Anty-TG IU/ml  FSH mlU/ml    LH    LH/FSH  prolactin  DHEA-S ug/dl  testosterone nmol/l  T (ng/ml)    T/SHBG  E(pg/ml)/T(ng/ml)/  Parathormone pg/ml  cortisol nmol/l  8:00  cortisol nmol/l 18:00  Estradiol pg/ml  SHBG nmol/l  FTI (free testosterone index)  ACTH pg/ml  HbA1c %  vitamin 25-OH D ng/ml  Androstendione ng/ml  17-OH-progesterone ng/ml  Dihydrotestosterone pg/ml (N<368)  Testosterone/DHT  T/A (testosterone/androstendione)  month of birth  quarter of the year   age  \n",
       "721                         -0.173000       267.0          97.0  363.0  27.0            18.0             90.0                90.0             5.07              38.67  1.126667    10.55          0.376046                        0.0                         0.0       3.19        4.86       14.00            13.0           10.0         5.2  14.4  2.769231      262.0         297.0                  1.7   0.489914  0.012364          124.511764               35.22                  463.0                    NaN             61.0        137.5                           1.21       16.97      4.9                   25.0                   NaN                       NaN                                NaN               NaN                                NaN             4.0                  2.0  31.0  \n",
       "349                         -0.221849       243.0          96.0  339.0  28.0            13.0             82.0                87.0             4.92              31.46  0.996148     9.51          0.383762                        0.0                         0.0       2.28        4.40       13.41             8.0           29.0         4.2  16.8  4.000000      291.0         278.0                  2.4   0.691643  0.026230           67.954166               37.21                  295.0                  154.0             47.0         91.5                           2.59       40.51      4.9                    5.0                  5.44                      2.66                              324.0          0.007407                           0.441176            11.0                  4.0  28.0  \n",
       "531                          0.043779       177.0         144.0  321.0  45.0            46.0             85.0                73.0             6.50              23.55  1.364198    12.34          0.364653                        0.0                         0.0       2.28        5.65       15.43            12.0           10.0         4.5   5.3  1.177778      448.0         361.0                  2.0   0.576369  0.031797           60.725000               26.46                  351.0                  148.0             35.0         62.9                           3.23       24.01      4.5                   29.0                  3.95                      2.46                              504.0          0.003968                           0.506329             7.0                  3.0  29.0  \n",
       "30                           0.483652       231.0          56.0  286.0  19.0            35.0             88.0                92.0            20.77              27.52  4.512988     4.64          0.306568                        0.0                         0.0       2.80        5.42       15.47           123.0           68.0         4.9   3.4  0.693878      237.0         203.0                  1.1   0.317003  0.044715          116.718181               50.19                  377.0                  353.0             37.0         24.6                           4.48       18.80      5.5                   25.0                  2.45                      1.42                              265.0          0.004151                           0.448980            10.0                  4.0  33.0  \n",
       "724                          0.290565       189.0          56.0  246.0  23.0            72.0             85.0                85.0             9.23              28.17  1.937160     7.29          0.345468                        0.0                         0.0       3.38        4.17       15.60           277.0           13.0         7.2  12.8  1.777778      369.0         213.0                  1.4   0.403458  0.021538          109.057142               39.87                  690.0                   68.0             44.0         65.0                           2.11       28.63      5.5                   26.0                  3.40                      2.74                              241.0          0.005809                           0.411765             5.0                  2.0  26.0  "
      ]
     },
     "execution_count": 2,
     "metadata": {},
     "output_type": "execute_result"
    }
   ],
   "source": [
    "dataset_file_path = 'data/preprocessed_dataset.csv'\n",
    "df = pd.read_csv(dataset_file_path)\n",
    "df.sample(5)"
   ]
  },
  {
   "cell_type": "markdown",
   "metadata": {},
   "source": [
    "### Handle `vitamine D ` outliers"
   ]
  },
  {
   "cell_type": "code",
   "execution_count": 19,
   "metadata": {},
   "outputs": [],
   "source": [
    "df[df[VITAMINE_D] > 80][VITAMINE_D]\n",
    "\n",
    "df.loc[df[VITAMINE_D] > 80, VITAMINE_D] = None"
   ]
  },
  {
   "cell_type": "markdown",
   "metadata": {},
   "source": [
    "# Model selection for vitamin D"
   ]
  },
  {
   "cell_type": "code",
   "execution_count": 20,
   "metadata": {},
   "outputs": [],
   "source": [
    "df_vit_d_cleaned = df.dropna(subset=[VITAMINE_D])\n",
    "\n",
    "X_vit_d, y_vit_d = df_vit_d_cleaned.drop(columns=[VITAMINE_D]), df_vit_d_cleaned[VITAMINE_D]\n",
    "X_train_vit_d, X_val_vit_d, y_train_vit_d, y_val_vit_d = train_test_split(X_vit_d, y_vit_d, test_size=0.2, random_state=42)"
   ]
  },
  {
   "cell_type": "code",
   "execution_count": 4,
   "metadata": {},
   "outputs": [
    {
     "name": "stdout",
     "output_type": "stream",
     "text": [
      "1/48 DecisionTreeRegressor(max_depth=7, random_state=42) PT_iterative_basic original_ohe_no_imputing [-11.90476921 -12.65226769 -12.31686472 -10.55656768 -11.5580557\n",
      "  -9.41800117 -10.8919422  -12.33285081 -10.67555665 -11.09812074\n",
      " -12.02367818 -12.27701292 -10.89089812 -10.59720189 -10.82851312] 11.334820053419348\n",
      "2/48 Lasso() PT_iterative_basic original_ohe_no_imputing [-8.81745199 -9.52167944 -9.36954261 -8.15745592 -8.22106955 -8.84358762\n",
      " -7.88375467 -9.59486355 -9.33921628 -8.75565974 -8.04351661 -9.94918524\n",
      " -8.63420873 -8.86894902 -8.50479498] 8.83366239674724\n",
      "3/48 Ridge() PT_iterative_basic original_ohe_no_imputing [-13.47126241 -11.7344147  -10.96106966  -9.17928757 -10.97744276\n",
      " -11.09840066  -9.60126022 -10.79207693 -10.66676512 -11.5721826\n",
      " -10.87823474 -10.89774834 -10.47622412 -13.51979905 -10.53027268] 11.090429438106316\n",
      "4/48 RandomForestRegressor() PT_iterative_basic original_ohe_no_imputing [-9.15611111 -9.45644444 -9.18644444 -8.36011236 -8.6511236  -8.78033333\n",
      " -8.49377778 -9.70366667 -8.91662921 -9.09595506 -7.98533333 -9.73344444\n",
      " -8.32366667 -9.03775281 -9.39505618] 8.951723429047025\n",
      "5/48 DecisionTreeRegressor(max_depth=7, random_state=42) PT_iterative_basic original_ohe_+_impute_knn [-11.48054429 -11.95540353 -11.70737845 -10.22323435 -12.057759\n",
      "  -9.95531598 -10.60146601 -12.09612241 -10.86531945 -10.7050062\n",
      " -12.83820517 -12.03071662 -10.79223611 -10.93328912 -11.40154682] 11.309569567761724\n",
      "6/48 Lasso() PT_iterative_basic original_ohe_+_impute_knn [-8.81745199 -9.52167944 -9.36954261 -8.15745592 -8.22106955 -8.84358762\n",
      " -7.88375467 -9.59486355 -9.33921628 -8.75565974 -8.04351661 -9.94918524\n",
      " -8.63420873 -8.86894902 -8.50479498] 8.83366239674724\n",
      "7/48 Ridge() PT_iterative_basic original_ohe_+_impute_knn [-13.45638477 -11.86152669 -11.1624151  -10.07692411 -10.95815558\n",
      " -11.29365329  -9.44658636 -10.67064324 -11.40130079 -11.32190108\n",
      " -10.47769342 -11.04783579 -10.05650423 -13.55238157 -11.27609302] 11.203999936038835\n",
      "8/48 RandomForestRegressor() PT_iterative_basic original_ohe_+_impute_knn [-8.98188889 -9.45488889 -9.37166667 -8.60764045 -8.82483146 -8.99944444\n",
      " -8.58177778 -9.70688889 -9.18696629 -9.20359551 -8.144      -9.84877778\n",
      " -8.45522222 -8.96325843 -9.52337079] 9.05694789846026\n",
      "9/48 DecisionTreeRegressor(max_depth=7, random_state=42) PT_iterative_basic original_ohe_+_impute_rf [-11.16350725 -12.44604326 -11.88420479  -9.87866506 -12.09333952\n",
      " -10.05457524 -10.92780079 -11.80684366 -11.02605602 -11.24882642\n",
      " -12.08352784 -12.16233476 -10.96331195  -9.95827676 -11.49143447] 11.279249853065762\n",
      "10/48 Lasso() PT_iterative_basic original_ohe_+_impute_rf [-8.81745199 -9.52167944 -9.36954261 -8.15745592 -8.22106955 -8.84358762\n",
      " -7.88375467 -9.59486355 -9.33921628 -8.75565974 -8.04351661 -9.94918524\n",
      " -8.63420873 -8.86894902 -8.50479498] 8.83366239674724\n",
      "11/48 Ridge() PT_iterative_basic original_ohe_+_impute_rf [-13.51780862 -11.60815494 -11.5127789   -9.58995834 -11.15579671\n",
      " -11.45243769  -9.62213077 -10.95435999 -11.38215347 -11.75004301\n",
      " -10.64571798 -10.99444704 -10.15570948 -13.03981702 -11.20530936] 11.239108221217668\n",
      "12/48 RandomForestRegressor() PT_iterative_basic original_ohe_+_impute_rf [-9.19311111 -9.50422222 -9.281      -8.5741573  -8.55146067 -9.16311111\n",
      " -8.436      -9.67844444 -9.01730337 -9.03438202 -8.16755556 -9.88744444\n",
      " -8.36333333 -8.6352809  -9.39539326] 8.992146650020805\n",
      "13/48 DecisionTreeRegressor(max_depth=7, random_state=42) PT_KNN original_ohe_no_imputing [-10.94749423 -12.6693508  -11.63955079 -10.40989909 -10.86478253\n",
      " -10.6068362  -10.91249399 -11.78104574 -10.7381563  -11.41958576\n",
      " -10.5083321  -11.85535634 -11.60563282  -9.85280089 -10.86388581] 11.11168022699597\n",
      "14/48 Lasso() PT_KNN original_ohe_no_imputing [-8.79961477 -9.510807   -9.34108364 -8.15156295 -8.18934637 -8.77901975\n",
      " -7.90222905 -9.60899905 -9.31413922 -8.72526563 -8.07968164 -9.95799132\n",
      " -8.66986728 -8.8945689  -8.48109111] 8.82701784559787\n",
      "15/48 Ridge() PT_KNN original_ohe_no_imputing [-14.15803105 -11.60527415 -10.67470753 -10.13197812 -10.73674336\n",
      " -11.16587865 -10.87544785 -10.90430101 -10.62357327 -11.26086138\n",
      " -10.65446417 -11.17329914 -10.85998931 -13.74201225 -11.48572954] 11.33681938608984\n",
      "16/48 RandomForestRegressor() PT_KNN original_ohe_no_imputing [-9.114      -9.24166667 -9.40344444 -8.24876404 -8.65730337 -8.76455556\n",
      " -8.45833333 -9.52977778 -9.03235955 -9.06123596 -8.16677778 -9.70755556\n",
      " -8.54655556 -8.92449438 -9.44067416] 8.953166541822721\n",
      "17/48 DecisionTreeRegressor(max_depth=7, random_state=42) PT_KNN original_ohe_+_impute_knn [-10.80034074 -13.41018316 -11.56425978 -10.25259572 -11.11419393\n",
      " -10.37916477 -11.39090228 -12.50144166 -11.31395761 -11.98414815\n",
      " -10.91246516 -11.8812797  -11.93280898 -10.21428869 -10.92976937] 11.372119979173599\n",
      "18/48 Lasso() PT_KNN original_ohe_+_impute_knn [-8.79961477 -9.510807   -9.34108364 -8.15156295 -8.18934637 -8.77901975\n",
      " -7.90222905 -9.60899905 -9.31413922 -8.72526563 -8.07968164 -9.95799132\n",
      " -8.66986728 -8.8945689  -8.48109111] 8.82701784559787\n",
      "19/48 Ridge() PT_KNN original_ohe_+_impute_knn [-12.920325   -11.6323865  -11.00389834 -10.36791164 -11.03755504\n",
      " -11.44682733 -10.36426121 -10.8203251  -11.21875225 -10.70248733\n",
      " -10.24864135 -11.3433403  -10.39811947 -13.51379438 -11.95099804] 11.26464155125882\n",
      "20/48 RandomForestRegressor() PT_KNN original_ohe_+_impute_knn [-9.087      -9.46555556 -9.29244444 -8.44988764 -8.48685393 -8.79922222\n",
      " -8.63744444 -9.38233333 -8.99460674 -9.11651685 -7.91622222 -9.87733333\n",
      " -8.33011111 -9.12370787 -9.4488764 ] 8.960541073657927\n",
      "21/48 DecisionTreeRegressor(max_depth=7, random_state=42) PT_KNN original_ohe_+_impute_rf [-11.01737777 -12.64787936 -11.3843656  -10.75746463 -11.21250853\n",
      " -11.56390554 -11.22954425 -12.5708861  -11.57615826 -12.20966982\n",
      " -10.46240477 -11.93942785 -11.58799877  -9.84156494 -10.23501281] 11.349077935348712\n",
      "22/48 Lasso() PT_KNN original_ohe_+_impute_rf [-8.79961477 -9.510807   -9.34108364 -8.15156295 -8.18934637 -8.77901975\n",
      " -7.90222905 -9.60899905 -9.31413922 -8.72526563 -8.07968164 -9.95799132\n",
      " -8.66986728 -8.8945689  -8.48109111] 8.82701784559787\n",
      "23/48 Ridge() PT_KNN original_ohe_+_impute_rf [-13.11349526 -11.30868045 -11.38819166 -10.13575862 -11.19708685\n",
      " -11.45913943 -10.73102298 -11.15955182 -11.41587346 -11.4126317\n",
      " -10.38238735 -11.48400508 -10.67834264 -12.8630008  -12.10817142] 11.389155967738096\n",
      "24/48 RandomForestRegressor() PT_KNN original_ohe_+_impute_rf [-8.97011111 -9.27211111 -9.54788889 -8.64797753 -8.6352809  -8.79844444\n",
      " -8.48122222 -9.483      -9.1211236  -9.06134831 -8.02544444 -9.93377778\n",
      " -8.18811111 -9.00955056 -9.42786517] 8.973550478568457\n",
      "25/48 DecisionTreeRegressor(max_depth=7, random_state=42) RS_iterative_basic original_ohe_no_imputing [-11.03686699 -11.59418815 -11.08639151 -11.27288976 -10.8237112\n",
      " -10.83687755 -11.48118045 -12.82305435 -11.46052989 -11.07193365\n",
      " -11.85701176 -13.29260702 -11.60916184  -9.95359577 -11.66374163] 11.457582768031674\n",
      "26/48 Lasso() RS_iterative_basic original_ohe_no_imputing [ -8.62732238  -9.39203483  -9.44397721  -8.2014551   -8.20512979\n",
      "  -8.78825504  -7.833145    -9.61129327  -9.30010736  -8.84376442\n",
      "  -7.87859616 -10.04616444  -8.6969377   -8.85155465  -8.87840881] 8.839876409591506\n",
      "27/48 Ridge() RS_iterative_basic original_ohe_no_imputing [-10.95263831 -11.51999    -11.23268167  -9.42133803 -10.2193539\n",
      " -13.11739178 -10.65049377 -10.56188282 -10.39680931 -11.60164241\n",
      " -10.93759859 -11.30733488 -11.77239938 -10.94302345 -11.10904507] 11.049574891313991\n",
      "28/48 RandomForestRegressor() RS_iterative_basic original_ohe_no_imputing [-9.14266667 -9.52311111 -9.24133333 -8.3994382  -8.4088764  -9.07755556\n",
      " -8.27988889 -9.65211111 -8.9858427  -9.00853933 -8.00777778 -9.64666667\n",
      " -8.10655556 -8.89797753 -9.4052809 ] 8.91890811485643\n",
      "29/48 DecisionTreeRegressor(max_depth=7, random_state=42) RS_iterative_basic original_ohe_+_impute_knn [-11.44930685 -11.5770075  -11.23083596 -10.84330174 -10.76525172\n",
      " -10.86187755 -11.19592912 -12.6212025  -12.00698898 -11.40231179\n",
      " -11.16279347 -13.6456229  -11.67490258 -10.31229026 -11.45954133] 11.480610949736421\n",
      "30/48 Lasso() RS_iterative_basic original_ohe_+_impute_knn [ -8.62732238  -9.39203483  -9.44397721  -8.2014551   -8.20512979\n",
      "  -8.78825504  -7.833145    -9.61129327  -9.30010736  -8.84376442\n",
      "  -7.87859616 -10.04616444  -8.6969377   -8.85155465  -8.87840881] 8.839876409591506\n",
      "31/48 Ridge() RS_iterative_basic original_ohe_+_impute_knn [-10.51382152 -12.25622552 -10.92201025 -10.62466051 -10.58712785\n",
      " -12.60897041 -10.03696721 -10.56037998 -11.05970372 -11.57261071\n",
      " -10.90670296 -11.52105332 -11.02486053 -11.38359297 -12.05838691] 11.175804957984715\n",
      "32/48 RandomForestRegressor() RS_iterative_basic original_ohe_+_impute_knn [ -9.13911111  -9.54255556  -9.58444444  -8.62516854  -8.66505618\n",
      "  -8.82277778  -8.57677778  -9.52666667  -9.00303371  -8.91494382\n",
      "  -7.88       -10.02166667  -8.35833333  -9.08573034  -9.12303371] 8.991286641697878\n",
      "33/48 DecisionTreeRegressor(max_depth=7, random_state=42) RS_iterative_basic original_ohe_+_impute_rf [-11.77576187 -12.13811861 -11.94194707 -10.92120436 -10.99767754\n",
      " -11.59457231 -11.44407727 -12.35027658 -11.38187821 -11.1597143\n",
      " -11.67770293 -13.26691919 -10.55638406 -10.92015543 -11.34337884] 11.564651238185801\n",
      "34/48 Lasso() RS_iterative_basic original_ohe_+_impute_rf [ -8.62732238  -9.39203483  -9.44397721  -8.2014551   -8.20512979\n",
      "  -8.78825504  -7.833145    -9.61129327  -9.30010736  -8.84376442\n",
      "  -7.87859616 -10.04616444  -8.6969377   -8.85155465  -8.87840881] 8.839876409591506\n",
      "35/48 Ridge() RS_iterative_basic original_ohe_+_impute_rf [-10.70126736 -12.2544155  -10.9562969  -10.65856027 -10.55946667\n",
      " -12.41695671  -9.80822349 -10.91522231 -11.41507244 -12.10046411\n",
      " -10.84782439 -11.12971221 -10.94855878 -11.54254703 -12.39143559] 11.243068251872055\n",
      "36/48 RandomForestRegressor() RS_iterative_basic original_ohe_+_impute_rf [ -9.05966667  -9.37322222  -9.55877778  -8.3141573   -8.74786517\n",
      "  -8.873       -8.70566667  -9.679       -9.03382022  -9.14775281\n",
      "  -8.17144444 -10.14233333  -8.42566667  -8.94617978  -9.33157303] 9.034008406158968\n",
      "37/48 DecisionTreeRegressor(max_depth=7, random_state=42) RS_KNN original_ohe_no_imputing [-12.0518445  -11.62701976 -11.25894217 -10.37357369 -10.5720343\n",
      " -10.97911359 -11.48888623 -12.97746325 -10.95220854 -11.81406887\n",
      " -11.5689256  -11.42931589 -10.99791852 -10.76612309 -10.91833837] 11.318385092419488\n",
      "38/48 Lasso() RS_KNN original_ohe_no_imputing [-8.60965066 -9.39112903 -9.39091286 -8.18967049 -8.21724641 -8.77926488\n",
      " -7.84436411 -9.61191437 -9.25024949 -8.84568554 -7.8633008  -9.96935847\n",
      " -8.69316967 -8.91075843 -8.75587995] 8.821503679461802\n",
      "39/48 Ridge() RS_KNN original_ohe_no_imputing [-11.10826934 -11.71868038 -11.15066721  -9.18686887 -10.19813803\n",
      " -13.69356612 -10.79276962 -10.4063463  -10.1708286  -11.2046375\n",
      " -11.15414705 -11.33877597 -12.80996705 -10.32620219 -11.88935628] 11.1432813682736\n",
      "40/48 RandomForestRegressor() RS_KNN original_ohe_no_imputing [-9.07511111 -9.17133333 -9.447      -8.26280899 -8.63       -8.97277778\n",
      " -8.43666667 -9.86066667 -9.14617978 -8.71146067 -8.18377778 -9.90088889\n",
      " -8.41855556 -8.87988764 -8.98820225] 8.939021140241364\n",
      "41/48 DecisionTreeRegressor(max_depth=7, random_state=42) RS_KNN original_ohe_+_impute_knn [-12.31258043 -11.08676526 -12.45457398 -10.6394913  -10.64591197\n",
      " -10.54800113 -11.39166401 -12.98588002 -12.40630012 -10.61732151\n",
      " -11.31208632 -11.14875017 -10.74089211 -11.42266402 -11.04826687] 11.38407661401408\n",
      "42/48 Lasso() RS_KNN original_ohe_+_impute_knn [-8.60965066 -9.39112903 -9.39091286 -8.18967049 -8.21724641 -8.77926488\n",
      " -7.84436411 -9.61191437 -9.25024949 -8.84568554 -7.8633008  -9.96935847\n",
      " -8.69316967 -8.91075843 -8.75587995] 8.821503679461802\n",
      "43/48 Ridge() RS_KNN original_ohe_+_impute_knn [-10.97196175 -12.16304035 -10.77909225 -10.41501287 -10.54259096\n",
      " -12.96633906 -10.24819976 -10.19040279 -11.01824693 -11.34921634\n",
      " -11.06483743 -11.17765211 -12.16605071 -11.1928031  -12.5215452 ] 11.251132774228722\n",
      "44/48 RandomForestRegressor() RS_KNN original_ohe_+_impute_knn [-9.16811111 -9.46744444 -9.59366667 -8.61044944 -8.69393258 -9.02077778\n",
      " -8.42588889 -9.47433333 -9.12303371 -9.01831461 -8.02711111 -9.90777778\n",
      " -8.29188889 -8.90146067 -9.54460674] 9.017919850187267\n",
      "45/48 DecisionTreeRegressor(max_depth=7, random_state=42) RS_KNN original_ohe_+_impute_rf [-11.5542471  -12.17359065 -12.0580925  -10.83499691 -10.70233111\n",
      " -10.70897997 -11.7295428  -12.68296997 -12.32615031 -11.09217437\n",
      " -11.25807397 -11.44319461 -11.15755878 -11.02198184 -10.37036425] 11.407616608624119\n",
      "46/48 Lasso() RS_KNN original_ohe_+_impute_rf [-8.60965066 -9.39112903 -9.39091286 -8.18967049 -8.21724641 -8.77926488\n",
      " -7.84436411 -9.61191437 -9.25024949 -8.84568554 -7.8633008  -9.96935847\n",
      " -8.69316967 -8.91075843 -8.75587995] 8.821503679461802\n",
      "47/48 Ridge() RS_KNN original_ohe_+_impute_rf [-11.13930329 -11.83309136 -10.98758443 -10.48049976 -10.50225006\n",
      " -13.14741916  -9.91028939 -10.56817174 -11.14025353 -11.84797832\n",
      " -10.908974   -11.01325457 -11.99436406 -11.25957896 -12.63612343] 11.291275736842643\n",
      "48/48 RandomForestRegressor() RS_KNN original_ohe_+_impute_rf [-9.12166667 -9.32344444 -9.41966667 -8.42865169 -8.57067416 -8.87377778\n",
      " -8.28955556 -9.51288889 -9.18191011 -8.97752809 -7.82022222 -9.84722222\n",
      " -8.28633333 -8.89820225 -9.22303371] 8.91831851851852\n"
     ]
    },
    {
     "data": {
      "text/html": [
       "<div>\n",
       "<style scoped>\n",
       "    .dataframe tbody tr th:only-of-type {\n",
       "        vertical-align: middle;\n",
       "    }\n",
       "\n",
       "    .dataframe tbody tr th {\n",
       "        vertical-align: top;\n",
       "    }\n",
       "\n",
       "    .dataframe thead th {\n",
       "        text-align: right;\n",
       "    }\n",
       "</style>\n",
       "<table border=\"1\" class=\"dataframe\">\n",
       "  <thead>\n",
       "    <tr style=\"text-align: right;\">\n",
       "      <th></th>\n",
       "      <th>continuous_preprocessing</th>\n",
       "      <th>categorical_pteprocessing</th>\n",
       "      <th>model</th>\n",
       "      <th>MAE</th>\n",
       "    </tr>\n",
       "  </thead>\n",
       "  <tbody>\n",
       "    <tr>\n",
       "      <th>0</th>\n",
       "      <td>PT_iterative_basic</td>\n",
       "      <td>original_ohe_no_imputing</td>\n",
       "      <td>DecisionTreeRegressor(max_depth=7, random_state=42)</td>\n",
       "      <td>11.334820</td>\n",
       "    </tr>\n",
       "    <tr>\n",
       "      <th>1</th>\n",
       "      <td>PT_iterative_basic</td>\n",
       "      <td>original_ohe_no_imputing</td>\n",
       "      <td>Lasso()</td>\n",
       "      <td>8.833662</td>\n",
       "    </tr>\n",
       "    <tr>\n",
       "      <th>2</th>\n",
       "      <td>PT_iterative_basic</td>\n",
       "      <td>original_ohe_no_imputing</td>\n",
       "      <td>Ridge()</td>\n",
       "      <td>11.090429</td>\n",
       "    </tr>\n",
       "    <tr>\n",
       "      <th>3</th>\n",
       "      <td>PT_iterative_basic</td>\n",
       "      <td>original_ohe_no_imputing</td>\n",
       "      <td>RandomForestRegressor()</td>\n",
       "      <td>8.951723</td>\n",
       "    </tr>\n",
       "    <tr>\n",
       "      <th>4</th>\n",
       "      <td>PT_iterative_basic</td>\n",
       "      <td>original_ohe_+_impute_knn</td>\n",
       "      <td>DecisionTreeRegressor(max_depth=7, random_state=42)</td>\n",
       "      <td>11.309570</td>\n",
       "    </tr>\n",
       "    <tr>\n",
       "      <th>5</th>\n",
       "      <td>PT_iterative_basic</td>\n",
       "      <td>original_ohe_+_impute_knn</td>\n",
       "      <td>Lasso()</td>\n",
       "      <td>8.833662</td>\n",
       "    </tr>\n",
       "    <tr>\n",
       "      <th>6</th>\n",
       "      <td>PT_iterative_basic</td>\n",
       "      <td>original_ohe_+_impute_knn</td>\n",
       "      <td>Ridge()</td>\n",
       "      <td>11.204000</td>\n",
       "    </tr>\n",
       "    <tr>\n",
       "      <th>7</th>\n",
       "      <td>PT_iterative_basic</td>\n",
       "      <td>original_ohe_+_impute_knn</td>\n",
       "      <td>RandomForestRegressor()</td>\n",
       "      <td>9.056948</td>\n",
       "    </tr>\n",
       "    <tr>\n",
       "      <th>8</th>\n",
       "      <td>PT_iterative_basic</td>\n",
       "      <td>original_ohe_+_impute_rf</td>\n",
       "      <td>DecisionTreeRegressor(max_depth=7, random_state=42)</td>\n",
       "      <td>11.279250</td>\n",
       "    </tr>\n",
       "    <tr>\n",
       "      <th>9</th>\n",
       "      <td>PT_iterative_basic</td>\n",
       "      <td>original_ohe_+_impute_rf</td>\n",
       "      <td>Lasso()</td>\n",
       "      <td>8.833662</td>\n",
       "    </tr>\n",
       "    <tr>\n",
       "      <th>10</th>\n",
       "      <td>PT_iterative_basic</td>\n",
       "      <td>original_ohe_+_impute_rf</td>\n",
       "      <td>Ridge()</td>\n",
       "      <td>11.239108</td>\n",
       "    </tr>\n",
       "    <tr>\n",
       "      <th>11</th>\n",
       "      <td>PT_iterative_basic</td>\n",
       "      <td>original_ohe_+_impute_rf</td>\n",
       "      <td>RandomForestRegressor()</td>\n",
       "      <td>8.992147</td>\n",
       "    </tr>\n",
       "    <tr>\n",
       "      <th>12</th>\n",
       "      <td>PT_KNN</td>\n",
       "      <td>original_ohe_no_imputing</td>\n",
       "      <td>DecisionTreeRegressor(max_depth=7, random_state=42)</td>\n",
       "      <td>11.111680</td>\n",
       "    </tr>\n",
       "    <tr>\n",
       "      <th>13</th>\n",
       "      <td>PT_KNN</td>\n",
       "      <td>original_ohe_no_imputing</td>\n",
       "      <td>Lasso()</td>\n",
       "      <td>8.827018</td>\n",
       "    </tr>\n",
       "    <tr>\n",
       "      <th>14</th>\n",
       "      <td>PT_KNN</td>\n",
       "      <td>original_ohe_no_imputing</td>\n",
       "      <td>Ridge()</td>\n",
       "      <td>11.336819</td>\n",
       "    </tr>\n",
       "    <tr>\n",
       "      <th>15</th>\n",
       "      <td>PT_KNN</td>\n",
       "      <td>original_ohe_no_imputing</td>\n",
       "      <td>RandomForestRegressor()</td>\n",
       "      <td>8.953167</td>\n",
       "    </tr>\n",
       "    <tr>\n",
       "      <th>16</th>\n",
       "      <td>PT_KNN</td>\n",
       "      <td>original_ohe_+_impute_knn</td>\n",
       "      <td>DecisionTreeRegressor(max_depth=7, random_state=42)</td>\n",
       "      <td>11.372120</td>\n",
       "    </tr>\n",
       "    <tr>\n",
       "      <th>17</th>\n",
       "      <td>PT_KNN</td>\n",
       "      <td>original_ohe_+_impute_knn</td>\n",
       "      <td>Lasso()</td>\n",
       "      <td>8.827018</td>\n",
       "    </tr>\n",
       "    <tr>\n",
       "      <th>18</th>\n",
       "      <td>PT_KNN</td>\n",
       "      <td>original_ohe_+_impute_knn</td>\n",
       "      <td>Ridge()</td>\n",
       "      <td>11.264642</td>\n",
       "    </tr>\n",
       "    <tr>\n",
       "      <th>19</th>\n",
       "      <td>PT_KNN</td>\n",
       "      <td>original_ohe_+_impute_knn</td>\n",
       "      <td>RandomForestRegressor()</td>\n",
       "      <td>8.960541</td>\n",
       "    </tr>\n",
       "    <tr>\n",
       "      <th>20</th>\n",
       "      <td>PT_KNN</td>\n",
       "      <td>original_ohe_+_impute_rf</td>\n",
       "      <td>DecisionTreeRegressor(max_depth=7, random_state=42)</td>\n",
       "      <td>11.349078</td>\n",
       "    </tr>\n",
       "    <tr>\n",
       "      <th>21</th>\n",
       "      <td>PT_KNN</td>\n",
       "      <td>original_ohe_+_impute_rf</td>\n",
       "      <td>Lasso()</td>\n",
       "      <td>8.827018</td>\n",
       "    </tr>\n",
       "    <tr>\n",
       "      <th>22</th>\n",
       "      <td>PT_KNN</td>\n",
       "      <td>original_ohe_+_impute_rf</td>\n",
       "      <td>Ridge()</td>\n",
       "      <td>11.389156</td>\n",
       "    </tr>\n",
       "    <tr>\n",
       "      <th>23</th>\n",
       "      <td>PT_KNN</td>\n",
       "      <td>original_ohe_+_impute_rf</td>\n",
       "      <td>RandomForestRegressor()</td>\n",
       "      <td>8.973550</td>\n",
       "    </tr>\n",
       "    <tr>\n",
       "      <th>24</th>\n",
       "      <td>RS_iterative_basic</td>\n",
       "      <td>original_ohe_no_imputing</td>\n",
       "      <td>DecisionTreeRegressor(max_depth=7, random_state=42)</td>\n",
       "      <td>11.457583</td>\n",
       "    </tr>\n",
       "    <tr>\n",
       "      <th>25</th>\n",
       "      <td>RS_iterative_basic</td>\n",
       "      <td>original_ohe_no_imputing</td>\n",
       "      <td>Lasso()</td>\n",
       "      <td>8.839876</td>\n",
       "    </tr>\n",
       "    <tr>\n",
       "      <th>26</th>\n",
       "      <td>RS_iterative_basic</td>\n",
       "      <td>original_ohe_no_imputing</td>\n",
       "      <td>Ridge()</td>\n",
       "      <td>11.049575</td>\n",
       "    </tr>\n",
       "    <tr>\n",
       "      <th>27</th>\n",
       "      <td>RS_iterative_basic</td>\n",
       "      <td>original_ohe_no_imputing</td>\n",
       "      <td>RandomForestRegressor()</td>\n",
       "      <td>8.918908</td>\n",
       "    </tr>\n",
       "    <tr>\n",
       "      <th>28</th>\n",
       "      <td>RS_iterative_basic</td>\n",
       "      <td>original_ohe_+_impute_knn</td>\n",
       "      <td>DecisionTreeRegressor(max_depth=7, random_state=42)</td>\n",
       "      <td>11.480611</td>\n",
       "    </tr>\n",
       "    <tr>\n",
       "      <th>29</th>\n",
       "      <td>RS_iterative_basic</td>\n",
       "      <td>original_ohe_+_impute_knn</td>\n",
       "      <td>Lasso()</td>\n",
       "      <td>8.839876</td>\n",
       "    </tr>\n",
       "    <tr>\n",
       "      <th>30</th>\n",
       "      <td>RS_iterative_basic</td>\n",
       "      <td>original_ohe_+_impute_knn</td>\n",
       "      <td>Ridge()</td>\n",
       "      <td>11.175805</td>\n",
       "    </tr>\n",
       "    <tr>\n",
       "      <th>31</th>\n",
       "      <td>RS_iterative_basic</td>\n",
       "      <td>original_ohe_+_impute_knn</td>\n",
       "      <td>RandomForestRegressor()</td>\n",
       "      <td>8.991287</td>\n",
       "    </tr>\n",
       "    <tr>\n",
       "      <th>32</th>\n",
       "      <td>RS_iterative_basic</td>\n",
       "      <td>original_ohe_+_impute_rf</td>\n",
       "      <td>DecisionTreeRegressor(max_depth=7, random_state=42)</td>\n",
       "      <td>11.564651</td>\n",
       "    </tr>\n",
       "    <tr>\n",
       "      <th>33</th>\n",
       "      <td>RS_iterative_basic</td>\n",
       "      <td>original_ohe_+_impute_rf</td>\n",
       "      <td>Lasso()</td>\n",
       "      <td>8.839876</td>\n",
       "    </tr>\n",
       "    <tr>\n",
       "      <th>34</th>\n",
       "      <td>RS_iterative_basic</td>\n",
       "      <td>original_ohe_+_impute_rf</td>\n",
       "      <td>Ridge()</td>\n",
       "      <td>11.243068</td>\n",
       "    </tr>\n",
       "    <tr>\n",
       "      <th>35</th>\n",
       "      <td>RS_iterative_basic</td>\n",
       "      <td>original_ohe_+_impute_rf</td>\n",
       "      <td>RandomForestRegressor()</td>\n",
       "      <td>9.034008</td>\n",
       "    </tr>\n",
       "    <tr>\n",
       "      <th>36</th>\n",
       "      <td>RS_KNN</td>\n",
       "      <td>original_ohe_no_imputing</td>\n",
       "      <td>DecisionTreeRegressor(max_depth=7, random_state=42)</td>\n",
       "      <td>11.318385</td>\n",
       "    </tr>\n",
       "    <tr>\n",
       "      <th>37</th>\n",
       "      <td>RS_KNN</td>\n",
       "      <td>original_ohe_no_imputing</td>\n",
       "      <td>Lasso()</td>\n",
       "      <td>8.821504</td>\n",
       "    </tr>\n",
       "    <tr>\n",
       "      <th>38</th>\n",
       "      <td>RS_KNN</td>\n",
       "      <td>original_ohe_no_imputing</td>\n",
       "      <td>Ridge()</td>\n",
       "      <td>11.143281</td>\n",
       "    </tr>\n",
       "    <tr>\n",
       "      <th>39</th>\n",
       "      <td>RS_KNN</td>\n",
       "      <td>original_ohe_no_imputing</td>\n",
       "      <td>RandomForestRegressor()</td>\n",
       "      <td>8.939021</td>\n",
       "    </tr>\n",
       "    <tr>\n",
       "      <th>40</th>\n",
       "      <td>RS_KNN</td>\n",
       "      <td>original_ohe_+_impute_knn</td>\n",
       "      <td>DecisionTreeRegressor(max_depth=7, random_state=42)</td>\n",
       "      <td>11.384077</td>\n",
       "    </tr>\n",
       "    <tr>\n",
       "      <th>41</th>\n",
       "      <td>RS_KNN</td>\n",
       "      <td>original_ohe_+_impute_knn</td>\n",
       "      <td>Lasso()</td>\n",
       "      <td>8.821504</td>\n",
       "    </tr>\n",
       "    <tr>\n",
       "      <th>42</th>\n",
       "      <td>RS_KNN</td>\n",
       "      <td>original_ohe_+_impute_knn</td>\n",
       "      <td>Ridge()</td>\n",
       "      <td>11.251133</td>\n",
       "    </tr>\n",
       "    <tr>\n",
       "      <th>43</th>\n",
       "      <td>RS_KNN</td>\n",
       "      <td>original_ohe_+_impute_knn</td>\n",
       "      <td>RandomForestRegressor()</td>\n",
       "      <td>9.017920</td>\n",
       "    </tr>\n",
       "    <tr>\n",
       "      <th>44</th>\n",
       "      <td>RS_KNN</td>\n",
       "      <td>original_ohe_+_impute_rf</td>\n",
       "      <td>DecisionTreeRegressor(max_depth=7, random_state=42)</td>\n",
       "      <td>11.407617</td>\n",
       "    </tr>\n",
       "    <tr>\n",
       "      <th>45</th>\n",
       "      <td>RS_KNN</td>\n",
       "      <td>original_ohe_+_impute_rf</td>\n",
       "      <td>Lasso()</td>\n",
       "      <td>8.821504</td>\n",
       "    </tr>\n",
       "    <tr>\n",
       "      <th>46</th>\n",
       "      <td>RS_KNN</td>\n",
       "      <td>original_ohe_+_impute_rf</td>\n",
       "      <td>Ridge()</td>\n",
       "      <td>11.291276</td>\n",
       "    </tr>\n",
       "    <tr>\n",
       "      <th>47</th>\n",
       "      <td>RS_KNN</td>\n",
       "      <td>original_ohe_+_impute_rf</td>\n",
       "      <td>RandomForestRegressor()</td>\n",
       "      <td>8.918319</td>\n",
       "    </tr>\n",
       "  </tbody>\n",
       "</table>\n",
       "</div>"
      ],
      "text/plain": [
       "   continuous_preprocessing  categorical_pteprocessing                                                model        MAE\n",
       "0        PT_iterative_basic   original_ohe_no_imputing  DecisionTreeRegressor(max_depth=7, random_state=42)  11.334820\n",
       "1        PT_iterative_basic   original_ohe_no_imputing                                              Lasso()   8.833662\n",
       "2        PT_iterative_basic   original_ohe_no_imputing                                              Ridge()  11.090429\n",
       "3        PT_iterative_basic   original_ohe_no_imputing                              RandomForestRegressor()   8.951723\n",
       "4        PT_iterative_basic  original_ohe_+_impute_knn  DecisionTreeRegressor(max_depth=7, random_state=42)  11.309570\n",
       "5        PT_iterative_basic  original_ohe_+_impute_knn                                              Lasso()   8.833662\n",
       "6        PT_iterative_basic  original_ohe_+_impute_knn                                              Ridge()  11.204000\n",
       "7        PT_iterative_basic  original_ohe_+_impute_knn                              RandomForestRegressor()   9.056948\n",
       "8        PT_iterative_basic   original_ohe_+_impute_rf  DecisionTreeRegressor(max_depth=7, random_state=42)  11.279250\n",
       "9        PT_iterative_basic   original_ohe_+_impute_rf                                              Lasso()   8.833662\n",
       "10       PT_iterative_basic   original_ohe_+_impute_rf                                              Ridge()  11.239108\n",
       "11       PT_iterative_basic   original_ohe_+_impute_rf                              RandomForestRegressor()   8.992147\n",
       "12                   PT_KNN   original_ohe_no_imputing  DecisionTreeRegressor(max_depth=7, random_state=42)  11.111680\n",
       "13                   PT_KNN   original_ohe_no_imputing                                              Lasso()   8.827018\n",
       "14                   PT_KNN   original_ohe_no_imputing                                              Ridge()  11.336819\n",
       "15                   PT_KNN   original_ohe_no_imputing                              RandomForestRegressor()   8.953167\n",
       "16                   PT_KNN  original_ohe_+_impute_knn  DecisionTreeRegressor(max_depth=7, random_state=42)  11.372120\n",
       "17                   PT_KNN  original_ohe_+_impute_knn                                              Lasso()   8.827018\n",
       "18                   PT_KNN  original_ohe_+_impute_knn                                              Ridge()  11.264642\n",
       "19                   PT_KNN  original_ohe_+_impute_knn                              RandomForestRegressor()   8.960541\n",
       "20                   PT_KNN   original_ohe_+_impute_rf  DecisionTreeRegressor(max_depth=7, random_state=42)  11.349078\n",
       "21                   PT_KNN   original_ohe_+_impute_rf                                              Lasso()   8.827018\n",
       "22                   PT_KNN   original_ohe_+_impute_rf                                              Ridge()  11.389156\n",
       "23                   PT_KNN   original_ohe_+_impute_rf                              RandomForestRegressor()   8.973550\n",
       "24       RS_iterative_basic   original_ohe_no_imputing  DecisionTreeRegressor(max_depth=7, random_state=42)  11.457583\n",
       "25       RS_iterative_basic   original_ohe_no_imputing                                              Lasso()   8.839876\n",
       "26       RS_iterative_basic   original_ohe_no_imputing                                              Ridge()  11.049575\n",
       "27       RS_iterative_basic   original_ohe_no_imputing                              RandomForestRegressor()   8.918908\n",
       "28       RS_iterative_basic  original_ohe_+_impute_knn  DecisionTreeRegressor(max_depth=7, random_state=42)  11.480611\n",
       "29       RS_iterative_basic  original_ohe_+_impute_knn                                              Lasso()   8.839876\n",
       "30       RS_iterative_basic  original_ohe_+_impute_knn                                              Ridge()  11.175805\n",
       "31       RS_iterative_basic  original_ohe_+_impute_knn                              RandomForestRegressor()   8.991287\n",
       "32       RS_iterative_basic   original_ohe_+_impute_rf  DecisionTreeRegressor(max_depth=7, random_state=42)  11.564651\n",
       "33       RS_iterative_basic   original_ohe_+_impute_rf                                              Lasso()   8.839876\n",
       "34       RS_iterative_basic   original_ohe_+_impute_rf                                              Ridge()  11.243068\n",
       "35       RS_iterative_basic   original_ohe_+_impute_rf                              RandomForestRegressor()   9.034008\n",
       "36                   RS_KNN   original_ohe_no_imputing  DecisionTreeRegressor(max_depth=7, random_state=42)  11.318385\n",
       "37                   RS_KNN   original_ohe_no_imputing                                              Lasso()   8.821504\n",
       "38                   RS_KNN   original_ohe_no_imputing                                              Ridge()  11.143281\n",
       "39                   RS_KNN   original_ohe_no_imputing                              RandomForestRegressor()   8.939021\n",
       "40                   RS_KNN  original_ohe_+_impute_knn  DecisionTreeRegressor(max_depth=7, random_state=42)  11.384077\n",
       "41                   RS_KNN  original_ohe_+_impute_knn                                              Lasso()   8.821504\n",
       "42                   RS_KNN  original_ohe_+_impute_knn                                              Ridge()  11.251133\n",
       "43                   RS_KNN  original_ohe_+_impute_knn                              RandomForestRegressor()   9.017920\n",
       "44                   RS_KNN   original_ohe_+_impute_rf  DecisionTreeRegressor(max_depth=7, random_state=42)  11.407617\n",
       "45                   RS_KNN   original_ohe_+_impute_rf                                              Lasso()   8.821504\n",
       "46                   RS_KNN   original_ohe_+_impute_rf                                              Ridge()  11.291276\n",
       "47                   RS_KNN   original_ohe_+_impute_rf                              RandomForestRegressor()   8.918319"
      ]
     },
     "execution_count": 4,
     "metadata": {},
     "output_type": "execute_result"
    }
   ],
   "source": [
    "models = [\n",
    "        DecisionTreeRegressor(max_depth=7, random_state=42),\n",
    "        Lasso(),\n",
    "        Ridge(),\n",
    "        RandomForestRegressor(),\n",
    "        ]\n",
    "\n",
    "#  TODO: run again! Because I removed the outliers\n",
    "\n",
    "continuous_preprocessings = {\n",
    "    'PT_iterative_basic': Pipeline([('scaler', PowerTransformer()), ('imputer', IterativeImputer(initial_strategy='median', max_iter=10, tol=0.01))]),\n",
    "    'PT_KNN': Pipeline([('scaler', PowerTransformer()), ('imputer', KNNImputer(n_neighbors=9))]),\n",
    "    'RS_iterative_basic': Pipeline([('scaler', RobustScaler()), ('imputer', IterativeImputer(initial_strategy='median', max_iter=10, tol=0.01))]),\n",
    "    'RS_KNN': Pipeline([('scaler', RobustScaler()), ('imputer', KNNImputer(n_neighbors=9))]),\n",
    "}\n",
    "\n",
    "categorical_preprocessings = {\n",
    "    'original_ohe_no_imputing': Pipeline([('one_hot_encoder', OneHotEncoder(handle_unknown='ignore'))]),\n",
    "    'original_ohe_+_impute_knn': Pipeline([('imputer', KNNImputer(n_neighbors=1)), ('one_hot_encoder', OneHotEncoder(handle_unknown='ignore'))]),\n",
    "    'original_ohe_+_impute_rf': Pipeline([('imputer', IterativeImputer(estimator=RandomForestClassifier(), initial_strategy='most_frequent', max_iter=10, random_state=0)), ('one_hot_encoder', OneHotEncoder(handle_unknown='ignore'))]),\n",
    "}\n",
    "\n",
    "scores_df = explore_all_variations_of_preprocessing(X_train_vit_d, y_train_vit_d, VITAMINE_D, models, continuous_preprocessings, categorical_preprocessings)"
   ]
  },
  {
   "cell_type": "code",
   "execution_count": 6,
   "metadata": {},
   "outputs": [],
   "source": [
    "scores_df = _"
   ]
  },
  {
   "cell_type": "code",
   "execution_count": 8,
   "metadata": {},
   "outputs": [
    {
     "data": {
      "text/plain": [
       "continuous_preprocessing  categorical_pteprocessing\n",
       "PT_KNN                    original_ohe_+_impute_knn    10.106080\n",
       "                          original_ohe_+_impute_rf     10.134701\n",
       "                          original_ohe_no_imputing     10.057171\n",
       "PT_iterative_basic        original_ohe_+_impute_knn    10.101045\n",
       "                          original_ohe_+_impute_rf     10.086042\n",
       "                          original_ohe_no_imputing     10.052659\n",
       "RS_KNN                    original_ohe_+_impute_knn    10.118658\n",
       "                          original_ohe_+_impute_rf     10.109679\n",
       "                          original_ohe_no_imputing     10.055548\n",
       "RS_iterative_basic        original_ohe_+_impute_knn    10.121895\n",
       "                          original_ohe_+_impute_rf     10.170401\n",
       "                          original_ohe_no_imputing     10.066486\n",
       "Name: MAE, dtype: float64"
      ]
     },
     "execution_count": 8,
     "metadata": {},
     "output_type": "execute_result"
    }
   ],
   "source": [
    "scores_df.groupby(by=['continuous_preprocessing', 'categorical_pteprocessing'])['MAE'].mean()"
   ]
  },
  {
   "cell_type": "code",
   "execution_count": 9,
   "metadata": {},
   "outputs": [
    {
     "data": {
      "text/plain": [
       "continuous_preprocessing\n",
       "PT_KNN                10.099317\n",
       "PT_iterative_basic    10.079915\n",
       "RS_KNN                10.094628\n",
       "RS_iterative_basic    10.119594\n",
       "Name: MAE, dtype: float64"
      ]
     },
     "execution_count": 9,
     "metadata": {},
     "output_type": "execute_result"
    }
   ],
   "source": [
    "scores_df.groupby(by=['continuous_preprocessing'])['MAE'].mean()"
   ]
  },
  {
   "cell_type": "code",
   "execution_count": 10,
   "metadata": {},
   "outputs": [
    {
     "data": {
      "text/plain": [
       "categorical_pteprocessing\n",
       "original_ohe_+_impute_knn    10.111920\n",
       "original_ohe_+_impute_rf     10.125206\n",
       "original_ohe_no_imputing     10.057966\n",
       "Name: MAE, dtype: float64"
      ]
     },
     "execution_count": 10,
     "metadata": {},
     "output_type": "execute_result"
    }
   ],
   "source": [
    "scores_df.groupby(by=['categorical_pteprocessing'])['MAE'].mean()"
   ]
  },
  {
   "cell_type": "code",
   "execution_count": 11,
   "metadata": {},
   "outputs": [
    {
     "data": {
      "text/plain": [
       "model\n",
       "DecisionTreeRegressor(max_depth=7, random_state=42)    11.364120\n",
       "Lasso()                                                 8.830515\n",
       "RandomForestRegressor()                                 8.975628\n",
       "Ridge()                                                11.223191\n",
       "Name: MAE, dtype: float64"
      ]
     },
     "execution_count": 11,
     "metadata": {},
     "output_type": "execute_result"
    }
   ],
   "source": [
    "scores_df.groupby(by=['model'])['MAE'].mean()"
   ]
  },
  {
   "cell_type": "markdown",
   "metadata": {},
   "source": [
    "Best preprocessing techniques for vitamine D:\n",
    "- PT_iterative_basic  + original_ohe_no_imputing"
   ]
  },
  {
   "cell_type": "code",
   "execution_count": null,
   "metadata": {},
   "outputs": [],
   "source": [
    "continuous_preprocessor = Pipeline([('scaler', PowerTransformer()), ('imputer', IterativeImputer(initial_strategy='median', max_iter=10, tol=0.01))])\n",
    "categorical_preprocessor = Pipeline([('one_hot_encoder', OneHotEncoder(handle_unknown='ignore'))])"
   ]
  },
  {
   "cell_type": "code",
   "execution_count": 21,
   "metadata": {},
   "outputs": [
    {
     "name": "stdout",
     "output_type": "stream",
     "text": [
      "1/2 Lasso() PT_iterative_basic original_ohe_no_imputing [-10.26689768  -9.69301099  -8.78730634  -8.13671025  -8.07252033\n",
      "  -9.28578906  -8.30681608  -9.83809448  -9.17661505  -8.27553036\n",
      "  -9.26510451  -8.55863839  -8.87885747  -9.03500892  -9.29188159] 8.9912520998578\n",
      "2/2 RandomForestRegressor() PT_iterative_basic original_ohe_no_imputing [-10.31370787  -9.35348315  -8.58865169  -8.20685393  -8.12314607\n",
      "  -9.53853933  -8.7094382   -9.88359551  -8.7588764   -8.17146067\n",
      "  -9.00460674  -8.79764045  -8.82168539  -9.08831461  -9.24393258] 8.973595505617977\n"
     ]
    },
    {
     "data": {
      "text/html": [
       "<div>\n",
       "<style scoped>\n",
       "    .dataframe tbody tr th:only-of-type {\n",
       "        vertical-align: middle;\n",
       "    }\n",
       "\n",
       "    .dataframe tbody tr th {\n",
       "        vertical-align: top;\n",
       "    }\n",
       "\n",
       "    .dataframe thead th {\n",
       "        text-align: right;\n",
       "    }\n",
       "</style>\n",
       "<table border=\"1\" class=\"dataframe\">\n",
       "  <thead>\n",
       "    <tr style=\"text-align: right;\">\n",
       "      <th></th>\n",
       "      <th>continuous_preprocessing</th>\n",
       "      <th>categorical_pteprocessing</th>\n",
       "      <th>model</th>\n",
       "      <th>MAE</th>\n",
       "    </tr>\n",
       "  </thead>\n",
       "  <tbody>\n",
       "    <tr>\n",
       "      <th>0</th>\n",
       "      <td>PT_iterative_basic</td>\n",
       "      <td>original_ohe_no_imputing</td>\n",
       "      <td>Lasso()</td>\n",
       "      <td>8.991252</td>\n",
       "    </tr>\n",
       "    <tr>\n",
       "      <th>1</th>\n",
       "      <td>PT_iterative_basic</td>\n",
       "      <td>original_ohe_no_imputing</td>\n",
       "      <td>RandomForestRegressor()</td>\n",
       "      <td>8.973596</td>\n",
       "    </tr>\n",
       "  </tbody>\n",
       "</table>\n",
       "</div>"
      ],
      "text/plain": [
       "  continuous_preprocessing categorical_pteprocessing                    model       MAE\n",
       "0       PT_iterative_basic  original_ohe_no_imputing                  Lasso()  8.991252\n",
       "1       PT_iterative_basic  original_ohe_no_imputing  RandomForestRegressor()  8.973596"
      ]
     },
     "execution_count": 21,
     "metadata": {},
     "output_type": "execute_result"
    }
   ],
   "source": [
    "models = [\n",
    "        Lasso(),\n",
    "        RandomForestRegressor(),\n",
    "        ]\n",
    "\n",
    "continuous_preprocessings = {\n",
    "    'PT_iterative_basic': Pipeline([('scaler', PowerTransformer()), ('imputer', IterativeImputer(initial_strategy='median', max_iter=10, tol=0.01))]),\n",
    "}\n",
    "\n",
    "categorical_preprocessings = {\n",
    "    'original_ohe_no_imputing': Pipeline([('one_hot_encoder', OneHotEncoder(handle_unknown='ignore'))]),\n",
    "}\n",
    "\n",
    "scores_df = explore_all_variations_of_preprocessing(X_train_vit_d, y_train_vit_d, VITAMINE_D, models, continuous_preprocessings, categorical_preprocessings)\n",
    "scores_df"
   ]
  },
  {
   "cell_type": "markdown",
   "metadata": {},
   "source": [
    "### Hyperparameter tuning"
   ]
  },
  {
   "cell_type": "markdown",
   "metadata": {},
   "source": [
    "### Lasso"
   ]
  },
  {
   "cell_type": "code",
   "execution_count": 159,
   "metadata": {},
   "outputs": [
    {
     "name": "stdout",
     "output_type": "stream",
     "text": [
      "Fitting 5 folds for each of 4 candidates, totalling 20 fits\n"
     ]
    },
    {
     "name": "stderr",
     "output_type": "stream",
     "text": [
      "c:\\Users\\karin\\.Studia\\magisterka\\Master_project\\.venv\\Lib\\site-packages\\sklearn\\impute\\_iterative.py:801: ConvergenceWarning: [IterativeImputer] Early stopping criterion not reached.\n",
      "  warnings.warn(\n"
     ]
    },
    {
     "name": "stdout",
     "output_type": "stream",
     "text": [
      "[CV 1/5] END model__alpha=0.1;, score=(train=-7.618, test=-8.872) total time= 2.1min\n"
     ]
    },
    {
     "name": "stderr",
     "output_type": "stream",
     "text": [
      "c:\\Users\\karin\\.Studia\\magisterka\\Master_project\\.venv\\Lib\\site-packages\\sklearn\\impute\\_iterative.py:801: ConvergenceWarning: [IterativeImputer] Early stopping criterion not reached.\n",
      "  warnings.warn(\n"
     ]
    },
    {
     "name": "stdout",
     "output_type": "stream",
     "text": [
      "[CV 2/5] END model__alpha=0.1;, score=(train=-7.105, test=-10.018) total time= 2.3min\n"
     ]
    },
    {
     "name": "stderr",
     "output_type": "stream",
     "text": [
      "c:\\Users\\karin\\.Studia\\magisterka\\Master_project\\.venv\\Lib\\site-packages\\sklearn\\impute\\_iterative.py:801: ConvergenceWarning: [IterativeImputer] Early stopping criterion not reached.\n",
      "  warnings.warn(\n"
     ]
    },
    {
     "name": "stdout",
     "output_type": "stream",
     "text": [
      "[CV 3/5] END model__alpha=0.1;, score=(train=-7.136, test=-9.957) total time= 2.0min\n"
     ]
    },
    {
     "name": "stderr",
     "output_type": "stream",
     "text": [
      "c:\\Users\\karin\\.Studia\\magisterka\\Master_project\\.venv\\Lib\\site-packages\\sklearn\\impute\\_iterative.py:801: ConvergenceWarning: [IterativeImputer] Early stopping criterion not reached.\n",
      "  warnings.warn(\n"
     ]
    },
    {
     "name": "stdout",
     "output_type": "stream",
     "text": [
      "[CV 4/5] END model__alpha=0.1;, score=(train=-7.420, test=-9.154) total time= 2.0min\n"
     ]
    },
    {
     "name": "stderr",
     "output_type": "stream",
     "text": [
      "c:\\Users\\karin\\.Studia\\magisterka\\Master_project\\.venv\\Lib\\site-packages\\sklearn\\impute\\_iterative.py:801: ConvergenceWarning: [IterativeImputer] Early stopping criterion not reached.\n",
      "  warnings.warn(\n"
     ]
    },
    {
     "name": "stdout",
     "output_type": "stream",
     "text": [
      "[CV 5/5] END model__alpha=0.1;, score=(train=-7.157, test=-9.413) total time= 2.0min\n"
     ]
    },
    {
     "name": "stderr",
     "output_type": "stream",
     "text": [
      "c:\\Users\\karin\\.Studia\\magisterka\\Master_project\\.venv\\Lib\\site-packages\\sklearn\\impute\\_iterative.py:801: ConvergenceWarning: [IterativeImputer] Early stopping criterion not reached.\n",
      "  warnings.warn(\n"
     ]
    },
    {
     "name": "stdout",
     "output_type": "stream",
     "text": [
      "[CV 1/5] END model__alpha=1;, score=(train=-8.508, test=-8.678) total time= 2.1min\n"
     ]
    },
    {
     "name": "stderr",
     "output_type": "stream",
     "text": [
      "c:\\Users\\karin\\.Studia\\magisterka\\Master_project\\.venv\\Lib\\site-packages\\sklearn\\impute\\_iterative.py:801: ConvergenceWarning: [IterativeImputer] Early stopping criterion not reached.\n",
      "  warnings.warn(\n"
     ]
    },
    {
     "name": "stdout",
     "output_type": "stream",
     "text": [
      "[CV 2/5] END model__alpha=1;, score=(train=-8.253, test=-9.013) total time= 2.2min\n"
     ]
    },
    {
     "name": "stderr",
     "output_type": "stream",
     "text": [
      "c:\\Users\\karin\\.Studia\\magisterka\\Master_project\\.venv\\Lib\\site-packages\\sklearn\\impute\\_iterative.py:801: ConvergenceWarning: [IterativeImputer] Early stopping criterion not reached.\n",
      "  warnings.warn(\n"
     ]
    },
    {
     "name": "stdout",
     "output_type": "stream",
     "text": [
      "[CV 3/5] END model__alpha=1;, score=(train=-8.487, test=-8.689) total time= 1.9min\n"
     ]
    },
    {
     "name": "stderr",
     "output_type": "stream",
     "text": [
      "c:\\Users\\karin\\.Studia\\magisterka\\Master_project\\.venv\\Lib\\site-packages\\sklearn\\impute\\_iterative.py:801: ConvergenceWarning: [IterativeImputer] Early stopping criterion not reached.\n",
      "  warnings.warn(\n"
     ]
    },
    {
     "name": "stdout",
     "output_type": "stream",
     "text": [
      "[CV 4/5] END model__alpha=1;, score=(train=-8.537, test=-8.569) total time= 2.1min\n"
     ]
    },
    {
     "name": "stderr",
     "output_type": "stream",
     "text": [
      "c:\\Users\\karin\\.Studia\\magisterka\\Master_project\\.venv\\Lib\\site-packages\\sklearn\\impute\\_iterative.py:801: ConvergenceWarning: [IterativeImputer] Early stopping criterion not reached.\n",
      "  warnings.warn(\n"
     ]
    },
    {
     "name": "stdout",
     "output_type": "stream",
     "text": [
      "[CV 5/5] END model__alpha=1;, score=(train=-8.420, test=-8.933) total time= 1.8min\n"
     ]
    },
    {
     "name": "stderr",
     "output_type": "stream",
     "text": [
      "c:\\Users\\karin\\.Studia\\magisterka\\Master_project\\.venv\\Lib\\site-packages\\sklearn\\impute\\_iterative.py:801: ConvergenceWarning: [IterativeImputer] Early stopping criterion not reached.\n",
      "  warnings.warn(\n"
     ]
    },
    {
     "name": "stdout",
     "output_type": "stream",
     "text": [
      "[CV 1/5] END model__alpha=10;, score=(train=-9.171, test=-9.519) total time= 1.6min\n"
     ]
    },
    {
     "name": "stderr",
     "output_type": "stream",
     "text": [
      "c:\\Users\\karin\\.Studia\\magisterka\\Master_project\\.venv\\Lib\\site-packages\\sklearn\\impute\\_iterative.py:801: ConvergenceWarning: [IterativeImputer] Early stopping criterion not reached.\n",
      "  warnings.warn(\n"
     ]
    },
    {
     "name": "stdout",
     "output_type": "stream",
     "text": [
      "[CV 2/5] END model__alpha=10;, score=(train=-9.152, test=-9.644) total time= 1.9min\n"
     ]
    },
    {
     "name": "stderr",
     "output_type": "stream",
     "text": [
      "c:\\Users\\karin\\.Studia\\magisterka\\Master_project\\.venv\\Lib\\site-packages\\sklearn\\impute\\_iterative.py:801: ConvergenceWarning: [IterativeImputer] Early stopping criterion not reached.\n",
      "  warnings.warn(\n"
     ]
    },
    {
     "name": "stdout",
     "output_type": "stream",
     "text": [
      "[CV 3/5] END model__alpha=10;, score=(train=-9.326, test=-8.977) total time= 1.7min\n"
     ]
    },
    {
     "name": "stderr",
     "output_type": "stream",
     "text": [
      "c:\\Users\\karin\\.Studia\\magisterka\\Master_project\\.venv\\Lib\\site-packages\\sklearn\\impute\\_iterative.py:801: ConvergenceWarning: [IterativeImputer] Early stopping criterion not reached.\n",
      "  warnings.warn(\n"
     ]
    },
    {
     "name": "stdout",
     "output_type": "stream",
     "text": [
      "[CV 4/5] END model__alpha=10;, score=(train=-9.359, test=-8.835) total time= 1.7min\n"
     ]
    },
    {
     "name": "stderr",
     "output_type": "stream",
     "text": [
      "c:\\Users\\karin\\.Studia\\magisterka\\Master_project\\.venv\\Lib\\site-packages\\sklearn\\impute\\_iterative.py:801: ConvergenceWarning: [IterativeImputer] Early stopping criterion not reached.\n",
      "  warnings.warn(\n"
     ]
    },
    {
     "name": "stdout",
     "output_type": "stream",
     "text": [
      "[CV 5/5] END model__alpha=10;, score=(train=-9.227, test=-9.281) total time= 1.6min\n"
     ]
    },
    {
     "name": "stderr",
     "output_type": "stream",
     "text": [
      "c:\\Users\\karin\\.Studia\\magisterka\\Master_project\\.venv\\Lib\\site-packages\\sklearn\\impute\\_iterative.py:801: ConvergenceWarning: [IterativeImputer] Early stopping criterion not reached.\n",
      "  warnings.warn(\n"
     ]
    },
    {
     "name": "stdout",
     "output_type": "stream",
     "text": [
      "[CV 1/5] END model__alpha=100;, score=(train=-9.171, test=-9.519) total time= 1.8min\n"
     ]
    },
    {
     "name": "stderr",
     "output_type": "stream",
     "text": [
      "c:\\Users\\karin\\.Studia\\magisterka\\Master_project\\.venv\\Lib\\site-packages\\sklearn\\impute\\_iterative.py:801: ConvergenceWarning: [IterativeImputer] Early stopping criterion not reached.\n",
      "  warnings.warn(\n"
     ]
    },
    {
     "name": "stdout",
     "output_type": "stream",
     "text": [
      "[CV 2/5] END model__alpha=100;, score=(train=-9.152, test=-9.644) total time= 1.8min\n"
     ]
    },
    {
     "name": "stderr",
     "output_type": "stream",
     "text": [
      "c:\\Users\\karin\\.Studia\\magisterka\\Master_project\\.venv\\Lib\\site-packages\\sklearn\\impute\\_iterative.py:801: ConvergenceWarning: [IterativeImputer] Early stopping criterion not reached.\n",
      "  warnings.warn(\n"
     ]
    },
    {
     "name": "stdout",
     "output_type": "stream",
     "text": [
      "[CV 3/5] END model__alpha=100;, score=(train=-9.326, test=-8.977) total time= 1.8min\n"
     ]
    },
    {
     "name": "stderr",
     "output_type": "stream",
     "text": [
      "c:\\Users\\karin\\.Studia\\magisterka\\Master_project\\.venv\\Lib\\site-packages\\sklearn\\impute\\_iterative.py:801: ConvergenceWarning: [IterativeImputer] Early stopping criterion not reached.\n",
      "  warnings.warn(\n"
     ]
    },
    {
     "name": "stdout",
     "output_type": "stream",
     "text": [
      "[CV 4/5] END model__alpha=100;, score=(train=-9.359, test=-8.835) total time= 1.8min\n"
     ]
    },
    {
     "name": "stderr",
     "output_type": "stream",
     "text": [
      "c:\\Users\\karin\\.Studia\\magisterka\\Master_project\\.venv\\Lib\\site-packages\\sklearn\\impute\\_iterative.py:801: ConvergenceWarning: [IterativeImputer] Early stopping criterion not reached.\n",
      "  warnings.warn(\n"
     ]
    },
    {
     "name": "stdout",
     "output_type": "stream",
     "text": [
      "[CV 5/5] END model__alpha=100;, score=(train=-9.227, test=-9.281) total time= 1.8min\n"
     ]
    },
    {
     "name": "stderr",
     "output_type": "stream",
     "text": [
      "c:\\Users\\karin\\.Studia\\magisterka\\Master_project\\.venv\\Lib\\site-packages\\sklearn\\impute\\_iterative.py:801: ConvergenceWarning: [IterativeImputer] Early stopping criterion not reached.\n",
      "  warnings.warn(\n"
     ]
    },
    {
     "data": {
      "image/png": "[encoded data removed]",
      "text/plain": [
       "<Figure size 640x480 with 1 Axes>"
      ]
     },
     "metadata": {},
     "output_type": "display_data"
    },
    {
     "data": {
      "text/html": [
       "<div>\n",
       "<style scoped>\n",
       "    .dataframe tbody tr th:only-of-type {\n",
       "        vertical-align: middle;\n",
       "    }\n",
       "\n",
       "    .dataframe tbody tr th {\n",
       "        vertical-align: top;\n",
       "    }\n",
       "\n",
       "    .dataframe thead th {\n",
       "        text-align: right;\n",
       "    }\n",
       "</style>\n",
       "<table border=\"1\" class=\"dataframe\">\n",
       "  <thead>\n",
       "    <tr style=\"text-align: right;\">\n",
       "      <th></th>\n",
       "      <th>alpha</th>\n",
       "      <th>mean_test_mae</th>\n",
       "      <th>mean_train_mae</th>\n",
       "    </tr>\n",
       "  </thead>\n",
       "  <tbody>\n",
       "    <tr>\n",
       "      <th>0</th>\n",
       "      <td>0.1</td>\n",
       "      <td>9.482719</td>\n",
       "      <td>7.287089</td>\n",
       "    </tr>\n",
       "    <tr>\n",
       "      <th>1</th>\n",
       "      <td>1</td>\n",
       "      <td>8.776057</td>\n",
       "      <td>8.440962</td>\n",
       "    </tr>\n",
       "    <tr>\n",
       "      <th>2</th>\n",
       "      <td>10</td>\n",
       "      <td>9.251144</td>\n",
       "      <td>9.246933</td>\n",
       "    </tr>\n",
       "    <tr>\n",
       "      <th>3</th>\n",
       "      <td>100</td>\n",
       "      <td>9.251144</td>\n",
       "      <td>9.246933</td>\n",
       "    </tr>\n",
       "  </tbody>\n",
       "</table>\n",
       "</div>"
      ],
      "text/plain": [
       "  alpha  mean_test_mae  mean_train_mae\n",
       "0   0.1       9.482719        7.287089\n",
       "1     1       8.776057        8.440962\n",
       "2    10       9.251144        9.246933\n",
       "3   100       9.251144        9.246933"
      ]
     },
     "execution_count": 159,
     "metadata": {},
     "output_type": "execute_result"
    }
   ],
   "source": [
    "lasso_model = Lasso()\n",
    "\n",
    "lasso_param_grid = {\n",
    "    \"model__alpha\": [0.1, 1, 10, 100],\n",
    "    }\n",
    "\n",
    "vit_d_lasso_model_hyperparam_tuning_df = hyperparameter_tuning_linear(X_train_vit_d, y_train_vit_d, VITAMINE_D, Lasso(), continuous_preprocessor, categorical_preprocessor, lasso_param_grid, main_parameter='alpha')\n",
    "vit_d_lasso_model_hyperparam_tuning_df"
   ]
  },
  {
   "cell_type": "markdown",
   "metadata": {},
   "source": [
    "### Ridge"
   ]
  },
  {
   "cell_type": "code",
   "execution_count": 160,
   "metadata": {},
   "outputs": [
    {
     "name": "stdout",
     "output_type": "stream",
     "text": [
      "Fitting 5 folds for each of 6 candidates, totalling 30 fits\n"
     ]
    },
    {
     "name": "stderr",
     "output_type": "stream",
     "text": [
      "c:\\Users\\karin\\.Studia\\magisterka\\Master_project\\.venv\\Lib\\site-packages\\sklearn\\impute\\_iterative.py:801: ConvergenceWarning: [IterativeImputer] Early stopping criterion not reached.\n",
      "  warnings.warn(\n"
     ]
    },
    {
     "name": "stdout",
     "output_type": "stream",
     "text": [
      "[CV 1/5] END model__alpha=0.1;, score=(train=-6.677, test=-13.838) total time= 1.9min\n"
     ]
    },
    {
     "name": "stderr",
     "output_type": "stream",
     "text": [
      "c:\\Users\\karin\\.Studia\\magisterka\\Master_project\\.venv\\Lib\\site-packages\\sklearn\\impute\\_iterative.py:801: ConvergenceWarning: [IterativeImputer] Early stopping criterion not reached.\n",
      "  warnings.warn(\n"
     ]
    },
    {
     "name": "stdout",
     "output_type": "stream",
     "text": [
      "[CV 2/5] END model__alpha=0.1;, score=(train=-6.402, test=-12.776) total time= 1.9min\n"
     ]
    },
    {
     "name": "stderr",
     "output_type": "stream",
     "text": [
      "c:\\Users\\karin\\.Studia\\magisterka\\Master_project\\.venv\\Lib\\site-packages\\sklearn\\impute\\_iterative.py:801: ConvergenceWarning: [IterativeImputer] Early stopping criterion not reached.\n",
      "  warnings.warn(\n"
     ]
    },
    {
     "name": "stdout",
     "output_type": "stream",
     "text": [
      "[CV 3/5] END model__alpha=0.1;, score=(train=-6.332, test=-12.562) total time= 1.7min\n"
     ]
    },
    {
     "name": "stderr",
     "output_type": "stream",
     "text": [
      "c:\\Users\\karin\\.Studia\\magisterka\\Master_project\\.venv\\Lib\\site-packages\\sklearn\\impute\\_iterative.py:801: ConvergenceWarning: [IterativeImputer] Early stopping criterion not reached.\n",
      "  warnings.warn(\n"
     ]
    },
    {
     "name": "stdout",
     "output_type": "stream",
     "text": [
      "[CV 4/5] END model__alpha=0.1;, score=(train=-6.576, test=-10.044) total time= 1.9min\n"
     ]
    },
    {
     "name": "stderr",
     "output_type": "stream",
     "text": [
      "c:\\Users\\karin\\.Studia\\magisterka\\Master_project\\.venv\\Lib\\site-packages\\sklearn\\impute\\_iterative.py:801: ConvergenceWarning: [IterativeImputer] Early stopping criterion not reached.\n",
      "  warnings.warn(\n"
     ]
    },
    {
     "name": "stdout",
     "output_type": "stream",
     "text": [
      "[CV 5/5] END model__alpha=0.1;, score=(train=-6.200, test=-12.416) total time= 1.9min\n"
     ]
    },
    {
     "name": "stderr",
     "output_type": "stream",
     "text": [
      "c:\\Users\\karin\\.Studia\\magisterka\\Master_project\\.venv\\Lib\\site-packages\\sklearn\\impute\\_iterative.py:801: ConvergenceWarning: [IterativeImputer] Early stopping criterion not reached.\n",
      "  warnings.warn(\n"
     ]
    },
    {
     "name": "stdout",
     "output_type": "stream",
     "text": [
      "[CV 1/5] END model__alpha=1;, score=(train=-6.951, test=-10.655) total time= 1.8min\n"
     ]
    },
    {
     "name": "stderr",
     "output_type": "stream",
     "text": [
      "c:\\Users\\karin\\.Studia\\magisterka\\Master_project\\.venv\\Lib\\site-packages\\sklearn\\impute\\_iterative.py:801: ConvergenceWarning: [IterativeImputer] Early stopping criterion not reached.\n",
      "  warnings.warn(\n"
     ]
    },
    {
     "name": "stdout",
     "output_type": "stream",
     "text": [
      "[CV 2/5] END model__alpha=1;, score=(train=-6.580, test=-11.748) total time= 1.8min\n"
     ]
    },
    {
     "name": "stderr",
     "output_type": "stream",
     "text": [
      "c:\\Users\\karin\\.Studia\\magisterka\\Master_project\\.venv\\Lib\\site-packages\\sklearn\\impute\\_iterative.py:801: ConvergenceWarning: [IterativeImputer] Early stopping criterion not reached.\n",
      "  warnings.warn(\n"
     ]
    },
    {
     "name": "stdout",
     "output_type": "stream",
     "text": [
      "[CV 3/5] END model__alpha=1;, score=(train=-6.560, test=-11.788) total time= 1.7min\n"
     ]
    },
    {
     "name": "stderr",
     "output_type": "stream",
     "text": [
      "c:\\Users\\karin\\.Studia\\magisterka\\Master_project\\.venv\\Lib\\site-packages\\sklearn\\impute\\_iterative.py:801: ConvergenceWarning: [IterativeImputer] Early stopping criterion not reached.\n",
      "  warnings.warn(\n"
     ]
    },
    {
     "name": "stdout",
     "output_type": "stream",
     "text": [
      "[CV 4/5] END model__alpha=1;, score=(train=-6.784, test=-9.770) total time= 1.7min\n"
     ]
    },
    {
     "name": "stderr",
     "output_type": "stream",
     "text": [
      "c:\\Users\\karin\\.Studia\\magisterka\\Master_project\\.venv\\Lib\\site-packages\\sklearn\\impute\\_iterative.py:801: ConvergenceWarning: [IterativeImputer] Early stopping criterion not reached.\n",
      "  warnings.warn(\n"
     ]
    },
    {
     "name": "stdout",
     "output_type": "stream",
     "text": [
      "[CV 5/5] END model__alpha=1;, score=(train=-6.468, test=-11.274) total time= 1.8min\n"
     ]
    },
    {
     "name": "stderr",
     "output_type": "stream",
     "text": [
      "c:\\Users\\karin\\.Studia\\magisterka\\Master_project\\.venv\\Lib\\site-packages\\sklearn\\impute\\_iterative.py:801: ConvergenceWarning: [IterativeImputer] Early stopping criterion not reached.\n",
      "  warnings.warn(\n"
     ]
    },
    {
     "name": "stdout",
     "output_type": "stream",
     "text": [
      "[CV 1/5] END model__alpha=10;, score=(train=-7.305, test=-9.589) total time= 1.8min\n"
     ]
    },
    {
     "name": "stderr",
     "output_type": "stream",
     "text": [
      "c:\\Users\\karin\\.Studia\\magisterka\\Master_project\\.venv\\Lib\\site-packages\\sklearn\\impute\\_iterative.py:801: ConvergenceWarning: [IterativeImputer] Early stopping criterion not reached.\n",
      "  warnings.warn(\n"
     ]
    },
    {
     "name": "stdout",
     "output_type": "stream",
     "text": [
      "[CV 2/5] END model__alpha=10;, score=(train=-6.870, test=-10.649) total time= 1.7min\n"
     ]
    },
    {
     "name": "stderr",
     "output_type": "stream",
     "text": [
      "c:\\Users\\karin\\.Studia\\magisterka\\Master_project\\.venv\\Lib\\site-packages\\sklearn\\impute\\_iterative.py:801: ConvergenceWarning: [IterativeImputer] Early stopping criterion not reached.\n",
      "  warnings.warn(\n"
     ]
    },
    {
     "name": "stdout",
     "output_type": "stream",
     "text": [
      "[CV 3/5] END model__alpha=10;, score=(train=-6.878, test=-10.573) total time= 1.6min\n"
     ]
    },
    {
     "name": "stderr",
     "output_type": "stream",
     "text": [
      "c:\\Users\\karin\\.Studia\\magisterka\\Master_project\\.venv\\Lib\\site-packages\\sklearn\\impute\\_iterative.py:801: ConvergenceWarning: [IterativeImputer] Early stopping criterion not reached.\n",
      "  warnings.warn(\n"
     ]
    },
    {
     "name": "stdout",
     "output_type": "stream",
     "text": [
      "[CV 4/5] END model__alpha=10;, score=(train=-7.111, test=-9.272) total time= 1.9min\n"
     ]
    },
    {
     "name": "stderr",
     "output_type": "stream",
     "text": [
      "c:\\Users\\karin\\.Studia\\magisterka\\Master_project\\.venv\\Lib\\site-packages\\sklearn\\impute\\_iterative.py:801: ConvergenceWarning: [IterativeImputer] Early stopping criterion not reached.\n",
      "  warnings.warn(\n"
     ]
    },
    {
     "name": "stdout",
     "output_type": "stream",
     "text": [
      "[CV 5/5] END model__alpha=10;, score=(train=-6.834, test=-9.916) total time= 2.2min\n"
     ]
    },
    {
     "name": "stderr",
     "output_type": "stream",
     "text": [
      "c:\\Users\\karin\\.Studia\\magisterka\\Master_project\\.venv\\Lib\\site-packages\\sklearn\\impute\\_iterative.py:801: ConvergenceWarning: [IterativeImputer] Early stopping criterion not reached.\n",
      "  warnings.warn(\n"
     ]
    },
    {
     "name": "stdout",
     "output_type": "stream",
     "text": [
      "[CV 1/5] END model__alpha=100;, score=(train=-7.734, test=-8.827) total time= 2.2min\n"
     ]
    },
    {
     "name": "stderr",
     "output_type": "stream",
     "text": [
      "c:\\Users\\karin\\.Studia\\magisterka\\Master_project\\.venv\\Lib\\site-packages\\sklearn\\impute\\_iterative.py:801: ConvergenceWarning: [IterativeImputer] Early stopping criterion not reached.\n",
      "  warnings.warn(\n"
     ]
    },
    {
     "name": "stdout",
     "output_type": "stream",
     "text": [
      "[CV 2/5] END model__alpha=100;, score=(train=-7.348, test=-9.463) total time= 1.8min\n"
     ]
    },
    {
     "name": "stderr",
     "output_type": "stream",
     "text": [
      "c:\\Users\\karin\\.Studia\\magisterka\\Master_project\\.venv\\Lib\\site-packages\\sklearn\\impute\\_iterative.py:801: ConvergenceWarning: [IterativeImputer] Early stopping criterion not reached.\n",
      "  warnings.warn(\n"
     ]
    },
    {
     "name": "stdout",
     "output_type": "stream",
     "text": [
      "[CV 3/5] END model__alpha=100;, score=(train=-7.463, test=-9.588) total time= 1.7min\n"
     ]
    },
    {
     "name": "stderr",
     "output_type": "stream",
     "text": [
      "c:\\Users\\karin\\.Studia\\magisterka\\Master_project\\.venv\\Lib\\site-packages\\sklearn\\impute\\_iterative.py:801: ConvergenceWarning: [IterativeImputer] Early stopping criterion not reached.\n",
      "  warnings.warn(\n"
     ]
    },
    {
     "name": "stdout",
     "output_type": "stream",
     "text": [
      "[CV 4/5] END model__alpha=100;, score=(train=-7.621, test=-8.725) total time= 1.6min\n"
     ]
    },
    {
     "name": "stderr",
     "output_type": "stream",
     "text": [
      "c:\\Users\\karin\\.Studia\\magisterka\\Master_project\\.venv\\Lib\\site-packages\\sklearn\\impute\\_iterative.py:801: ConvergenceWarning: [IterativeImputer] Early stopping criterion not reached.\n",
      "  warnings.warn(\n"
     ]
    },
    {
     "name": "stdout",
     "output_type": "stream",
     "text": [
      "[CV 5/5] END model__alpha=100;, score=(train=-7.400, test=-9.147) total time= 1.6min\n"
     ]
    },
    {
     "name": "stderr",
     "output_type": "stream",
     "text": [
      "c:\\Users\\karin\\.Studia\\magisterka\\Master_project\\.venv\\Lib\\site-packages\\sklearn\\impute\\_iterative.py:801: ConvergenceWarning: [IterativeImputer] Early stopping criterion not reached.\n",
      "  warnings.warn(\n"
     ]
    },
    {
     "name": "stdout",
     "output_type": "stream",
     "text": [
      "[CV 1/5] END model__alpha=1000;, score=(train=-8.280, test=-8.733) total time= 1.6min\n"
     ]
    },
    {
     "name": "stderr",
     "output_type": "stream",
     "text": [
      "c:\\Users\\karin\\.Studia\\magisterka\\Master_project\\.venv\\Lib\\site-packages\\sklearn\\impute\\_iterative.py:801: ConvergenceWarning: [IterativeImputer] Early stopping criterion not reached.\n",
      "  warnings.warn(\n"
     ]
    },
    {
     "name": "stdout",
     "output_type": "stream",
     "text": [
      "[CV 2/5] END model__alpha=1000;, score=(train=-8.159, test=-8.978) total time= 1.7min\n"
     ]
    },
    {
     "name": "stderr",
     "output_type": "stream",
     "text": [
      "c:\\Users\\karin\\.Studia\\magisterka\\Master_project\\.venv\\Lib\\site-packages\\sklearn\\impute\\_iterative.py:801: ConvergenceWarning: [IterativeImputer] Early stopping criterion not reached.\n",
      "  warnings.warn(\n"
     ]
    },
    {
     "name": "stdout",
     "output_type": "stream",
     "text": [
      "[CV 3/5] END model__alpha=1000;, score=(train=-8.242, test=-8.915) total time= 1.6min\n"
     ]
    },
    {
     "name": "stderr",
     "output_type": "stream",
     "text": [
      "c:\\Users\\karin\\.Studia\\magisterka\\Master_project\\.venv\\Lib\\site-packages\\sklearn\\impute\\_iterative.py:801: ConvergenceWarning: [IterativeImputer] Early stopping criterion not reached.\n",
      "  warnings.warn(\n"
     ]
    },
    {
     "name": "stdout",
     "output_type": "stream",
     "text": [
      "[CV 4/5] END model__alpha=1000;, score=(train=-8.375, test=-8.428) total time= 1.6min\n"
     ]
    },
    {
     "name": "stderr",
     "output_type": "stream",
     "text": [
      "c:\\Users\\karin\\.Studia\\magisterka\\Master_project\\.venv\\Lib\\site-packages\\sklearn\\impute\\_iterative.py:801: ConvergenceWarning: [IterativeImputer] Early stopping criterion not reached.\n",
      "  warnings.warn(\n"
     ]
    },
    {
     "name": "stdout",
     "output_type": "stream",
     "text": [
      "[CV 5/5] END model__alpha=1000;, score=(train=-8.163, test=-8.934) total time= 1.6min\n"
     ]
    },
    {
     "name": "stderr",
     "output_type": "stream",
     "text": [
      "c:\\Users\\karin\\.Studia\\magisterka\\Master_project\\.venv\\Lib\\site-packages\\sklearn\\impute\\_iterative.py:801: ConvergenceWarning: [IterativeImputer] Early stopping criterion not reached.\n",
      "  warnings.warn(\n"
     ]
    },
    {
     "name": "stdout",
     "output_type": "stream",
     "text": [
      "[CV 1/5] END model__alpha=10000;, score=(train=-8.835, test=-9.177) total time= 1.6min\n"
     ]
    },
    {
     "name": "stderr",
     "output_type": "stream",
     "text": [
      "c:\\Users\\karin\\.Studia\\magisterka\\Master_project\\.venv\\Lib\\site-packages\\sklearn\\impute\\_iterative.py:801: ConvergenceWarning: [IterativeImputer] Early stopping criterion not reached.\n",
      "  warnings.warn(\n"
     ]
    },
    {
     "name": "stdout",
     "output_type": "stream",
     "text": [
      "[CV 2/5] END model__alpha=10000;, score=(train=-8.797, test=-9.336) total time= 1.7min\n"
     ]
    },
    {
     "name": "stderr",
     "output_type": "stream",
     "text": [
      "c:\\Users\\karin\\.Studia\\magisterka\\Master_project\\.venv\\Lib\\site-packages\\sklearn\\impute\\_iterative.py:801: ConvergenceWarning: [IterativeImputer] Early stopping criterion not reached.\n",
      "  warnings.warn(\n"
     ]
    },
    {
     "name": "stdout",
     "output_type": "stream",
     "text": [
      "[CV 3/5] END model__alpha=10000;, score=(train=-8.937, test=-8.811) total time= 1.6min\n"
     ]
    },
    {
     "name": "stderr",
     "output_type": "stream",
     "text": [
      "c:\\Users\\karin\\.Studia\\magisterka\\Master_project\\.venv\\Lib\\site-packages\\sklearn\\impute\\_iterative.py:801: ConvergenceWarning: [IterativeImputer] Early stopping criterion not reached.\n",
      "  warnings.warn(\n"
     ]
    },
    {
     "name": "stdout",
     "output_type": "stream",
     "text": [
      "[CV 4/5] END model__alpha=10000;, score=(train=-9.038, test=-8.599) total time= 1.6min\n"
     ]
    },
    {
     "name": "stderr",
     "output_type": "stream",
     "text": [
      "c:\\Users\\karin\\.Studia\\magisterka\\Master_project\\.venv\\Lib\\site-packages\\sklearn\\impute\\_iterative.py:801: ConvergenceWarning: [IterativeImputer] Early stopping criterion not reached.\n",
      "  warnings.warn(\n"
     ]
    },
    {
     "name": "stdout",
     "output_type": "stream",
     "text": [
      "[CV 5/5] END model__alpha=10000;, score=(train=-8.835, test=-9.049) total time= 1.6min\n"
     ]
    },
    {
     "name": "stderr",
     "output_type": "stream",
     "text": [
      "c:\\Users\\karin\\.Studia\\magisterka\\Master_project\\.venv\\Lib\\site-packages\\sklearn\\impute\\_iterative.py:801: ConvergenceWarning: [IterativeImputer] Early stopping criterion not reached.\n",
      "  warnings.warn(\n"
     ]
    },
    {
     "data": {
      "image/png": "[encoded data removed]",
      "text/plain": [
       "<Figure size 640x480 with 1 Axes>"
      ]
     },
     "metadata": {},
     "output_type": "display_data"
    },
    {
     "data": {
      "text/html": [
       "<div>\n",
       "<style scoped>\n",
       "    .dataframe tbody tr th:only-of-type {\n",
       "        vertical-align: middle;\n",
       "    }\n",
       "\n",
       "    .dataframe tbody tr th {\n",
       "        vertical-align: top;\n",
       "    }\n",
       "\n",
       "    .dataframe thead th {\n",
       "        text-align: right;\n",
       "    }\n",
       "</style>\n",
       "<table border=\"1\" class=\"dataframe\">\n",
       "  <thead>\n",
       "    <tr style=\"text-align: right;\">\n",
       "      <th></th>\n",
       "      <th>alpha</th>\n",
       "      <th>mean_test_mae</th>\n",
       "      <th>mean_train_mae</th>\n",
       "    </tr>\n",
       "  </thead>\n",
       "  <tbody>\n",
       "    <tr>\n",
       "      <th>0</th>\n",
       "      <td>0.1</td>\n",
       "      <td>12.327277</td>\n",
       "      <td>6.437382</td>\n",
       "    </tr>\n",
       "    <tr>\n",
       "      <th>1</th>\n",
       "      <td>1</td>\n",
       "      <td>11.047088</td>\n",
       "      <td>6.668634</td>\n",
       "    </tr>\n",
       "    <tr>\n",
       "      <th>2</th>\n",
       "      <td>10</td>\n",
       "      <td>9.999707</td>\n",
       "      <td>6.999810</td>\n",
       "    </tr>\n",
       "    <tr>\n",
       "      <th>3</th>\n",
       "      <td>100</td>\n",
       "      <td>9.150052</td>\n",
       "      <td>7.513340</td>\n",
       "    </tr>\n",
       "    <tr>\n",
       "      <th>4</th>\n",
       "      <td>1000</td>\n",
       "      <td>8.797646</td>\n",
       "      <td>8.243757</td>\n",
       "    </tr>\n",
       "    <tr>\n",
       "      <th>5</th>\n",
       "      <td>10000</td>\n",
       "      <td>8.994415</td>\n",
       "      <td>8.888438</td>\n",
       "    </tr>\n",
       "  </tbody>\n",
       "</table>\n",
       "</div>"
      ],
      "text/plain": [
       "   alpha  mean_test_mae  mean_train_mae\n",
       "0    0.1      12.327277        6.437382\n",
       "1      1      11.047088        6.668634\n",
       "2     10       9.999707        6.999810\n",
       "3    100       9.150052        7.513340\n",
       "4   1000       8.797646        8.243757\n",
       "5  10000       8.994415        8.888438"
      ]
     },
     "execution_count": 160,
     "metadata": {},
     "output_type": "execute_result"
    }
   ],
   "source": [
    "ridge_param_grid = {\n",
    "    \"model__alpha\": [0.1, 1, 10, 100, 1000, 10000],\n",
    "}\n",
    "\n",
    "vit_d_ridge_model_hyperparam_tuning_df = hyperparameter_tuning_linear(X_train_vit_d, y_train_vit_d, VITAMINE_D, Ridge(), continuous_preprocessor, categorical_preprocessor, ridge_param_grid, main_parameter='alpha')\n",
    "vit_d_ridge_model_hyperparam_tuning_df"
   ]
  },
  {
   "cell_type": "markdown",
   "metadata": {},
   "source": [
    "### DecisionTreeRegressor"
   ]
  },
  {
   "cell_type": "code",
   "execution_count": 34,
   "metadata": {},
   "outputs": [
    {
     "name": "stdout",
     "output_type": "stream",
     "text": [
      "Fitting 5 folds for each of 5 candidates, totalling 25 fits\n"
     ]
    },
    {
     "name": "stderr",
     "output_type": "stream",
     "text": [
      "c:\\Users\\karin\\.Studia\\magisterka\\Master_project\\.venv\\Lib\\site-packages\\sklearn\\impute\\_iterative.py:801: ConvergenceWarning: [IterativeImputer] Early stopping criterion not reached.\n",
      "  warnings.warn(\n"
     ]
    },
    {
     "name": "stdout",
     "output_type": "stream",
     "text": [
      "[CV 1/5] END model__max_depth=2;, score=(train=-8.204, test=-10.056) total time= 1.5min\n"
     ]
    },
    {
     "name": "stderr",
     "output_type": "stream",
     "text": [
      "c:\\Users\\karin\\.Studia\\magisterka\\Master_project\\.venv\\Lib\\site-packages\\sklearn\\impute\\_iterative.py:801: ConvergenceWarning: [IterativeImputer] Early stopping criterion not reached.\n",
      "  warnings.warn(\n"
     ]
    },
    {
     "name": "stdout",
     "output_type": "stream",
     "text": [
      "[CV 2/5] END model__max_depth=2;, score=(train=-8.159, test=-9.783) total time= 1.8min\n"
     ]
    },
    {
     "name": "stderr",
     "output_type": "stream",
     "text": [
      "c:\\Users\\karin\\.Studia\\magisterka\\Master_project\\.venv\\Lib\\site-packages\\sklearn\\impute\\_iterative.py:801: ConvergenceWarning: [IterativeImputer] Early stopping criterion not reached.\n",
      "  warnings.warn(\n"
     ]
    },
    {
     "name": "stdout",
     "output_type": "stream",
     "text": [
      "[CV 3/5] END model__max_depth=2;, score=(train=-8.405, test=-8.933) total time= 1.8min\n"
     ]
    },
    {
     "name": "stderr",
     "output_type": "stream",
     "text": [
      "c:\\Users\\karin\\.Studia\\magisterka\\Master_project\\.venv\\Lib\\site-packages\\sklearn\\impute\\_iterative.py:801: ConvergenceWarning: [IterativeImputer] Early stopping criterion not reached.\n",
      "  warnings.warn(\n"
     ]
    },
    {
     "name": "stdout",
     "output_type": "stream",
     "text": [
      "[CV 4/5] END model__max_depth=2;, score=(train=-8.365, test=-9.506) total time= 2.1min\n"
     ]
    },
    {
     "name": "stderr",
     "output_type": "stream",
     "text": [
      "c:\\Users\\karin\\.Studia\\magisterka\\Master_project\\.venv\\Lib\\site-packages\\sklearn\\impute\\_iterative.py:801: ConvergenceWarning: [IterativeImputer] Early stopping criterion not reached.\n",
      "  warnings.warn(\n"
     ]
    },
    {
     "name": "stdout",
     "output_type": "stream",
     "text": [
      "[CV 5/5] END model__max_depth=2;, score=(train=-8.203, test=-9.629) total time= 1.5min\n"
     ]
    },
    {
     "name": "stderr",
     "output_type": "stream",
     "text": [
      "c:\\Users\\karin\\.Studia\\magisterka\\Master_project\\.venv\\Lib\\site-packages\\sklearn\\impute\\_iterative.py:801: ConvergenceWarning: [IterativeImputer] Early stopping criterion not reached.\n",
      "  warnings.warn(\n"
     ]
    },
    {
     "name": "stdout",
     "output_type": "stream",
     "text": [
      "[CV 1/5] END model__max_depth=3;, score=(train=-7.690, test=-10.122) total time= 1.5min\n"
     ]
    },
    {
     "name": "stderr",
     "output_type": "stream",
     "text": [
      "c:\\Users\\karin\\.Studia\\magisterka\\Master_project\\.venv\\Lib\\site-packages\\sklearn\\impute\\_iterative.py:801: ConvergenceWarning: [IterativeImputer] Early stopping criterion not reached.\n",
      "  warnings.warn(\n"
     ]
    },
    {
     "name": "stdout",
     "output_type": "stream",
     "text": [
      "[CV 2/5] END model__max_depth=3;, score=(train=-7.763, test=-9.856) total time= 1.5min\n"
     ]
    },
    {
     "name": "stderr",
     "output_type": "stream",
     "text": [
      "c:\\Users\\karin\\.Studia\\magisterka\\Master_project\\.venv\\Lib\\site-packages\\sklearn\\impute\\_iterative.py:801: ConvergenceWarning: [IterativeImputer] Early stopping criterion not reached.\n",
      "  warnings.warn(\n"
     ]
    },
    {
     "name": "stdout",
     "output_type": "stream",
     "text": [
      "[CV 3/5] END model__max_depth=3;, score=(train=-7.743, test=-9.489) total time= 1.5min\n"
     ]
    },
    {
     "name": "stderr",
     "output_type": "stream",
     "text": [
      "c:\\Users\\karin\\.Studia\\magisterka\\Master_project\\.venv\\Lib\\site-packages\\sklearn\\impute\\_iterative.py:801: ConvergenceWarning: [IterativeImputer] Early stopping criterion not reached.\n",
      "  warnings.warn(\n"
     ]
    },
    {
     "name": "stdout",
     "output_type": "stream",
     "text": [
      "[CV 4/5] END model__max_depth=3;, score=(train=-7.655, test=-10.775) total time= 1.5min\n"
     ]
    },
    {
     "name": "stderr",
     "output_type": "stream",
     "text": [
      "c:\\Users\\karin\\.Studia\\magisterka\\Master_project\\.venv\\Lib\\site-packages\\sklearn\\impute\\_iterative.py:801: ConvergenceWarning: [IterativeImputer] Early stopping criterion not reached.\n",
      "  warnings.warn(\n"
     ]
    },
    {
     "name": "stdout",
     "output_type": "stream",
     "text": [
      "[CV 5/5] END model__max_depth=3;, score=(train=-7.752, test=-9.685) total time= 1.5min\n"
     ]
    },
    {
     "name": "stderr",
     "output_type": "stream",
     "text": [
      "c:\\Users\\karin\\.Studia\\magisterka\\Master_project\\.venv\\Lib\\site-packages\\sklearn\\impute\\_iterative.py:801: ConvergenceWarning: [IterativeImputer] Early stopping criterion not reached.\n",
      "  warnings.warn(\n"
     ]
    },
    {
     "name": "stdout",
     "output_type": "stream",
     "text": [
      "[CV 1/5] END model__max_depth=4;, score=(train=-7.165, test=-9.567) total time= 1.5min\n"
     ]
    },
    {
     "name": "stderr",
     "output_type": "stream",
     "text": [
      "c:\\Users\\karin\\.Studia\\magisterka\\Master_project\\.venv\\Lib\\site-packages\\sklearn\\impute\\_iterative.py:801: ConvergenceWarning: [IterativeImputer] Early stopping criterion not reached.\n",
      "  warnings.warn(\n"
     ]
    },
    {
     "name": "stdout",
     "output_type": "stream",
     "text": [
      "[CV 2/5] END model__max_depth=4;, score=(train=-7.489, test=-10.300) total time= 1.5min\n"
     ]
    },
    {
     "name": "stderr",
     "output_type": "stream",
     "text": [
      "c:\\Users\\karin\\.Studia\\magisterka\\Master_project\\.venv\\Lib\\site-packages\\sklearn\\impute\\_iterative.py:801: ConvergenceWarning: [IterativeImputer] Early stopping criterion not reached.\n",
      "  warnings.warn(\n"
     ]
    },
    {
     "name": "stdout",
     "output_type": "stream",
     "text": [
      "[CV 3/5] END model__max_depth=4;, score=(train=-7.115, test=-10.333) total time= 1.5min\n"
     ]
    },
    {
     "name": "stderr",
     "output_type": "stream",
     "text": [
      "c:\\Users\\karin\\.Studia\\magisterka\\Master_project\\.venv\\Lib\\site-packages\\sklearn\\impute\\_iterative.py:801: ConvergenceWarning: [IterativeImputer] Early stopping criterion not reached.\n",
      "  warnings.warn(\n"
     ]
    },
    {
     "name": "stdout",
     "output_type": "stream",
     "text": [
      "[CV 4/5] END model__max_depth=4;, score=(train=-6.755, test=-11.213) total time= 1.5min\n"
     ]
    },
    {
     "name": "stderr",
     "output_type": "stream",
     "text": [
      "c:\\Users\\karin\\.Studia\\magisterka\\Master_project\\.venv\\Lib\\site-packages\\sklearn\\impute\\_iterative.py:801: ConvergenceWarning: [IterativeImputer] Early stopping criterion not reached.\n",
      "  warnings.warn(\n"
     ]
    },
    {
     "name": "stdout",
     "output_type": "stream",
     "text": [
      "[CV 5/5] END model__max_depth=4;, score=(train=-7.281, test=-9.770) total time= 1.5min\n"
     ]
    },
    {
     "name": "stderr",
     "output_type": "stream",
     "text": [
      "c:\\Users\\karin\\.Studia\\magisterka\\Master_project\\.venv\\Lib\\site-packages\\sklearn\\impute\\_iterative.py:801: ConvergenceWarning: [IterativeImputer] Early stopping criterion not reached.\n",
      "  warnings.warn(\n"
     ]
    },
    {
     "name": "stdout",
     "output_type": "stream",
     "text": [
      "[CV 1/5] END model__max_depth=5;, score=(train=-6.553, test=-10.122) total time= 1.5min\n"
     ]
    },
    {
     "name": "stderr",
     "output_type": "stream",
     "text": [
      "c:\\Users\\karin\\.Studia\\magisterka\\Master_project\\.venv\\Lib\\site-packages\\sklearn\\impute\\_iterative.py:801: ConvergenceWarning: [IterativeImputer] Early stopping criterion not reached.\n",
      "  warnings.warn(\n"
     ]
    },
    {
     "name": "stdout",
     "output_type": "stream",
     "text": [
      "[CV 2/5] END model__max_depth=5;, score=(train=-7.056, test=-9.922) total time= 1.5min\n"
     ]
    },
    {
     "name": "stderr",
     "output_type": "stream",
     "text": [
      "c:\\Users\\karin\\.Studia\\magisterka\\Master_project\\.venv\\Lib\\site-packages\\sklearn\\impute\\_iterative.py:801: ConvergenceWarning: [IterativeImputer] Early stopping criterion not reached.\n",
      "  warnings.warn(\n"
     ]
    },
    {
     "name": "stdout",
     "output_type": "stream",
     "text": [
      "[CV 3/5] END model__max_depth=5;, score=(train=-6.307, test=-10.144) total time= 1.5min\n"
     ]
    },
    {
     "name": "stderr",
     "output_type": "stream",
     "text": [
      "c:\\Users\\karin\\.Studia\\magisterka\\Master_project\\.venv\\Lib\\site-packages\\sklearn\\impute\\_iterative.py:801: ConvergenceWarning: [IterativeImputer] Early stopping criterion not reached.\n",
      "  warnings.warn(\n"
     ]
    },
    {
     "name": "stdout",
     "output_type": "stream",
     "text": [
      "[CV 4/5] END model__max_depth=5;, score=(train=-6.045, test=-11.657) total time= 1.5min\n"
     ]
    },
    {
     "name": "stderr",
     "output_type": "stream",
     "text": [
      "c:\\Users\\karin\\.Studia\\magisterka\\Master_project\\.venv\\Lib\\site-packages\\sklearn\\impute\\_iterative.py:801: ConvergenceWarning: [IterativeImputer] Early stopping criterion not reached.\n",
      "  warnings.warn(\n"
     ]
    },
    {
     "name": "stdout",
     "output_type": "stream",
     "text": [
      "[CV 5/5] END model__max_depth=5;, score=(train=-6.635, test=-9.949) total time= 1.5min\n"
     ]
    },
    {
     "name": "stderr",
     "output_type": "stream",
     "text": [
      "c:\\Users\\karin\\.Studia\\magisterka\\Master_project\\.venv\\Lib\\site-packages\\sklearn\\impute\\_iterative.py:801: ConvergenceWarning: [IterativeImputer] Early stopping criterion not reached.\n",
      "  warnings.warn(\n"
     ]
    },
    {
     "name": "stdout",
     "output_type": "stream",
     "text": [
      "[CV 1/5] END model__max_depth=7;, score=(train=-4.955, test=-10.139) total time= 1.5min\n"
     ]
    },
    {
     "name": "stderr",
     "output_type": "stream",
     "text": [
      "c:\\Users\\karin\\.Studia\\magisterka\\Master_project\\.venv\\Lib\\site-packages\\sklearn\\impute\\_iterative.py:801: ConvergenceWarning: [IterativeImputer] Early stopping criterion not reached.\n",
      "  warnings.warn(\n"
     ]
    },
    {
     "name": "stdout",
     "output_type": "stream",
     "text": [
      "[CV 2/5] END model__max_depth=7;, score=(train=-5.709, test=-11.378) total time= 1.5min\n"
     ]
    },
    {
     "name": "stderr",
     "output_type": "stream",
     "text": [
      "c:\\Users\\karin\\.Studia\\magisterka\\Master_project\\.venv\\Lib\\site-packages\\sklearn\\impute\\_iterative.py:801: ConvergenceWarning: [IterativeImputer] Early stopping criterion not reached.\n",
      "  warnings.warn(\n"
     ]
    },
    {
     "name": "stdout",
     "output_type": "stream",
     "text": [
      "[CV 3/5] END model__max_depth=7;, score=(train=-5.335, test=-10.361) total time= 1.5min\n"
     ]
    },
    {
     "name": "stderr",
     "output_type": "stream",
     "text": [
      "c:\\Users\\karin\\.Studia\\magisterka\\Master_project\\.venv\\Lib\\site-packages\\sklearn\\impute\\_iterative.py:801: ConvergenceWarning: [IterativeImputer] Early stopping criterion not reached.\n",
      "  warnings.warn(\n"
     ]
    },
    {
     "name": "stdout",
     "output_type": "stream",
     "text": [
      "[CV 4/5] END model__max_depth=7;, score=(train=-4.886, test=-12.365) total time= 1.9min\n"
     ]
    },
    {
     "name": "stderr",
     "output_type": "stream",
     "text": [
      "c:\\Users\\karin\\.Studia\\magisterka\\Master_project\\.venv\\Lib\\site-packages\\sklearn\\impute\\_iterative.py:801: ConvergenceWarning: [IterativeImputer] Early stopping criterion not reached.\n",
      "  warnings.warn(\n"
     ]
    },
    {
     "name": "stdout",
     "output_type": "stream",
     "text": [
      "[CV 5/5] END model__max_depth=7;, score=(train=-5.421, test=-10.449) total time= 2.7min\n"
     ]
    },
    {
     "name": "stderr",
     "output_type": "stream",
     "text": [
      "c:\\Users\\karin\\.Studia\\magisterka\\Master_project\\.venv\\Lib\\site-packages\\sklearn\\impute\\_iterative.py:801: ConvergenceWarning: [IterativeImputer] Early stopping criterion not reached.\n",
      "  warnings.warn(\n"
     ]
    },
    {
     "data": {
      "image/png": "[encoded data removed]",
      "text/plain": [
       "<Figure size 640x480 with 1 Axes>"
      ]
     },
     "metadata": {},
     "output_type": "display_data"
    },
    {
     "data": {
      "text/html": [
       "<div>\n",
       "<style scoped>\n",
       "    .dataframe tbody tr th:only-of-type {\n",
       "        vertical-align: middle;\n",
       "    }\n",
       "\n",
       "    .dataframe tbody tr th {\n",
       "        vertical-align: top;\n",
       "    }\n",
       "\n",
       "    .dataframe thead th {\n",
       "        text-align: right;\n",
       "    }\n",
       "</style>\n",
       "<table border=\"1\" class=\"dataframe\">\n",
       "  <thead>\n",
       "    <tr style=\"text-align: right;\">\n",
       "      <th></th>\n",
       "      <th>max_depth</th>\n",
       "      <th>mean_train_mae</th>\n",
       "      <th>mean_test_mae</th>\n",
       "    </tr>\n",
       "  </thead>\n",
       "  <tbody>\n",
       "    <tr>\n",
       "      <th>0</th>\n",
       "      <td>2</td>\n",
       "      <td>8.267280</td>\n",
       "      <td>9.581411</td>\n",
       "    </tr>\n",
       "    <tr>\n",
       "      <th>1</th>\n",
       "      <td>3</td>\n",
       "      <td>7.720443</td>\n",
       "      <td>9.985468</td>\n",
       "    </tr>\n",
       "    <tr>\n",
       "      <th>2</th>\n",
       "      <td>4</td>\n",
       "      <td>7.160874</td>\n",
       "      <td>10.236629</td>\n",
       "    </tr>\n",
       "    <tr>\n",
       "      <th>3</th>\n",
       "      <td>5</td>\n",
       "      <td>6.519173</td>\n",
       "      <td>10.359126</td>\n",
       "    </tr>\n",
       "    <tr>\n",
       "      <th>4</th>\n",
       "      <td>7</td>\n",
       "      <td>5.261281</td>\n",
       "      <td>10.938477</td>\n",
       "    </tr>\n",
       "  </tbody>\n",
       "</table>\n",
       "</div>"
      ],
      "text/plain": [
       "  max_depth  mean_train_mae  mean_test_mae\n",
       "0         2        8.267280       9.581411\n",
       "1         3        7.720443       9.985468\n",
       "2         4        7.160874      10.236629\n",
       "3         5        6.519173      10.359126\n",
       "4         7        5.261281      10.938477"
      ]
     },
     "execution_count": 34,
     "metadata": {},
     "output_type": "execute_result"
    }
   ],
   "source": [
    "tree_model = DecisionTreeRegressor(criterion=\"absolute_error\", min_samples_leaf=5, random_state=42)\n",
    "\n",
    "tree_param_grid = {\n",
    "    \"model__max_depth\": [2, 3, 4, 5, 7], # 10 and higher cause train_mae to be 0\n",
    "    }\n",
    "\n",
    "vit_d_tree_model_hyperparam_tuning_df = hyperparameter_tuning(vit_d, tree_model, tree_param_grid, 'max_depth')\n",
    "vit_d_tree_model_hyperparam_tuning_df"
   ]
  },
  {
   "cell_type": "code",
   "execution_count": 131,
   "metadata": {},
   "outputs": [
    {
     "name": "stdout",
     "output_type": "stream",
     "text": [
      "Fitting 5 folds for each of 48 candidates, totalling 240 fits\n"
     ]
    },
    {
     "data": {
      "text/html": [
       "<div>\n",
       "<style scoped>\n",
       "    .dataframe tbody tr th:only-of-type {\n",
       "        vertical-align: middle;\n",
       "    }\n",
       "\n",
       "    .dataframe tbody tr th {\n",
       "        vertical-align: top;\n",
       "    }\n",
       "\n",
       "    .dataframe thead th {\n",
       "        text-align: right;\n",
       "    }\n",
       "</style>\n",
       "<table border=\"1\" class=\"dataframe\">\n",
       "  <thead>\n",
       "    <tr style=\"text-align: right;\">\n",
       "      <th></th>\n",
       "      <th>params</th>\n",
       "      <th>mean_train_mae</th>\n",
       "      <th>mean_test_mae</th>\n",
       "    </tr>\n",
       "  </thead>\n",
       "  <tbody>\n",
       "    <tr>\n",
       "      <th>14</th>\n",
       "      <td>{'model__criterion': 'absolute_error', 'model__max_depth': 2, 'model__min_samples_leaf': 20, 'model__min_samples_split': 15, 'model__splitter': 'random'}</td>\n",
       "      <td>8.647858</td>\n",
       "      <td>8.908702</td>\n",
       "    </tr>\n",
       "    <tr>\n",
       "      <th>41</th>\n",
       "      <td>{'model__criterion': 'friedman_mse', 'model__max_depth': 4, 'model__min_samples_leaf': 10, 'model__min_samples_split': 30, 'model__splitter': 'random'}</td>\n",
       "      <td>8.249767</td>\n",
       "      <td>9.102340</td>\n",
       "    </tr>\n",
       "    <tr>\n",
       "      <th>2</th>\n",
       "      <td>{'model__criterion': 'squared_error', 'model__max_depth': 2, 'model__min_samples_leaf': 20, 'model__min_samples_split': 15, 'model__splitter': 'random'}</td>\n",
       "      <td>8.782873</td>\n",
       "      <td>9.127765</td>\n",
       "    </tr>\n",
       "    <tr>\n",
       "      <th>12</th>\n",
       "      <td>{'model__criterion': 'absolute_error', 'model__max_depth': 2, 'model__min_samples_leaf': 10, 'model__min_samples_split': 15, 'model__splitter': 'random'}</td>\n",
       "      <td>8.637267</td>\n",
       "      <td>9.142472</td>\n",
       "    </tr>\n",
       "    <tr>\n",
       "      <th>15</th>\n",
       "      <td>{'model__criterion': 'absolute_error', 'model__max_depth': 2, 'model__min_samples_leaf': 20, 'model__min_samples_split': 30, 'model__splitter': 'random'}</td>\n",
       "      <td>8.592711</td>\n",
       "      <td>9.145905</td>\n",
       "    </tr>\n",
       "    <tr>\n",
       "      <th>38</th>\n",
       "      <td>{'model__criterion': 'friedman_mse', 'model__max_depth': 2, 'model__min_samples_leaf': 20, 'model__min_samples_split': 15, 'model__splitter': 'random'}</td>\n",
       "      <td>8.762984</td>\n",
       "      <td>9.149098</td>\n",
       "    </tr>\n",
       "    <tr>\n",
       "      <th>13</th>\n",
       "      <td>{'model__criterion': 'absolute_error', 'model__max_depth': 2, 'model__min_samples_leaf': 10, 'model__min_samples_split': 30, 'model__splitter': 'random'}</td>\n",
       "      <td>8.578147</td>\n",
       "      <td>9.151011</td>\n",
       "    </tr>\n",
       "    <tr>\n",
       "      <th>1</th>\n",
       "      <td>{'model__criterion': 'squared_error', 'model__max_depth': 2, 'model__min_samples_leaf': 10, 'model__min_samples_split': 30, 'model__splitter': 'random'}</td>\n",
       "      <td>8.801389</td>\n",
       "      <td>9.157894</td>\n",
       "    </tr>\n",
       "    <tr>\n",
       "      <th>26</th>\n",
       "      <td>{'model__criterion': 'poisson', 'model__max_depth': 2, 'model__min_samples_leaf': 20, 'model__min_samples_split': 15, 'model__splitter': 'random'}</td>\n",
       "      <td>8.788706</td>\n",
       "      <td>9.163412</td>\n",
       "    </tr>\n",
       "    <tr>\n",
       "      <th>27</th>\n",
       "      <td>{'model__criterion': 'poisson', 'model__max_depth': 2, 'model__min_samples_leaf': 20, 'model__min_samples_split': 30, 'model__splitter': 'random'}</td>\n",
       "      <td>8.724113</td>\n",
       "      <td>9.175034</td>\n",
       "    </tr>\n",
       "    <tr>\n",
       "      <th>37</th>\n",
       "      <td>{'model__criterion': 'friedman_mse', 'model__max_depth': 2, 'model__min_samples_leaf': 10, 'model__min_samples_split': 30, 'model__splitter': 'random'}</td>\n",
       "      <td>8.829450</td>\n",
       "      <td>9.181551</td>\n",
       "    </tr>\n",
       "    <tr>\n",
       "      <th>31</th>\n",
       "      <td>{'model__criterion': 'poisson', 'model__max_depth': 4, 'model__min_samples_leaf': 20, 'model__min_samples_split': 30, 'model__splitter': 'random'}</td>\n",
       "      <td>8.311007</td>\n",
       "      <td>9.238023</td>\n",
       "    </tr>\n",
       "    <tr>\n",
       "      <th>16</th>\n",
       "      <td>{'model__criterion': 'absolute_error', 'model__max_depth': 4, 'model__min_samples_leaf': 10, 'model__min_samples_split': 15, 'model__splitter': 'random'}</td>\n",
       "      <td>7.954742</td>\n",
       "      <td>9.241635</td>\n",
       "    </tr>\n",
       "    <tr>\n",
       "      <th>25</th>\n",
       "      <td>{'model__criterion': 'poisson', 'model__max_depth': 2, 'model__min_samples_leaf': 10, 'model__min_samples_split': 30, 'model__splitter': 'random'}</td>\n",
       "      <td>8.786281</td>\n",
       "      <td>9.246741</td>\n",
       "    </tr>\n",
       "    <tr>\n",
       "      <th>43</th>\n",
       "      <td>{'model__criterion': 'friedman_mse', 'model__max_depth': 4, 'model__min_samples_leaf': 20, 'model__min_samples_split': 30, 'model__splitter': 'random'}</td>\n",
       "      <td>8.410572</td>\n",
       "      <td>9.252692</td>\n",
       "    </tr>\n",
       "    <tr>\n",
       "      <th>0</th>\n",
       "      <td>{'model__criterion': 'squared_error', 'model__max_depth': 2, 'model__min_samples_leaf': 10, 'model__min_samples_split': 15, 'model__splitter': 'random'}</td>\n",
       "      <td>8.743135</td>\n",
       "      <td>9.256510</td>\n",
       "    </tr>\n",
       "    <tr>\n",
       "      <th>39</th>\n",
       "      <td>{'model__criterion': 'friedman_mse', 'model__max_depth': 2, 'model__min_samples_leaf': 20, 'model__min_samples_split': 30, 'model__splitter': 'random'}</td>\n",
       "      <td>8.740012</td>\n",
       "      <td>9.265403</td>\n",
       "    </tr>\n",
       "    <tr>\n",
       "      <th>3</th>\n",
       "      <td>{'model__criterion': 'squared_error', 'model__max_depth': 2, 'model__min_samples_leaf': 20, 'model__min_samples_split': 30, 'model__splitter': 'random'}</td>\n",
       "      <td>8.767900</td>\n",
       "      <td>9.278162</td>\n",
       "    </tr>\n",
       "    <tr>\n",
       "      <th>6</th>\n",
       "      <td>{'model__criterion': 'squared_error', 'model__max_depth': 4, 'model__min_samples_leaf': 20, 'model__min_samples_split': 15, 'model__splitter': 'random'}</td>\n",
       "      <td>8.330976</td>\n",
       "      <td>9.283189</td>\n",
       "    </tr>\n",
       "    <tr>\n",
       "      <th>36</th>\n",
       "      <td>{'model__criterion': 'friedman_mse', 'model__max_depth': 2, 'model__min_samples_leaf': 10, 'model__min_samples_split': 15, 'model__splitter': 'random'}</td>\n",
       "      <td>8.764776</td>\n",
       "      <td>9.414310</td>\n",
       "    </tr>\n",
       "    <tr>\n",
       "      <th>33</th>\n",
       "      <td>{'model__criterion': 'poisson', 'model__max_depth': 6, 'model__min_samples_leaf': 10, 'model__min_samples_split': 30, 'model__splitter': 'random'}</td>\n",
       "      <td>7.735608</td>\n",
       "      <td>9.417573</td>\n",
       "    </tr>\n",
       "    <tr>\n",
       "      <th>46</th>\n",
       "      <td>{'model__criterion': 'friedman_mse', 'model__max_depth': 6, 'model__min_samples_leaf': 20, 'model__min_samples_split': 15, 'model__splitter': 'random'}</td>\n",
       "      <td>8.084498</td>\n",
       "      <td>9.424482</td>\n",
       "    </tr>\n",
       "    <tr>\n",
       "      <th>24</th>\n",
       "      <td>{'model__criterion': 'poisson', 'model__max_depth': 2, 'model__min_samples_leaf': 10, 'model__min_samples_split': 15, 'model__splitter': 'random'}</td>\n",
       "      <td>8.722141</td>\n",
       "      <td>9.430865</td>\n",
       "    </tr>\n",
       "    <tr>\n",
       "      <th>11</th>\n",
       "      <td>{'model__criterion': 'squared_error', 'model__max_depth': 6, 'model__min_samples_leaf': 20, 'model__min_samples_split': 30, 'model__splitter': 'random'}</td>\n",
       "      <td>8.204740</td>\n",
       "      <td>9.434626</td>\n",
       "    </tr>\n",
       "    <tr>\n",
       "      <th>17</th>\n",
       "      <td>{'model__criterion': 'absolute_error', 'model__max_depth': 4, 'model__min_samples_leaf': 10, 'model__min_samples_split': 30, 'model__splitter': 'random'}</td>\n",
       "      <td>7.949842</td>\n",
       "      <td>9.451998</td>\n",
       "    </tr>\n",
       "    <tr>\n",
       "      <th>30</th>\n",
       "      <td>{'model__criterion': 'poisson', 'model__max_depth': 4, 'model__min_samples_leaf': 20, 'model__min_samples_split': 15, 'model__splitter': 'random'}</td>\n",
       "      <td>8.340799</td>\n",
       "      <td>9.469672</td>\n",
       "    </tr>\n",
       "    <tr>\n",
       "      <th>5</th>\n",
       "      <td>{'model__criterion': 'squared_error', 'model__max_depth': 4, 'model__min_samples_leaf': 10, 'model__min_samples_split': 30, 'model__splitter': 'random'}</td>\n",
       "      <td>8.045389</td>\n",
       "      <td>9.472672</td>\n",
       "    </tr>\n",
       "    <tr>\n",
       "      <th>7</th>\n",
       "      <td>{'model__criterion': 'squared_error', 'model__max_depth': 4, 'model__min_samples_leaf': 20, 'model__min_samples_split': 30, 'model__splitter': 'random'}</td>\n",
       "      <td>8.416266</td>\n",
       "      <td>9.485718</td>\n",
       "    </tr>\n",
       "    <tr>\n",
       "      <th>19</th>\n",
       "      <td>{'model__criterion': 'absolute_error', 'model__max_depth': 4, 'model__min_samples_leaf': 20, 'model__min_samples_split': 30, 'model__splitter': 'random'}</td>\n",
       "      <td>8.184225</td>\n",
       "      <td>9.491523</td>\n",
       "    </tr>\n",
       "    <tr>\n",
       "      <th>29</th>\n",
       "      <td>{'model__criterion': 'poisson', 'model__max_depth': 4, 'model__min_samples_leaf': 10, 'model__min_samples_split': 30, 'model__splitter': 'random'}</td>\n",
       "      <td>8.058666</td>\n",
       "      <td>9.534206</td>\n",
       "    </tr>\n",
       "    <tr>\n",
       "      <th>4</th>\n",
       "      <td>{'model__criterion': 'squared_error', 'model__max_depth': 4, 'model__min_samples_leaf': 10, 'model__min_samples_split': 15, 'model__splitter': 'random'}</td>\n",
       "      <td>7.988677</td>\n",
       "      <td>9.536790</td>\n",
       "    </tr>\n",
       "    <tr>\n",
       "      <th>10</th>\n",
       "      <td>{'model__criterion': 'squared_error', 'model__max_depth': 6, 'model__min_samples_leaf': 20, 'model__min_samples_split': 15, 'model__splitter': 'random'}</td>\n",
       "      <td>8.238192</td>\n",
       "      <td>9.544602</td>\n",
       "    </tr>\n",
       "    <tr>\n",
       "      <th>42</th>\n",
       "      <td>{'model__criterion': 'friedman_mse', 'model__max_depth': 4, 'model__min_samples_leaf': 20, 'model__min_samples_split': 15, 'model__splitter': 'random'}</td>\n",
       "      <td>8.326688</td>\n",
       "      <td>9.600640</td>\n",
       "    </tr>\n",
       "    <tr>\n",
       "      <th>44</th>\n",
       "      <td>{'model__criterion': 'friedman_mse', 'model__max_depth': 6, 'model__min_samples_leaf': 10, 'model__min_samples_split': 15, 'model__splitter': 'random'}</td>\n",
       "      <td>7.592095</td>\n",
       "      <td>9.630719</td>\n",
       "    </tr>\n",
       "    <tr>\n",
       "      <th>28</th>\n",
       "      <td>{'model__criterion': 'poisson', 'model__max_depth': 4, 'model__min_samples_leaf': 10, 'model__min_samples_split': 15, 'model__splitter': 'random'}</td>\n",
       "      <td>8.103820</td>\n",
       "      <td>9.632828</td>\n",
       "    </tr>\n",
       "    <tr>\n",
       "      <th>40</th>\n",
       "      <td>{'model__criterion': 'friedman_mse', 'model__max_depth': 4, 'model__min_samples_leaf': 10, 'model__min_samples_split': 15, 'model__splitter': 'random'}</td>\n",
       "      <td>8.079062</td>\n",
       "      <td>9.637364</td>\n",
       "    </tr>\n",
       "    <tr>\n",
       "      <th>34</th>\n",
       "      <td>{'model__criterion': 'poisson', 'model__max_depth': 6, 'model__min_samples_leaf': 20, 'model__min_samples_split': 15, 'model__splitter': 'random'}</td>\n",
       "      <td>8.103708</td>\n",
       "      <td>9.638354</td>\n",
       "    </tr>\n",
       "    <tr>\n",
       "      <th>45</th>\n",
       "      <td>{'model__criterion': 'friedman_mse', 'model__max_depth': 6, 'model__min_samples_leaf': 10, 'model__min_samples_split': 30, 'model__splitter': 'random'}</td>\n",
       "      <td>7.737888</td>\n",
       "      <td>9.669208</td>\n",
       "    </tr>\n",
       "    <tr>\n",
       "      <th>23</th>\n",
       "      <td>{'model__criterion': 'absolute_error', 'model__max_depth': 6, 'model__min_samples_leaf': 20, 'model__min_samples_split': 30, 'model__splitter': 'random'}</td>\n",
       "      <td>7.876613</td>\n",
       "      <td>9.728127</td>\n",
       "    </tr>\n",
       "    <tr>\n",
       "      <th>35</th>\n",
       "      <td>{'model__criterion': 'poisson', 'model__max_depth': 6, 'model__min_samples_leaf': 20, 'model__min_samples_split': 30, 'model__splitter': 'random'}</td>\n",
       "      <td>8.200426</td>\n",
       "      <td>9.735571</td>\n",
       "    </tr>\n",
       "    <tr>\n",
       "      <th>22</th>\n",
       "      <td>{'model__criterion': 'absolute_error', 'model__max_depth': 6, 'model__min_samples_leaf': 20, 'model__min_samples_split': 15, 'model__splitter': 'random'}</td>\n",
       "      <td>7.962716</td>\n",
       "      <td>9.852971</td>\n",
       "    </tr>\n",
       "    <tr>\n",
       "      <th>32</th>\n",
       "      <td>{'model__criterion': 'poisson', 'model__max_depth': 6, 'model__min_samples_leaf': 10, 'model__min_samples_split': 15, 'model__splitter': 'random'}</td>\n",
       "      <td>7.444028</td>\n",
       "      <td>9.900380</td>\n",
       "    </tr>\n",
       "    <tr>\n",
       "      <th>20</th>\n",
       "      <td>{'model__criterion': 'absolute_error', 'model__max_depth': 6, 'model__min_samples_leaf': 10, 'model__min_samples_split': 15, 'model__splitter': 'random'}</td>\n",
       "      <td>7.138151</td>\n",
       "      <td>9.918639</td>\n",
       "    </tr>\n",
       "    <tr>\n",
       "      <th>47</th>\n",
       "      <td>{'model__criterion': 'friedman_mse', 'model__max_depth': 6, 'model__min_samples_leaf': 20, 'model__min_samples_split': 30, 'model__splitter': 'random'}</td>\n",
       "      <td>8.151082</td>\n",
       "      <td>9.926615</td>\n",
       "    </tr>\n",
       "    <tr>\n",
       "      <th>18</th>\n",
       "      <td>{'model__criterion': 'absolute_error', 'model__max_depth': 4, 'model__min_samples_leaf': 20, 'model__min_samples_split': 15, 'model__splitter': 'random'}</td>\n",
       "      <td>8.089953</td>\n",
       "      <td>9.944407</td>\n",
       "    </tr>\n",
       "    <tr>\n",
       "      <th>8</th>\n",
       "      <td>{'model__criterion': 'squared_error', 'model__max_depth': 6, 'model__min_samples_leaf': 10, 'model__min_samples_split': 15, 'model__splitter': 'random'}</td>\n",
       "      <td>7.530658</td>\n",
       "      <td>10.000737</td>\n",
       "    </tr>\n",
       "    <tr>\n",
       "      <th>21</th>\n",
       "      <td>{'model__criterion': 'absolute_error', 'model__max_depth': 6, 'model__min_samples_leaf': 10, 'model__min_samples_split': 30, 'model__splitter': 'random'}</td>\n",
       "      <td>7.564700</td>\n",
       "      <td>10.026017</td>\n",
       "    </tr>\n",
       "    <tr>\n",
       "      <th>9</th>\n",
       "      <td>{'model__criterion': 'squared_error', 'model__max_depth': 6, 'model__min_samples_leaf': 10, 'model__min_samples_split': 30, 'model__splitter': 'random'}</td>\n",
       "      <td>7.688103</td>\n",
       "      <td>10.046833</td>\n",
       "    </tr>\n",
       "  </tbody>\n",
       "</table>\n",
       "</div>"
      ],
      "text/plain": [
       "                                                                                                                                                       params  mean_train_mae  mean_test_mae\n",
       "14  {'model__criterion': 'absolute_error', 'model__max_depth': 2, 'model__min_samples_leaf': 20, 'model__min_samples_split': 15, 'model__splitter': 'random'}        8.647858       8.908702\n",
       "41    {'model__criterion': 'friedman_mse', 'model__max_depth': 4, 'model__min_samples_leaf': 10, 'model__min_samples_split': 30, 'model__splitter': 'random'}        8.249767       9.102340\n",
       "2    {'model__criterion': 'squared_error', 'model__max_depth': 2, 'model__min_samples_leaf': 20, 'model__min_samples_split': 15, 'model__splitter': 'random'}        8.782873       9.127765\n",
       "12  {'model__criterion': 'absolute_error', 'model__max_depth': 2, 'model__min_samples_leaf': 10, 'model__min_samples_split': 15, 'model__splitter': 'random'}        8.637267       9.142472\n",
       "15  {'model__criterion': 'absolute_error', 'model__max_depth': 2, 'model__min_samples_leaf': 20, 'model__min_samples_split': 30, 'model__splitter': 'random'}        8.592711       9.145905\n",
       "38    {'model__criterion': 'friedman_mse', 'model__max_depth': 2, 'model__min_samples_leaf': 20, 'model__min_samples_split': 15, 'model__splitter': 'random'}        8.762984       9.149098\n",
       "13  {'model__criterion': 'absolute_error', 'model__max_depth': 2, 'model__min_samples_leaf': 10, 'model__min_samples_split': 30, 'model__splitter': 'random'}        8.578147       9.151011\n",
       "1    {'model__criterion': 'squared_error', 'model__max_depth': 2, 'model__min_samples_leaf': 10, 'model__min_samples_split': 30, 'model__splitter': 'random'}        8.801389       9.157894\n",
       "26         {'model__criterion': 'poisson', 'model__max_depth': 2, 'model__min_samples_leaf': 20, 'model__min_samples_split': 15, 'model__splitter': 'random'}        8.788706       9.163412\n",
       "27         {'model__criterion': 'poisson', 'model__max_depth': 2, 'model__min_samples_leaf': 20, 'model__min_samples_split': 30, 'model__splitter': 'random'}        8.724113       9.175034\n",
       "37    {'model__criterion': 'friedman_mse', 'model__max_depth': 2, 'model__min_samples_leaf': 10, 'model__min_samples_split': 30, 'model__splitter': 'random'}        8.829450       9.181551\n",
       "31         {'model__criterion': 'poisson', 'model__max_depth': 4, 'model__min_samples_leaf': 20, 'model__min_samples_split': 30, 'model__splitter': 'random'}        8.311007       9.238023\n",
       "16  {'model__criterion': 'absolute_error', 'model__max_depth': 4, 'model__min_samples_leaf': 10, 'model__min_samples_split': 15, 'model__splitter': 'random'}        7.954742       9.241635\n",
       "25         {'model__criterion': 'poisson', 'model__max_depth': 2, 'model__min_samples_leaf': 10, 'model__min_samples_split': 30, 'model__splitter': 'random'}        8.786281       9.246741\n",
       "43    {'model__criterion': 'friedman_mse', 'model__max_depth': 4, 'model__min_samples_leaf': 20, 'model__min_samples_split': 30, 'model__splitter': 'random'}        8.410572       9.252692\n",
       "0    {'model__criterion': 'squared_error', 'model__max_depth': 2, 'model__min_samples_leaf': 10, 'model__min_samples_split': 15, 'model__splitter': 'random'}        8.743135       9.256510\n",
       "39    {'model__criterion': 'friedman_mse', 'model__max_depth': 2, 'model__min_samples_leaf': 20, 'model__min_samples_split': 30, 'model__splitter': 'random'}        8.740012       9.265403\n",
       "3    {'model__criterion': 'squared_error', 'model__max_depth': 2, 'model__min_samples_leaf': 20, 'model__min_samples_split': 30, 'model__splitter': 'random'}        8.767900       9.278162\n",
       "6    {'model__criterion': 'squared_error', 'model__max_depth': 4, 'model__min_samples_leaf': 20, 'model__min_samples_split': 15, 'model__splitter': 'random'}        8.330976       9.283189\n",
       "36    {'model__criterion': 'friedman_mse', 'model__max_depth': 2, 'model__min_samples_leaf': 10, 'model__min_samples_split': 15, 'model__splitter': 'random'}        8.764776       9.414310\n",
       "33         {'model__criterion': 'poisson', 'model__max_depth': 6, 'model__min_samples_leaf': 10, 'model__min_samples_split': 30, 'model__splitter': 'random'}        7.735608       9.417573\n",
       "46    {'model__criterion': 'friedman_mse', 'model__max_depth': 6, 'model__min_samples_leaf': 20, 'model__min_samples_split': 15, 'model__splitter': 'random'}        8.084498       9.424482\n",
       "24         {'model__criterion': 'poisson', 'model__max_depth': 2, 'model__min_samples_leaf': 10, 'model__min_samples_split': 15, 'model__splitter': 'random'}        8.722141       9.430865\n",
       "11   {'model__criterion': 'squared_error', 'model__max_depth': 6, 'model__min_samples_leaf': 20, 'model__min_samples_split': 30, 'model__splitter': 'random'}        8.204740       9.434626\n",
       "17  {'model__criterion': 'absolute_error', 'model__max_depth': 4, 'model__min_samples_leaf': 10, 'model__min_samples_split': 30, 'model__splitter': 'random'}        7.949842       9.451998\n",
       "30         {'model__criterion': 'poisson', 'model__max_depth': 4, 'model__min_samples_leaf': 20, 'model__min_samples_split': 15, 'model__splitter': 'random'}        8.340799       9.469672\n",
       "5    {'model__criterion': 'squared_error', 'model__max_depth': 4, 'model__min_samples_leaf': 10, 'model__min_samples_split': 30, 'model__splitter': 'random'}        8.045389       9.472672\n",
       "7    {'model__criterion': 'squared_error', 'model__max_depth': 4, 'model__min_samples_leaf': 20, 'model__min_samples_split': 30, 'model__splitter': 'random'}        8.416266       9.485718\n",
       "19  {'model__criterion': 'absolute_error', 'model__max_depth': 4, 'model__min_samples_leaf': 20, 'model__min_samples_split': 30, 'model__splitter': 'random'}        8.184225       9.491523\n",
       "29         {'model__criterion': 'poisson', 'model__max_depth': 4, 'model__min_samples_leaf': 10, 'model__min_samples_split': 30, 'model__splitter': 'random'}        8.058666       9.534206\n",
       "4    {'model__criterion': 'squared_error', 'model__max_depth': 4, 'model__min_samples_leaf': 10, 'model__min_samples_split': 15, 'model__splitter': 'random'}        7.988677       9.536790\n",
       "10   {'model__criterion': 'squared_error', 'model__max_depth': 6, 'model__min_samples_leaf': 20, 'model__min_samples_split': 15, 'model__splitter': 'random'}        8.238192       9.544602\n",
       "42    {'model__criterion': 'friedman_mse', 'model__max_depth': 4, 'model__min_samples_leaf': 20, 'model__min_samples_split': 15, 'model__splitter': 'random'}        8.326688       9.600640\n",
       "44    {'model__criterion': 'friedman_mse', 'model__max_depth': 6, 'model__min_samples_leaf': 10, 'model__min_samples_split': 15, 'model__splitter': 'random'}        7.592095       9.630719\n",
       "28         {'model__criterion': 'poisson', 'model__max_depth': 4, 'model__min_samples_leaf': 10, 'model__min_samples_split': 15, 'model__splitter': 'random'}        8.103820       9.632828\n",
       "40    {'model__criterion': 'friedman_mse', 'model__max_depth': 4, 'model__min_samples_leaf': 10, 'model__min_samples_split': 15, 'model__splitter': 'random'}        8.079062       9.637364\n",
       "34         {'model__criterion': 'poisson', 'model__max_depth': 6, 'model__min_samples_leaf': 20, 'model__min_samples_split': 15, 'model__splitter': 'random'}        8.103708       9.638354\n",
       "45    {'model__criterion': 'friedman_mse', 'model__max_depth': 6, 'model__min_samples_leaf': 10, 'model__min_samples_split': 30, 'model__splitter': 'random'}        7.737888       9.669208\n",
       "23  {'model__criterion': 'absolute_error', 'model__max_depth': 6, 'model__min_samples_leaf': 20, 'model__min_samples_split': 30, 'model__splitter': 'random'}        7.876613       9.728127\n",
       "35         {'model__criterion': 'poisson', 'model__max_depth': 6, 'model__min_samples_leaf': 20, 'model__min_samples_split': 30, 'model__splitter': 'random'}        8.200426       9.735571\n",
       "22  {'model__criterion': 'absolute_error', 'model__max_depth': 6, 'model__min_samples_leaf': 20, 'model__min_samples_split': 15, 'model__splitter': 'random'}        7.962716       9.852971\n",
       "32         {'model__criterion': 'poisson', 'model__max_depth': 6, 'model__min_samples_leaf': 10, 'model__min_samples_split': 15, 'model__splitter': 'random'}        7.444028       9.900380\n",
       "20  {'model__criterion': 'absolute_error', 'model__max_depth': 6, 'model__min_samples_leaf': 10, 'model__min_samples_split': 15, 'model__splitter': 'random'}        7.138151       9.918639\n",
       "47    {'model__criterion': 'friedman_mse', 'model__max_depth': 6, 'model__min_samples_leaf': 20, 'model__min_samples_split': 30, 'model__splitter': 'random'}        8.151082       9.926615\n",
       "18  {'model__criterion': 'absolute_error', 'model__max_depth': 4, 'model__min_samples_leaf': 20, 'model__min_samples_split': 15, 'model__splitter': 'random'}        8.089953       9.944407\n",
       "8    {'model__criterion': 'squared_error', 'model__max_depth': 6, 'model__min_samples_leaf': 10, 'model__min_samples_split': 15, 'model__splitter': 'random'}        7.530658      10.000737\n",
       "21  {'model__criterion': 'absolute_error', 'model__max_depth': 6, 'model__min_samples_leaf': 10, 'model__min_samples_split': 30, 'model__splitter': 'random'}        7.564700      10.026017\n",
       "9    {'model__criterion': 'squared_error', 'model__max_depth': 6, 'model__min_samples_leaf': 10, 'model__min_samples_split': 30, 'model__splitter': 'random'}        7.688103      10.046833"
      ]
     },
     "execution_count": 131,
     "metadata": {},
     "output_type": "execute_result"
    }
   ],
   "source": [
    "tree_model = DecisionTreeRegressor()\n",
    "\n",
    "tree_param_grid = {\n",
    "    \"model__criterion\": [\"squared_error\", \"absolute_error\", \"poisson\", \"friedman_mse\"],\n",
    "    \"model__max_depth\": [2, 4, 6],\n",
    "    \"model__splitter\": [\"random\"],\n",
    "    \"model__min_samples_split\": [15, 30],\n",
    "    \"model__min_samples_leaf\": [10, 20],\n",
    "    }\n",
    "\n",
    "vit_d_tree_model_hyperparam_tuning_df = hyperparameter_tuning_tree(X_train_vit_d, y_train_vit_d, vit_d, tree_model, tree_param_grid)\n",
    "vit_d_tree_model_hyperparam_tuning_df.sort_values(by='mean_test_mae')"
   ]
  },
  {
   "cell_type": "code",
   "execution_count": null,
   "metadata": {},
   "outputs": [],
   "source": [
    "import nest_asyncio\n",
    "nest_asyncio.apply()\n",
    "\n",
    "def compare_random_states(X_train, y_train, model, target_attribute):\n",
    "    random_options = range(1,100)\n",
    "\n",
    "    tune_df = pd.DataFrame(index=random_options, columns=['cv_mae'])\n",
    "\n",
    "    for random_o in tqdm(random_options):\n",
    "        attributes_to_scale = get_continuous_attributes_except(target_attribute)\n",
    "        imputer = Imputer(IterativeImputer(max_iter=20, tol=0.01, initial_strategy='median'),\n",
    "                    KNNImputer(n_neighbors=1),\n",
    "                    attributes_to_scale,\n",
    "                    CATEGORICAL_ATTRIBUTES)\n",
    "\n",
    "        one_hot_encoder = CustomOneHotEncoder(columns_for_one_hot_encoding, new_column_names_map, advanced_encoding=True)\n",
    "        \n",
    "        model.set_params(random_state=random_o)\n",
    "        \n",
    "        pipeline = Pipeline([('imputer', imputer), ('one_hot_encoder', one_hot_encoder), ('model', model)])\n",
    "\n",
    "        cv_score = cross_val_score(pipeline, X_train, y_train, cv=5, scoring='neg_mean_absolute_error')\n",
    "\n",
    "        tune_df.at[random_o,'cv_mae'] = cv_score.mean()\n",
    "\n",
    "    return tune_df\n",
    "\n",
    "\n",
    "model = DecisionTreeRegressor(criterion=\"absolute_error\", max_depth=2, min_samples_leaf=20, min_samples_split=15, splitter='random')\n",
    "\n",
    "tuned_df = compare_random_states(X_train_vit_d, y_train_vit_d, model, vit_d)"
   ]
  },
  {
   "cell_type": "code",
   "execution_count": 81,
   "metadata": {},
   "outputs": [
    {
     "data": {
      "text/html": [
       "<div>\n",
       "<style scoped>\n",
       "    .dataframe tbody tr th:only-of-type {\n",
       "        vertical-align: middle;\n",
       "    }\n",
       "\n",
       "    .dataframe tbody tr th {\n",
       "        vertical-align: top;\n",
       "    }\n",
       "\n",
       "    .dataframe thead th {\n",
       "        text-align: right;\n",
       "    }\n",
       "</style>\n",
       "<table border=\"1\" class=\"dataframe\">\n",
       "  <thead>\n",
       "    <tr style=\"text-align: right;\">\n",
       "      <th></th>\n",
       "      <th>cv_mae</th>\n",
       "    </tr>\n",
       "  </thead>\n",
       "  <tbody>\n",
       "    <tr>\n",
       "      <th>41</th>\n",
       "      <td>-8.855443</td>\n",
       "    </tr>\n",
       "    <tr>\n",
       "      <th>11</th>\n",
       "      <td>-8.900574</td>\n",
       "    </tr>\n",
       "    <tr>\n",
       "      <th>95</th>\n",
       "      <td>-8.918115</td>\n",
       "    </tr>\n",
       "    <tr>\n",
       "      <th>75</th>\n",
       "      <td>-8.941773</td>\n",
       "    </tr>\n",
       "    <tr>\n",
       "      <th>72</th>\n",
       "      <td>-8.945843</td>\n",
       "    </tr>\n",
       "  </tbody>\n",
       "</table>\n",
       "</div>"
      ],
      "text/plain": [
       "      cv_mae\n",
       "41 -8.855443\n",
       "11 -8.900574\n",
       "95 -8.918115\n",
       "75 -8.941773\n",
       "72 -8.945843"
      ]
     },
     "execution_count": 81,
     "metadata": {},
     "output_type": "execute_result"
    }
   ],
   "source": [
    "tuned_df.sort_values(by='cv_mae', ascending=False).head(5)"
   ]
  },
  {
   "cell_type": "markdown",
   "metadata": {},
   "source": [
    "## Best models for Vitamine D"
   ]
  },
  {
   "cell_type": "code",
   "execution_count": 121,
   "metadata": {},
   "outputs": [],
   "source": [
    "def get_feature_importance_lasso(pipeline: Pipeline, target_attribute, significance_threshold=0.1):\n",
    "    lasso_coefs = pipeline['model'].coef_\n",
    "    column_names = pipeline['one_hot_encoder'].get_feature_names_out()\n",
    "\n",
    "    feature_importnces_lasso = [*zip(column_names, lasso_coefs)]\n",
    "    feature_importances = pd.DataFrame(feature_importnces_lasso, columns=['feature', 'importance'])\n",
    "    feature_importances_sorted = feature_importances[feature_importances['importance'].abs() > significance_threshold].sort_values(by='importance', key=abs, ascending=False)\n",
    "\n",
    "    sns.barplot(feature_importances_sorted.head(20), x=\"importance\", y=\"feature\").set(title=target_attribute)\n",
    "    plt.show()\n",
    "\n",
    "    return feature_importances_sorted\n",
    "\n",
    "\n",
    "def get_feature_importance_tree(pipeline: Pipeline, target_attribute, significance_threshold=0):\n",
    "    feature_importances = pipeline['model'].feature_importances_\n",
    "    column_names = pipeline['one_hot_encoder'].get_feature_names_out()\n",
    "\n",
    "    feature_importnces_with_columns = [*zip(column_names, feature_importances)]\n",
    "    feature_importances_df = pd.DataFrame(feature_importnces_with_columns, columns=['feature', 'importance'])\n",
    "    feature_importances_sorted = feature_importances_df[feature_importances_df['importance'].abs() > significance_threshold].sort_values(by='importance', key=abs, ascending=False)\n",
    "\n",
    "    sns.barplot(feature_importances_sorted, x=\"importance\", y=\"feature\").set(title=target_attribute)\n",
    "    plt.show()\n",
    "\n",
    "    plot_tree(pipeline['model'], feature_names=column_names)\n",
    "    plt.savefig(f'charts/decision_tree_.pdf')\n",
    "    plt.show()\n",
    "\n",
    "    return feature_importances_sorted\n",
    "\n",
    "\n",
    "def show_plots(y_true, y_pred, dataset_label):\n",
    "    fig, axs = plt.subplots(ncols=2, figsize=(8, 4))\n",
    "    PredictionErrorDisplay.from_predictions(\n",
    "        y_true=y_true,\n",
    "        y_pred=y_pred,\n",
    "        kind=\"actual_vs_predicted\",\n",
    "        ax=axs[0],\n",
    "        random_state=42,\n",
    "    )\n",
    "    axs[0].set_title(\"Actual vs. Predicted values\")\n",
    "    PredictionErrorDisplay.from_predictions(\n",
    "        y_true=y_true,\n",
    "        y_pred=y_pred,\n",
    "        kind=\"residual_vs_predicted\",\n",
    "        ax=axs[1],\n",
    "        random_state=42,\n",
    "    )\n",
    "    axs[1].set_title(\"Residuals vs. Predicted Values\")\n",
    "    fig.suptitle(f\"Predictions on a {dataset_label} set\")\n",
    "    plt.tight_layout()\n",
    "    plt.show()\n",
    "\n",
    "\n",
    "def train_model(model, target_attribute, feature_importance_method):\n",
    "    model_scores_df = pd.DataFrame(columns=['model', 'test_set', 'mse', \"mae\", \"rmse\", 'r2'])\n",
    "    # drop rows with missing target_attribute\n",
    "    cleaned_df = df.dropna(subset=[target_attribute])\n",
    "    \n",
    "    X, y = cleaned_df.drop(columns=[target_attribute]), cleaned_df[target_attribute]\n",
    "    X_train, X_val, y_train, y_val = train_test_split(X, y, test_size=0.2, random_state=42)\n",
    "\n",
    "    attributes_to_scale = get_continuous_attributes_except(target_attribute)\n",
    "    scaler = Scaler(PowerTransformer(), attributes_to_scale)\n",
    "        \n",
    "    imputer = Imputer(IterativeImputer(max_iter=50, tol=0.01, initial_strategy='median'),\n",
    "                    KNNImputer(n_neighbors=1),\n",
    "                    attributes_to_scale,\n",
    "                    CATEGORICAL_ATTRIBUTES)\n",
    "    \n",
    "    one_hot_encoder = CustomOneHotEncoder(columns_for_one_hot_encoding, new_column_names_map, advanced_encoding=True)\n",
    "    \n",
    "    pipeline = Pipeline([('scaler', scaler), ('imputer', imputer), ('one_hot_encoder', one_hot_encoder), ('model', model)])\n",
    "\n",
    "    pipeline.fit(X_train, y_train)\n",
    "    y_pred_train = pipeline.predict(X_train)\n",
    "    y_pred_val = pipeline.predict(X_val)\n",
    "\n",
    "    train_mse = round(mean_squared_error(y_train, y_pred_train), 3)\n",
    "    train_mae = round(mean_absolute_error(y_train, y_pred_train), 3)\n",
    "    train_rmse = round(root_mean_squared_error(y_train, y_pred_train), 3)\n",
    "    train_r2 = round(r2_score(y_train, y_pred_train), 3)\n",
    "\n",
    "    val_mse = round(mean_squared_error(y_val, y_pred_val), 3)\n",
    "    val_mae = round(mean_absolute_error(y_val, y_pred_val), 3)\n",
    "    val_rmse = round(root_mean_squared_error(y_val, y_pred_val), 3)\n",
    "    val_r2 = round(r2_score(y_val, y_pred_val), 3)\n",
    "\n",
    "    show_plots(y_train, y_pred_train, 'training')\n",
    "    show_plots(y_val, y_pred_val, 'validation')\n",
    "\n",
    "\n",
    "    model_scores_df.loc[len(model_scores_df)] = [str(model), 'training', train_mse, train_mae, train_rmse, train_r2]\n",
    "    model_scores_df.loc[len(model_scores_df)] = [str(model), 'validation', val_mse, val_mae, val_rmse, val_r2]\n",
    "\n",
    "\n",
    "    feature_importnces = feature_importance_method(pipeline, target_attribute)\n",
    "    \n",
    "    return model_scores_df, feature_importnces"
   ]
  },
  {
   "cell_type": "code",
   "execution_count": 173,
   "metadata": {},
   "outputs": [
    {
     "name": "stderr",
     "output_type": "stream",
     "text": [
      "c:\\Users\\karin\\.Studia\\magisterka\\Master_project\\.venv\\Lib\\site-packages\\sklearn\\impute\\_iterative.py:801: ConvergenceWarning: [IterativeImputer] Early stopping criterion not reached.\n",
      "  warnings.warn(\n"
     ]
    },
    {
     "data": {
      "image/png": "[encoded data removed]",
      "text/plain": [
       "<Figure size 800x400 with 2 Axes>"
      ]
     },
     "metadata": {},
     "output_type": "display_data"
    },
    {
     "data": {
      "image/png": "[encoded data removed]",
      "text/plain": [
       "<Figure size 800x400 with 2 Axes>"
      ]
     },
     "metadata": {},
     "output_type": "display_data"
    },
    {
     "data": {
      "image/png": "[encoded data removed]",
      "text/plain": [
       "<Figure size 640x480 with 1 Axes>"
      ]
     },
     "metadata": {},
     "output_type": "display_data"
    },
    {
     "data": {
      "text/html": [
       "<div>\n",
       "<style scoped>\n",
       "    .dataframe tbody tr th:only-of-type {\n",
       "        vertical-align: middle;\n",
       "    }\n",
       "\n",
       "    .dataframe tbody tr th {\n",
       "        vertical-align: top;\n",
       "    }\n",
       "\n",
       "    .dataframe thead th {\n",
       "        text-align: right;\n",
       "    }\n",
       "</style>\n",
       "<table border=\"1\" class=\"dataframe\">\n",
       "  <thead>\n",
       "    <tr style=\"text-align: right;\">\n",
       "      <th></th>\n",
       "      <th>model</th>\n",
       "      <th>test_set</th>\n",
       "      <th>mse</th>\n",
       "      <th>mae</th>\n",
       "      <th>rmse</th>\n",
       "      <th>r2</th>\n",
       "    </tr>\n",
       "  </thead>\n",
       "  <tbody>\n",
       "    <tr>\n",
       "      <th>0</th>\n",
       "      <td>Lasso(alpha=1)</td>\n",
       "      <td>training</td>\n",
       "      <td>120.051</td>\n",
       "      <td>8.510</td>\n",
       "      <td>10.957</td>\n",
       "      <td>0.146</td>\n",
       "    </tr>\n",
       "    <tr>\n",
       "      <th>1</th>\n",
       "      <td>Lasso(alpha=1)</td>\n",
       "      <td>validation</td>\n",
       "      <td>248.881</td>\n",
       "      <td>10.486</td>\n",
       "      <td>15.776</td>\n",
       "      <td>0.099</td>\n",
       "    </tr>\n",
       "  </tbody>\n",
       "</table>\n",
       "</div>"
      ],
      "text/plain": [
       "            model    test_set      mse     mae    rmse     r2\n",
       "0  Lasso(alpha=1)    training  120.051   8.510  10.957  0.146\n",
       "1  Lasso(alpha=1)  validation  248.881  10.486  15.776  0.099"
      ]
     },
     "execution_count": 173,
     "metadata": {},
     "output_type": "execute_result"
    }
   ],
   "source": [
    "lasso_model = Lasso(alpha=1)\n",
    "\n",
    "vit_d_model_scores_df, feature_importnces_lasso = train_model(lasso_model, vit_d, get_feature_importance_lasso)\n",
    "vit_d_model_scores_df"
   ]
  },
  {
   "cell_type": "code",
   "execution_count": 140,
   "metadata": {},
   "outputs": [
    {
     "name": "stderr",
     "output_type": "stream",
     "text": [
      "c:\\Users\\karin\\.Studia\\magisterka\\Master_project\\.venv\\Lib\\site-packages\\sklearn\\impute\\_iterative.py:801: ConvergenceWarning: [IterativeImputer] Early stopping criterion not reached.\n",
      "  warnings.warn(\n"
     ]
    },
    {
     "data": {
      "image/png": "[encoded data removed]",
      "text/plain": [
       "<Figure size 800x400 with 2 Axes>"
      ]
     },
     "metadata": {},
     "output_type": "display_data"
    },
    {
     "data": {
      "image/png": "[encoded data removed]",
      "text/plain": [
       "<Figure size 800x400 with 2 Axes>"
      ]
     },
     "metadata": {},
     "output_type": "display_data"
    },
    {
     "data": {
      "image/png": "[encoded data removed]",
      "text/plain": [
       "<Figure size 640x480 with 1 Axes>"
      ]
     },
     "metadata": {},
     "output_type": "display_data"
    },
    {
     "data": {
      "text/html": [
       "<div>\n",
       "<style scoped>\n",
       "    .dataframe tbody tr th:only-of-type {\n",
       "        vertical-align: middle;\n",
       "    }\n",
       "\n",
       "    .dataframe tbody tr th {\n",
       "        vertical-align: top;\n",
       "    }\n",
       "\n",
       "    .dataframe thead th {\n",
       "        text-align: right;\n",
       "    }\n",
       "</style>\n",
       "<table border=\"1\" class=\"dataframe\">\n",
       "  <thead>\n",
       "    <tr style=\"text-align: right;\">\n",
       "      <th></th>\n",
       "      <th>model</th>\n",
       "      <th>test_set</th>\n",
       "      <th>mse</th>\n",
       "      <th>mae</th>\n",
       "      <th>rmse</th>\n",
       "      <th>r2</th>\n",
       "    </tr>\n",
       "  </thead>\n",
       "  <tbody>\n",
       "    <tr>\n",
       "      <th>0</th>\n",
       "      <td>Ridge(alpha=1000)</td>\n",
       "      <td>training</td>\n",
       "      <td>113.844</td>\n",
       "      <td>8.265</td>\n",
       "      <td>10.670</td>\n",
       "      <td>0.190</td>\n",
       "    </tr>\n",
       "    <tr>\n",
       "      <th>1</th>\n",
       "      <td>Ridge(alpha=1000)</td>\n",
       "      <td>validation</td>\n",
       "      <td>246.682</td>\n",
       "      <td>10.440</td>\n",
       "      <td>15.706</td>\n",
       "      <td>0.107</td>\n",
       "    </tr>\n",
       "  </tbody>\n",
       "</table>\n",
       "</div>"
      ],
      "text/plain": [
       "               model    test_set      mse     mae    rmse     r2\n",
       "0  Ridge(alpha=1000)    training  113.844   8.265  10.670  0.190\n",
       "1  Ridge(alpha=1000)  validation  246.682  10.440  15.706  0.107"
      ]
     },
     "execution_count": 140,
     "metadata": {},
     "output_type": "execute_result"
    }
   ],
   "source": [
    "ridge_model = Ridge(alpha=1000)\n",
    "\n",
    "vit_d_model_scores_df, feature_importnces_ridge = train_model(ridge_model, vit_d, get_feature_importance_lasso)\n",
    "vit_d_model_scores_df"
   ]
  },
  {
   "cell_type": "code",
   "execution_count": 141,
   "metadata": {},
   "outputs": [
    {
     "data": {
      "text/html": [
       "<div>\n",
       "<style scoped>\n",
       "    .dataframe tbody tr th:only-of-type {\n",
       "        vertical-align: middle;\n",
       "    }\n",
       "\n",
       "    .dataframe tbody tr th {\n",
       "        vertical-align: top;\n",
       "    }\n",
       "\n",
       "    .dataframe thead th {\n",
       "        text-align: right;\n",
       "    }\n",
       "</style>\n",
       "<table border=\"1\" class=\"dataframe\">\n",
       "  <thead>\n",
       "    <tr style=\"text-align: right;\">\n",
       "      <th></th>\n",
       "      <th>feature</th>\n",
       "      <th>importance</th>\n",
       "    </tr>\n",
       "  </thead>\n",
       "  <tbody>\n",
       "    <tr>\n",
       "      <th>54</th>\n",
       "      <td>creatinine mg/dl</td>\n",
       "      <td>0.674819</td>\n",
       "    </tr>\n",
       "    <tr>\n",
       "      <th>100</th>\n",
       "      <td>Parathormone pg/ml</td>\n",
       "      <td>-0.595077</td>\n",
       "    </tr>\n",
       "    <tr>\n",
       "      <th>86</th>\n",
       "      <td>TSH mIU/L</td>\n",
       "      <td>-0.428180</td>\n",
       "    </tr>\n",
       "    <tr>\n",
       "      <th>113</th>\n",
       "      <td>age</td>\n",
       "      <td>0.362338</td>\n",
       "    </tr>\n",
       "    <tr>\n",
       "      <th>52</th>\n",
       "      <td>calcium mg/dl</td>\n",
       "      <td>0.334873</td>\n",
       "    </tr>\n",
       "    <tr>\n",
       "      <th>50</th>\n",
       "      <td>sodium mmol/l</td>\n",
       "      <td>-0.318920</td>\n",
       "    </tr>\n",
       "    <tr>\n",
       "      <th>105</th>\n",
       "      <td>FTI (free testosterone index)</td>\n",
       "      <td>-0.269709</td>\n",
       "    </tr>\n",
       "    <tr>\n",
       "      <th>104</th>\n",
       "      <td>SHBG nmol/l</td>\n",
       "      <td>0.264808</td>\n",
       "    </tr>\n",
       "    <tr>\n",
       "      <th>30</th>\n",
       "      <td>RBC x10^6ul</td>\n",
       "      <td>-0.255666</td>\n",
       "    </tr>\n",
       "    <tr>\n",
       "      <th>51</th>\n",
       "      <td>potassium mmol/l</td>\n",
       "      <td>0.248672</td>\n",
       "    </tr>\n",
       "    <tr>\n",
       "      <th>31</th>\n",
       "      <td>Hemoglobin [g/dl]</td>\n",
       "      <td>-0.244268</td>\n",
       "    </tr>\n",
       "    <tr>\n",
       "      <th>32</th>\n",
       "      <td>hematocrit [%]</td>\n",
       "      <td>-0.243682</td>\n",
       "    </tr>\n",
       "    <tr>\n",
       "      <th>109</th>\n",
       "      <td>17-OH-progesterone ng/ml</td>\n",
       "      <td>-0.241218</td>\n",
       "    </tr>\n",
       "    <tr>\n",
       "      <th>95</th>\n",
       "      <td>DHEA-S ug/dl</td>\n",
       "      <td>-0.239464</td>\n",
       "    </tr>\n",
       "    <tr>\n",
       "      <th>138</th>\n",
       "      <td>1_PCOS</td>\n",
       "      <td>-0.238781</td>\n",
       "    </tr>\n",
       "    <tr>\n",
       "      <th>21</th>\n",
       "      <td>lymphocytes x10^3/ul</td>\n",
       "      <td>-0.235792</td>\n",
       "    </tr>\n",
       "    <tr>\n",
       "      <th>98</th>\n",
       "      <td>T/SHBG</td>\n",
       "      <td>-0.231398</td>\n",
       "    </tr>\n",
       "    <tr>\n",
       "      <th>101</th>\n",
       "      <td>cortisol nmol/l  8:00</td>\n",
       "      <td>0.224584</td>\n",
       "    </tr>\n",
       "    <tr>\n",
       "      <th>45</th>\n",
       "      <td>PLR</td>\n",
       "      <td>0.223781</td>\n",
       "    </tr>\n",
       "    <tr>\n",
       "      <th>16</th>\n",
       "      <td>Vole of the Right Ovary</td>\n",
       "      <td>-0.223088</td>\n",
       "    </tr>\n",
       "    <tr>\n",
       "      <th>10</th>\n",
       "      <td>WHR (Waist/Hip ratio)</td>\n",
       "      <td>0.216542</td>\n",
       "    </tr>\n",
       "    <tr>\n",
       "      <th>7</th>\n",
       "      <td>diastolic BP (ciśnienie rozskurczowe)</td>\n",
       "      <td>0.203521</td>\n",
       "    </tr>\n",
       "    <tr>\n",
       "      <th>3</th>\n",
       "      <td>weight</td>\n",
       "      <td>-0.200434</td>\n",
       "    </tr>\n",
       "    <tr>\n",
       "      <th>22</th>\n",
       "      <td>monocytes x10^3/ul</td>\n",
       "      <td>-0.198350</td>\n",
       "    </tr>\n",
       "    <tr>\n",
       "      <th>107</th>\n",
       "      <td>HbA1c %</td>\n",
       "      <td>0.192285</td>\n",
       "    </tr>\n",
       "    <tr>\n",
       "      <th>108</th>\n",
       "      <td>Androstendione ng/ml</td>\n",
       "      <td>-0.187098</td>\n",
       "    </tr>\n",
       "    <tr>\n",
       "      <th>53</th>\n",
       "      <td>phosphorus mg/dl</td>\n",
       "      <td>0.186683</td>\n",
       "    </tr>\n",
       "    <tr>\n",
       "      <th>4</th>\n",
       "      <td>height (cm)</td>\n",
       "      <td>-0.186665</td>\n",
       "    </tr>\n",
       "    <tr>\n",
       "      <th>19</th>\n",
       "      <td>WBC x10^3/ul</td>\n",
       "      <td>-0.182022</td>\n",
       "    </tr>\n",
       "    <tr>\n",
       "      <th>43</th>\n",
       "      <td>PLT/WBC</td>\n",
       "      <td>0.181967</td>\n",
       "    </tr>\n",
       "    <tr>\n",
       "      <th>18</th>\n",
       "      <td>ovaries volume - total</td>\n",
       "      <td>-0.174681</td>\n",
       "    </tr>\n",
       "    <tr>\n",
       "      <th>37</th>\n",
       "      <td>RDW-CV %</td>\n",
       "      <td>-0.161871</td>\n",
       "    </tr>\n",
       "    <tr>\n",
       "      <th>5</th>\n",
       "      <td>BMI</td>\n",
       "      <td>-0.159201</td>\n",
       "    </tr>\n",
       "    <tr>\n",
       "      <th>89</th>\n",
       "      <td>Anty-TPO IU/ml</td>\n",
       "      <td>0.154446</td>\n",
       "    </tr>\n",
       "    <tr>\n",
       "      <th>81</th>\n",
       "      <td>insulin 0 uU/ml</td>\n",
       "      <td>-0.152083</td>\n",
       "    </tr>\n",
       "    <tr>\n",
       "      <th>87</th>\n",
       "      <td>FT3 pmol/l</td>\n",
       "      <td>-0.147496</td>\n",
       "    </tr>\n",
       "    <tr>\n",
       "      <th>123</th>\n",
       "      <td>acne</td>\n",
       "      <td>-0.146951</td>\n",
       "    </tr>\n",
       "    <tr>\n",
       "      <th>85</th>\n",
       "      <td>QUICKI (N&lt;0,357)</td>\n",
       "      <td>0.146428</td>\n",
       "    </tr>\n",
       "    <tr>\n",
       "      <th>91</th>\n",
       "      <td>FSH mlU/ml</td>\n",
       "      <td>0.145484</td>\n",
       "    </tr>\n",
       "    <tr>\n",
       "      <th>40</th>\n",
       "      <td>PDW fl</td>\n",
       "      <td>-0.142691</td>\n",
       "    </tr>\n",
       "    <tr>\n",
       "      <th>75</th>\n",
       "      <td>ferrum ug/dl</td>\n",
       "      <td>-0.142187</td>\n",
       "    </tr>\n",
       "    <tr>\n",
       "      <th>83</th>\n",
       "      <td>HOMA</td>\n",
       "      <td>-0.141024</td>\n",
       "    </tr>\n",
       "    <tr>\n",
       "      <th>36</th>\n",
       "      <td>MCHC g/dl</td>\n",
       "      <td>-0.138553</td>\n",
       "    </tr>\n",
       "    <tr>\n",
       "      <th>102</th>\n",
       "      <td>cortisol nmol/l 18:00</td>\n",
       "      <td>-0.137151</td>\n",
       "    </tr>\n",
       "    <tr>\n",
       "      <th>152</th>\n",
       "      <td>birth_quarter_4</td>\n",
       "      <td>0.134443</td>\n",
       "    </tr>\n",
       "    <tr>\n",
       "      <th>111</th>\n",
       "      <td>Testosterone/DHT</td>\n",
       "      <td>-0.132199</td>\n",
       "    </tr>\n",
       "    <tr>\n",
       "      <th>14</th>\n",
       "      <td>Volume of the thyroid  Left Lobe</td>\n",
       "      <td>-0.131639</td>\n",
       "    </tr>\n",
       "    <tr>\n",
       "      <th>42</th>\n",
       "      <td>P-LCR %</td>\n",
       "      <td>-0.121212</td>\n",
       "    </tr>\n",
       "    <tr>\n",
       "      <th>25</th>\n",
       "      <td>% neutrophil</td>\n",
       "      <td>0.113754</td>\n",
       "    </tr>\n",
       "    <tr>\n",
       "      <th>126</th>\n",
       "      <td>hypothyroidism</td>\n",
       "      <td>0.113556</td>\n",
       "    </tr>\n",
       "    <tr>\n",
       "      <th>158</th>\n",
       "      <td>birth_month_6</td>\n",
       "      <td>-0.113107</td>\n",
       "    </tr>\n",
       "    <tr>\n",
       "      <th>144</th>\n",
       "      <td>2_obesity</td>\n",
       "      <td>-0.112590</td>\n",
       "    </tr>\n",
       "    <tr>\n",
       "      <th>34</th>\n",
       "      <td>MCV fl</td>\n",
       "      <td>0.108144</td>\n",
       "    </tr>\n",
       "    <tr>\n",
       "      <th>150</th>\n",
       "      <td>birth_quarter_2</td>\n",
       "      <td>-0.104755</td>\n",
       "    </tr>\n",
       "    <tr>\n",
       "      <th>132</th>\n",
       "      <td>HDL&lt;50</td>\n",
       "      <td>-0.103573</td>\n",
       "    </tr>\n",
       "    <tr>\n",
       "      <th>24</th>\n",
       "      <td>basophils x10^3/ul</td>\n",
       "      <td>-0.103487</td>\n",
       "    </tr>\n",
       "  </tbody>\n",
       "</table>\n",
       "</div>"
      ],
      "text/plain": [
       "                                   feature  importance\n",
       "54                        creatinine mg/dl    0.674819\n",
       "100                     Parathormone pg/ml   -0.595077\n",
       "86                               TSH mIU/L   -0.428180\n",
       "113                                    age    0.362338\n",
       "52                           calcium mg/dl    0.334873\n",
       "50                           sodium mmol/l   -0.318920\n",
       "105          FTI (free testosterone index)   -0.269709\n",
       "104                            SHBG nmol/l    0.264808\n",
       "30                             RBC x10^6ul   -0.255666\n",
       "51                        potassium mmol/l    0.248672\n",
       "31                       Hemoglobin [g/dl]   -0.244268\n",
       "32                          hematocrit [%]   -0.243682\n",
       "109               17-OH-progesterone ng/ml   -0.241218\n",
       "95                            DHEA-S ug/dl   -0.239464\n",
       "138                                 1_PCOS   -0.238781\n",
       "21                    lymphocytes x10^3/ul   -0.235792\n",
       "98                                  T/SHBG   -0.231398\n",
       "101                  cortisol nmol/l  8:00    0.224584\n",
       "45                                     PLR    0.223781\n",
       "16                 Vole of the Right Ovary   -0.223088\n",
       "10                   WHR (Waist/Hip ratio)    0.216542\n",
       "7    diastolic BP (ciśnienie rozskurczowe)    0.203521\n",
       "3                                   weight   -0.200434\n",
       "22                      monocytes x10^3/ul   -0.198350\n",
       "107                                HbA1c %    0.192285\n",
       "108                   Androstendione ng/ml   -0.187098\n",
       "53                        phosphorus mg/dl    0.186683\n",
       "4                              height (cm)   -0.186665\n",
       "19                            WBC x10^3/ul   -0.182022\n",
       "43                                 PLT/WBC    0.181967\n",
       "18                  ovaries volume - total   -0.174681\n",
       "37                                RDW-CV %   -0.161871\n",
       "5                                      BMI   -0.159201\n",
       "89                          Anty-TPO IU/ml    0.154446\n",
       "81                         insulin 0 uU/ml   -0.152083\n",
       "87                              FT3 pmol/l   -0.147496\n",
       "123                                   acne   -0.146951\n",
       "85                        QUICKI (N<0,357)    0.146428\n",
       "91                              FSH mlU/ml    0.145484\n",
       "40                                  PDW fl   -0.142691\n",
       "75                            ferrum ug/dl   -0.142187\n",
       "83                                    HOMA   -0.141024\n",
       "36                               MCHC g/dl   -0.138553\n",
       "102                  cortisol nmol/l 18:00   -0.137151\n",
       "152                        birth_quarter_4    0.134443\n",
       "111                       Testosterone/DHT   -0.132199\n",
       "14        Volume of the thyroid  Left Lobe   -0.131639\n",
       "42                                 P-LCR %   -0.121212\n",
       "25                           % neutrophil     0.113754\n",
       "126                         hypothyroidism    0.113556\n",
       "158                          birth_month_6   -0.113107\n",
       "144                              2_obesity   -0.112590\n",
       "34                                  MCV fl    0.108144\n",
       "150                        birth_quarter_2   -0.104755\n",
       "132                                 HDL<50   -0.103573\n",
       "24                      basophils x10^3/ul   -0.103487"
      ]
     },
     "execution_count": 141,
     "metadata": {},
     "output_type": "execute_result"
    }
   ],
   "source": [
    "feature_importnces_ridge"
   ]
  },
  {
   "cell_type": "code",
   "execution_count": 133,
   "metadata": {},
   "outputs": [
    {
     "name": "stderr",
     "output_type": "stream",
     "text": [
      "c:\\Users\\karin\\.Studia\\magisterka\\Master_project\\.venv\\Lib\\site-packages\\sklearn\\impute\\_iterative.py:801: ConvergenceWarning: [IterativeImputer] Early stopping criterion not reached.\n",
      "  warnings.warn(\n"
     ]
    },
    {
     "data": {
      "image/png": "[encoded data removed]",
      "text/plain": [
       "<Figure size 800x400 with 2 Axes>"
      ]
     },
     "metadata": {},
     "output_type": "display_data"
    },
    {
     "data": {
      "image/png": "[encoded data removed]",
      "text/plain": [
       "<Figure size 800x400 with 2 Axes>"
      ]
     },
     "metadata": {},
     "output_type": "display_data"
    },
    {
     "data": {
      "image/png": "[encoded data removed]",
      "text/plain": [
       "<Figure size 640x480 with 1 Axes>"
      ]
     },
     "metadata": {},
     "output_type": "display_data"
    },
    {
     "data": {
      "image/png": "[encoded data removed]",
      "text/plain": [
       "<Figure size 640x480 with 1 Axes>"
      ]
     },
     "metadata": {},
     "output_type": "display_data"
    },
    {
     "data": {
      "text/html": [
       "<div>\n",
       "<style scoped>\n",
       "    .dataframe tbody tr th:only-of-type {\n",
       "        vertical-align: middle;\n",
       "    }\n",
       "\n",
       "    .dataframe tbody tr th {\n",
       "        vertical-align: top;\n",
       "    }\n",
       "\n",
       "    .dataframe thead th {\n",
       "        text-align: right;\n",
       "    }\n",
       "</style>\n",
       "<table border=\"1\" class=\"dataframe\">\n",
       "  <thead>\n",
       "    <tr style=\"text-align: right;\">\n",
       "      <th></th>\n",
       "      <th>model</th>\n",
       "      <th>test_set</th>\n",
       "      <th>mse</th>\n",
       "      <th>mae</th>\n",
       "      <th>rmse</th>\n",
       "      <th>r2</th>\n",
       "    </tr>\n",
       "  </thead>\n",
       "  <tbody>\n",
       "    <tr>\n",
       "      <th>0</th>\n",
       "      <td>DecisionTreeRegressor(criterion='absolute_error', max_depth=2,\\n                      min_samples_leaf=20, min_samples_split=15,\\n                      random_state=41, splitter='random')</td>\n",
       "      <td>training</td>\n",
       "      <td>134.312</td>\n",
       "      <td>8.710</td>\n",
       "      <td>11.589</td>\n",
       "      <td>0.045</td>\n",
       "    </tr>\n",
       "    <tr>\n",
       "      <th>1</th>\n",
       "      <td>DecisionTreeRegressor(criterion='absolute_error', max_depth=2,\\n                      min_samples_leaf=20, min_samples_split=15,\\n                      random_state=41, splitter='random')</td>\n",
       "      <td>validation</td>\n",
       "      <td>275.080</td>\n",
       "      <td>10.812</td>\n",
       "      <td>16.586</td>\n",
       "      <td>0.004</td>\n",
       "    </tr>\n",
       "  </tbody>\n",
       "</table>\n",
       "</div>"
      ],
      "text/plain": [
       "                                                                                                                                                                                         model    test_set      mse     mae    rmse     r2\n",
       "0  DecisionTreeRegressor(criterion='absolute_error', max_depth=2,\\n                      min_samples_leaf=20, min_samples_split=15,\\n                      random_state=41, splitter='random')    training  134.312   8.710  11.589  0.045\n",
       "1  DecisionTreeRegressor(criterion='absolute_error', max_depth=2,\\n                      min_samples_leaf=20, min_samples_split=15,\\n                      random_state=41, splitter='random')  validation  275.080  10.812  16.586  0.004"
      ]
     },
     "execution_count": 133,
     "metadata": {},
     "output_type": "execute_result"
    }
   ],
   "source": [
    "tree_model = DecisionTreeRegressor(criterion='absolute_error', splitter='random', max_depth=2, min_samples_leaf=20, min_samples_split=15, random_state=41)\n",
    "vit_d_model_scores_df, feature_importnces_tree = train_model(tree_model, vit_d, get_feature_importance_tree)\n",
    "vit_d_model_scores_df"
   ]
  },
  {
   "cell_type": "markdown",
   "metadata": {},
   "source": [
    "Most important attributes for `vitamin D`: 'creatinine mg/dl', 'Parathormone pg/ml', 'FTI (free testosterone index)'"
   ]
  }
 ],
 "metadata": {
  "kernelspec": {
   "display_name": "venv",
   "language": "python",
   "name": "python3"
  },
  "language_info": {
   "codemirror_mode": {
    "name": "ipython",
    "version": 3
   },
   "file_extension": ".py",
   "mimetype": "text/x-python",
   "name": "python",
   "nbconvert_exporter": "python",
   "pygments_lexer": "ipython3",
   "version": "3.12.2"
  }
 },
 "nbformat": 4,
 "nbformat_minor": 2
}
